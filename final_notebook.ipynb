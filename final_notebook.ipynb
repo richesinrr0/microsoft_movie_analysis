{
 "cells": [
  {
   "cell_type": "markdown",
   "metadata": {},
   "source": [
    "# *Merged Jupyter Notebook*"
   ]
  },
  {
   "cell_type": "markdown",
   "metadata": {},
   "source": [
    "<hr><font color=\"green\"><h1>from file: Aseasonal_profits_tables</h1></font>"
   ]
  },
  {
   "cell_type": "markdown",
   "metadata": {},
   "source": [
    "# Seasonal Profits Tables"
   ]
  },
  {
   "cell_type": "markdown",
   "metadata": {},
   "source": [
    "**Import programs so all functions and methods work**"
   ]
  },
  {
   "cell_type": "code",
   "execution_count": 1,
   "metadata": {},
   "outputs": [],
   "source": [
    "import pandas as pd\n",
    "import matplotlib.pyplot as plt\n",
    "import seaborn as sns\n",
    "import numpy as np\n",
    "import warnings\n",
    "warnings.filterwarnings('ignore')"
   ]
  },
  {
   "cell_type": "markdown",
   "metadata": {},
   "source": [
    "**Read in datadrame containing budget and print to see what the dataframe contains**"
   ]
  },
  {
   "cell_type": "code",
   "execution_count": 2,
   "metadata": {},
   "outputs": [
    {
     "data": {
      "text/html": [
       "<div>\n",
       "<style scoped>\n",
       "    .dataframe tbody tr th:only-of-type {\n",
       "        vertical-align: middle;\n",
       "    }\n",
       "\n",
       "    .dataframe tbody tr th {\n",
       "        vertical-align: top;\n",
       "    }\n",
       "\n",
       "    .dataframe thead th {\n",
       "        text-align: right;\n",
       "    }\n",
       "</style>\n",
       "<table border=\"1\" class=\"dataframe\">\n",
       "  <thead>\n",
       "    <tr style=\"text-align: right;\">\n",
       "      <th></th>\n",
       "      <th>id</th>\n",
       "      <th>release_date</th>\n",
       "      <th>movie</th>\n",
       "      <th>production_budget</th>\n",
       "      <th>domestic_gross</th>\n",
       "      <th>worldwide_gross</th>\n",
       "    </tr>\n",
       "  </thead>\n",
       "  <tbody>\n",
       "    <tr>\n",
       "      <th>0</th>\n",
       "      <td>1</td>\n",
       "      <td>Dec 18, 2009</td>\n",
       "      <td>Avatar</td>\n",
       "      <td>$425,000,000</td>\n",
       "      <td>$760,507,625</td>\n",
       "      <td>$2,776,345,279</td>\n",
       "    </tr>\n",
       "    <tr>\n",
       "      <th>1</th>\n",
       "      <td>2</td>\n",
       "      <td>May 20, 2011</td>\n",
       "      <td>Pirates of the Caribbean: On Stranger Tides</td>\n",
       "      <td>$410,600,000</td>\n",
       "      <td>$241,063,875</td>\n",
       "      <td>$1,045,663,875</td>\n",
       "    </tr>\n",
       "    <tr>\n",
       "      <th>2</th>\n",
       "      <td>3</td>\n",
       "      <td>Jun 7, 2019</td>\n",
       "      <td>Dark Phoenix</td>\n",
       "      <td>$350,000,000</td>\n",
       "      <td>$42,762,350</td>\n",
       "      <td>$149,762,350</td>\n",
       "    </tr>\n",
       "    <tr>\n",
       "      <th>3</th>\n",
       "      <td>4</td>\n",
       "      <td>May 1, 2015</td>\n",
       "      <td>Avengers: Age of Ultron</td>\n",
       "      <td>$330,600,000</td>\n",
       "      <td>$459,005,868</td>\n",
       "      <td>$1,403,013,963</td>\n",
       "    </tr>\n",
       "    <tr>\n",
       "      <th>4</th>\n",
       "      <td>5</td>\n",
       "      <td>Dec 15, 2017</td>\n",
       "      <td>Star Wars Ep. VIII: The Last Jedi</td>\n",
       "      <td>$317,000,000</td>\n",
       "      <td>$620,181,382</td>\n",
       "      <td>$1,316,721,747</td>\n",
       "    </tr>\n",
       "    <tr>\n",
       "      <th>...</th>\n",
       "      <td>...</td>\n",
       "      <td>...</td>\n",
       "      <td>...</td>\n",
       "      <td>...</td>\n",
       "      <td>...</td>\n",
       "      <td>...</td>\n",
       "    </tr>\n",
       "    <tr>\n",
       "      <th>5777</th>\n",
       "      <td>78</td>\n",
       "      <td>Dec 31, 2018</td>\n",
       "      <td>Red 11</td>\n",
       "      <td>$7,000</td>\n",
       "      <td>$0</td>\n",
       "      <td>$0</td>\n",
       "    </tr>\n",
       "    <tr>\n",
       "      <th>5778</th>\n",
       "      <td>79</td>\n",
       "      <td>Apr 2, 1999</td>\n",
       "      <td>Following</td>\n",
       "      <td>$6,000</td>\n",
       "      <td>$48,482</td>\n",
       "      <td>$240,495</td>\n",
       "    </tr>\n",
       "    <tr>\n",
       "      <th>5779</th>\n",
       "      <td>80</td>\n",
       "      <td>Jul 13, 2005</td>\n",
       "      <td>Return to the Land of Wonders</td>\n",
       "      <td>$5,000</td>\n",
       "      <td>$1,338</td>\n",
       "      <td>$1,338</td>\n",
       "    </tr>\n",
       "    <tr>\n",
       "      <th>5780</th>\n",
       "      <td>81</td>\n",
       "      <td>Sep 29, 2015</td>\n",
       "      <td>A Plague So Pleasant</td>\n",
       "      <td>$1,400</td>\n",
       "      <td>$0</td>\n",
       "      <td>$0</td>\n",
       "    </tr>\n",
       "    <tr>\n",
       "      <th>5781</th>\n",
       "      <td>82</td>\n",
       "      <td>Aug 5, 2005</td>\n",
       "      <td>My Date With Drew</td>\n",
       "      <td>$1,100</td>\n",
       "      <td>$181,041</td>\n",
       "      <td>$181,041</td>\n",
       "    </tr>\n",
       "  </tbody>\n",
       "</table>\n",
       "<p>5782 rows × 6 columns</p>\n",
       "</div>"
      ],
      "text/plain": [
       "      id  release_date                                        movie  \\\n",
       "0      1  Dec 18, 2009                                       Avatar   \n",
       "1      2  May 20, 2011  Pirates of the Caribbean: On Stranger Tides   \n",
       "2      3   Jun 7, 2019                                 Dark Phoenix   \n",
       "3      4   May 1, 2015                      Avengers: Age of Ultron   \n",
       "4      5  Dec 15, 2017            Star Wars Ep. VIII: The Last Jedi   \n",
       "...   ..           ...                                          ...   \n",
       "5777  78  Dec 31, 2018                                       Red 11   \n",
       "5778  79   Apr 2, 1999                                    Following   \n",
       "5779  80  Jul 13, 2005                Return to the Land of Wonders   \n",
       "5780  81  Sep 29, 2015                         A Plague So Pleasant   \n",
       "5781  82   Aug 5, 2005                            My Date With Drew   \n",
       "\n",
       "     production_budget domestic_gross worldwide_gross  \n",
       "0         $425,000,000   $760,507,625  $2,776,345,279  \n",
       "1         $410,600,000   $241,063,875  $1,045,663,875  \n",
       "2         $350,000,000    $42,762,350    $149,762,350  \n",
       "3         $330,600,000   $459,005,868  $1,403,013,963  \n",
       "4         $317,000,000   $620,181,382  $1,316,721,747  \n",
       "...                ...            ...             ...  \n",
       "5777            $7,000             $0              $0  \n",
       "5778            $6,000        $48,482        $240,495  \n",
       "5779            $5,000         $1,338          $1,338  \n",
       "5780            $1,400             $0              $0  \n",
       "5781            $1,100       $181,041        $181,041  \n",
       "\n",
       "[5782 rows x 6 columns]"
      ]
     },
     "execution_count": 2,
     "metadata": {},
     "output_type": "execute_result"
    }
   ],
   "source": [
    "budget = pd.read_csv('data/zippedData/tn.movie_budgets.csv.gz')\n",
    "budget"
   ]
  },
  {
   "cell_type": "markdown",
   "metadata": {},
   "source": [
    "**Write a function to get all the months and create a column with their names for easier access when making boxplot. Assign new seasons column as 'Seasons'**"
   ]
  },
  {
   "cell_type": "code",
   "execution_count": 3,
   "metadata": {},
   "outputs": [
    {
     "data": {
      "text/html": [
       "<div>\n",
       "<style scoped>\n",
       "    .dataframe tbody tr th:only-of-type {\n",
       "        vertical-align: middle;\n",
       "    }\n",
       "\n",
       "    .dataframe tbody tr th {\n",
       "        vertical-align: top;\n",
       "    }\n",
       "\n",
       "    .dataframe thead th {\n",
       "        text-align: right;\n",
       "    }\n",
       "</style>\n",
       "<table border=\"1\" class=\"dataframe\">\n",
       "  <thead>\n",
       "    <tr style=\"text-align: right;\">\n",
       "      <th></th>\n",
       "      <th>id</th>\n",
       "      <th>release_date</th>\n",
       "      <th>movie</th>\n",
       "      <th>production_budget</th>\n",
       "      <th>domestic_gross</th>\n",
       "      <th>worldwide_gross</th>\n",
       "      <th>Season</th>\n",
       "    </tr>\n",
       "  </thead>\n",
       "  <tbody>\n",
       "    <tr>\n",
       "      <th>0</th>\n",
       "      <td>1</td>\n",
       "      <td>Dec 18, 2009</td>\n",
       "      <td>Avatar</td>\n",
       "      <td>$425,000,000</td>\n",
       "      <td>$760,507,625</td>\n",
       "      <td>$2,776,345,279</td>\n",
       "      <td>Winter</td>\n",
       "    </tr>\n",
       "    <tr>\n",
       "      <th>1</th>\n",
       "      <td>2</td>\n",
       "      <td>May 20, 2011</td>\n",
       "      <td>Pirates of the Caribbean: On Stranger Tides</td>\n",
       "      <td>$410,600,000</td>\n",
       "      <td>$241,063,875</td>\n",
       "      <td>$1,045,663,875</td>\n",
       "      <td>Spring</td>\n",
       "    </tr>\n",
       "    <tr>\n",
       "      <th>2</th>\n",
       "      <td>3</td>\n",
       "      <td>Jun 7, 2019</td>\n",
       "      <td>Dark Phoenix</td>\n",
       "      <td>$350,000,000</td>\n",
       "      <td>$42,762,350</td>\n",
       "      <td>$149,762,350</td>\n",
       "      <td>Summer</td>\n",
       "    </tr>\n",
       "    <tr>\n",
       "      <th>3</th>\n",
       "      <td>4</td>\n",
       "      <td>May 1, 2015</td>\n",
       "      <td>Avengers: Age of Ultron</td>\n",
       "      <td>$330,600,000</td>\n",
       "      <td>$459,005,868</td>\n",
       "      <td>$1,403,013,963</td>\n",
       "      <td>Spring</td>\n",
       "    </tr>\n",
       "    <tr>\n",
       "      <th>4</th>\n",
       "      <td>5</td>\n",
       "      <td>Dec 15, 2017</td>\n",
       "      <td>Star Wars Ep. VIII: The Last Jedi</td>\n",
       "      <td>$317,000,000</td>\n",
       "      <td>$620,181,382</td>\n",
       "      <td>$1,316,721,747</td>\n",
       "      <td>Winter</td>\n",
       "    </tr>\n",
       "    <tr>\n",
       "      <th>...</th>\n",
       "      <td>...</td>\n",
       "      <td>...</td>\n",
       "      <td>...</td>\n",
       "      <td>...</td>\n",
       "      <td>...</td>\n",
       "      <td>...</td>\n",
       "      <td>...</td>\n",
       "    </tr>\n",
       "    <tr>\n",
       "      <th>5777</th>\n",
       "      <td>78</td>\n",
       "      <td>Dec 31, 2018</td>\n",
       "      <td>Red 11</td>\n",
       "      <td>$7,000</td>\n",
       "      <td>$0</td>\n",
       "      <td>$0</td>\n",
       "      <td>Winter</td>\n",
       "    </tr>\n",
       "    <tr>\n",
       "      <th>5778</th>\n",
       "      <td>79</td>\n",
       "      <td>Apr 2, 1999</td>\n",
       "      <td>Following</td>\n",
       "      <td>$6,000</td>\n",
       "      <td>$48,482</td>\n",
       "      <td>$240,495</td>\n",
       "      <td>Spring</td>\n",
       "    </tr>\n",
       "    <tr>\n",
       "      <th>5779</th>\n",
       "      <td>80</td>\n",
       "      <td>Jul 13, 2005</td>\n",
       "      <td>Return to the Land of Wonders</td>\n",
       "      <td>$5,000</td>\n",
       "      <td>$1,338</td>\n",
       "      <td>$1,338</td>\n",
       "      <td>Summer</td>\n",
       "    </tr>\n",
       "    <tr>\n",
       "      <th>5780</th>\n",
       "      <td>81</td>\n",
       "      <td>Sep 29, 2015</td>\n",
       "      <td>A Plague So Pleasant</td>\n",
       "      <td>$1,400</td>\n",
       "      <td>$0</td>\n",
       "      <td>$0</td>\n",
       "      <td>Fall</td>\n",
       "    </tr>\n",
       "    <tr>\n",
       "      <th>5781</th>\n",
       "      <td>82</td>\n",
       "      <td>Aug 5, 2005</td>\n",
       "      <td>My Date With Drew</td>\n",
       "      <td>$1,100</td>\n",
       "      <td>$181,041</td>\n",
       "      <td>$181,041</td>\n",
       "      <td>Summer</td>\n",
       "    </tr>\n",
       "  </tbody>\n",
       "</table>\n",
       "<p>5782 rows × 7 columns</p>\n",
       "</div>"
      ],
      "text/plain": [
       "      id  release_date                                        movie  \\\n",
       "0      1  Dec 18, 2009                                       Avatar   \n",
       "1      2  May 20, 2011  Pirates of the Caribbean: On Stranger Tides   \n",
       "2      3   Jun 7, 2019                                 Dark Phoenix   \n",
       "3      4   May 1, 2015                      Avengers: Age of Ultron   \n",
       "4      5  Dec 15, 2017            Star Wars Ep. VIII: The Last Jedi   \n",
       "...   ..           ...                                          ...   \n",
       "5777  78  Dec 31, 2018                                       Red 11   \n",
       "5778  79   Apr 2, 1999                                    Following   \n",
       "5779  80  Jul 13, 2005                Return to the Land of Wonders   \n",
       "5780  81  Sep 29, 2015                         A Plague So Pleasant   \n",
       "5781  82   Aug 5, 2005                            My Date With Drew   \n",
       "\n",
       "     production_budget domestic_gross worldwide_gross  Season  \n",
       "0         $425,000,000   $760,507,625  $2,776,345,279  Winter  \n",
       "1         $410,600,000   $241,063,875  $1,045,663,875  Spring  \n",
       "2         $350,000,000    $42,762,350    $149,762,350  Summer  \n",
       "3         $330,600,000   $459,005,868  $1,403,013,963  Spring  \n",
       "4         $317,000,000   $620,181,382  $1,316,721,747  Winter  \n",
       "...                ...            ...             ...     ...  \n",
       "5777            $7,000             $0              $0  Winter  \n",
       "5778            $6,000        $48,482        $240,495  Spring  \n",
       "5779            $5,000         $1,338          $1,338  Summer  \n",
       "5780            $1,400             $0              $0    Fall  \n",
       "5781            $1,100       $181,041        $181,041  Summer  \n",
       "\n",
       "[5782 rows x 7 columns]"
      ]
     },
     "execution_count": 3,
     "metadata": {},
     "output_type": "execute_result"
    }
   ],
   "source": [
    "def getSeason(release_date):\n",
    "    if (release_date[0:3] == \"Dec\") or  (release_date[0:3] == \"Jan\") or (release_date[0:3] == \"Feb\"):\n",
    "        return \"Winter\"\n",
    "    elif(release_date[0:3] == \"Mar\") or (release_date[0:3] == \"Apr\") or (release_date[0:3] == \"May\"):\n",
    "        return \"Spring\"\n",
    "    elif(release_date[0:3] == \"Jun\") or (release_date[0:3] == \"Jul\") or (release_date[0:3] == \"Aug\"):\n",
    "        return \"Summer\"\n",
    "    else:\n",
    "        return \"Fall\"\n",
    "    \n",
    "season = budget.release_date.apply(getSeason)\n",
    "budget['Season'] = season\n",
    "budget\n",
    "\n",
    "        "
   ]
  },
  {
   "cell_type": "markdown",
   "metadata": {},
   "source": [
    "**Grab the last four digits of release_date column to retrieve the year. By grabing the last for indexes, the function is guaranteed to only grab the string of numbers pertaining to years**"
   ]
  },
  {
   "cell_type": "code",
   "execution_count": 4,
   "metadata": {},
   "outputs": [],
   "source": [
    "budget[\"year\"] = budget.release_date.apply(lambda x: x[-4:])\n"
   ]
  },
  {
   "cell_type": "markdown",
   "metadata": {},
   "source": [
    "**Make sure the years are cast as ints instead of strings for future callback.**"
   ]
  },
  {
   "cell_type": "code",
   "execution_count": 5,
   "metadata": {},
   "outputs": [],
   "source": [
    "budget.year = budget.year.astype(int)\n"
   ]
  },
  {
   "cell_type": "markdown",
   "metadata": {},
   "source": [
    "**Obtain all years within budget df that is greater than or equal to 2015 because we want our data to include the most recent years**"
   ]
  },
  {
   "cell_type": "code",
   "execution_count": 6,
   "metadata": {},
   "outputs": [],
   "source": [
    "budget = budget[budget.year>=2015]"
   ]
  },
  {
   "cell_type": "markdown",
   "metadata": {},
   "source": [
    "**Grab the first three digits in release_date column to obtain the month -- declare it as variable 'month'. This creates easier access for the months boxplot**"
   ]
  },
  {
   "cell_type": "code",
   "execution_count": 7,
   "metadata": {},
   "outputs": [
    {
     "data": {
      "text/html": [
       "<div>\n",
       "<style scoped>\n",
       "    .dataframe tbody tr th:only-of-type {\n",
       "        vertical-align: middle;\n",
       "    }\n",
       "\n",
       "    .dataframe tbody tr th {\n",
       "        vertical-align: top;\n",
       "    }\n",
       "\n",
       "    .dataframe thead th {\n",
       "        text-align: right;\n",
       "    }\n",
       "</style>\n",
       "<table border=\"1\" class=\"dataframe\">\n",
       "  <thead>\n",
       "    <tr style=\"text-align: right;\">\n",
       "      <th></th>\n",
       "      <th>id</th>\n",
       "      <th>release_date</th>\n",
       "      <th>movie</th>\n",
       "      <th>production_budget</th>\n",
       "      <th>domestic_gross</th>\n",
       "      <th>worldwide_gross</th>\n",
       "      <th>Season</th>\n",
       "      <th>year</th>\n",
       "      <th>month</th>\n",
       "    </tr>\n",
       "  </thead>\n",
       "  <tbody>\n",
       "    <tr>\n",
       "      <th>2</th>\n",
       "      <td>3</td>\n",
       "      <td>Jun 7, 2019</td>\n",
       "      <td>Dark Phoenix</td>\n",
       "      <td>$350,000,000</td>\n",
       "      <td>$42,762,350</td>\n",
       "      <td>$149,762,350</td>\n",
       "      <td>Summer</td>\n",
       "      <td>2019</td>\n",
       "      <td>Jun</td>\n",
       "    </tr>\n",
       "    <tr>\n",
       "      <th>3</th>\n",
       "      <td>4</td>\n",
       "      <td>May 1, 2015</td>\n",
       "      <td>Avengers: Age of Ultron</td>\n",
       "      <td>$330,600,000</td>\n",
       "      <td>$459,005,868</td>\n",
       "      <td>$1,403,013,963</td>\n",
       "      <td>Spring</td>\n",
       "      <td>2015</td>\n",
       "      <td>May</td>\n",
       "    </tr>\n",
       "    <tr>\n",
       "      <th>4</th>\n",
       "      <td>5</td>\n",
       "      <td>Dec 15, 2017</td>\n",
       "      <td>Star Wars Ep. VIII: The Last Jedi</td>\n",
       "      <td>$317,000,000</td>\n",
       "      <td>$620,181,382</td>\n",
       "      <td>$1,316,721,747</td>\n",
       "      <td>Winter</td>\n",
       "      <td>2017</td>\n",
       "      <td>Dec</td>\n",
       "    </tr>\n",
       "    <tr>\n",
       "      <th>5</th>\n",
       "      <td>6</td>\n",
       "      <td>Dec 18, 2015</td>\n",
       "      <td>Star Wars Ep. VII: The Force Awakens</td>\n",
       "      <td>$306,000,000</td>\n",
       "      <td>$936,662,225</td>\n",
       "      <td>$2,053,311,220</td>\n",
       "      <td>Winter</td>\n",
       "      <td>2015</td>\n",
       "      <td>Dec</td>\n",
       "    </tr>\n",
       "    <tr>\n",
       "      <th>6</th>\n",
       "      <td>7</td>\n",
       "      <td>Apr 27, 2018</td>\n",
       "      <td>Avengers: Infinity War</td>\n",
       "      <td>$300,000,000</td>\n",
       "      <td>$678,815,482</td>\n",
       "      <td>$2,048,134,200</td>\n",
       "      <td>Spring</td>\n",
       "      <td>2018</td>\n",
       "      <td>Apr</td>\n",
       "    </tr>\n",
       "    <tr>\n",
       "      <th>...</th>\n",
       "      <td>...</td>\n",
       "      <td>...</td>\n",
       "      <td>...</td>\n",
       "      <td>...</td>\n",
       "      <td>...</td>\n",
       "      <td>...</td>\n",
       "      <td>...</td>\n",
       "      <td>...</td>\n",
       "      <td>...</td>\n",
       "    </tr>\n",
       "    <tr>\n",
       "      <th>5751</th>\n",
       "      <td>52</td>\n",
       "      <td>Dec 1, 2015</td>\n",
       "      <td>Dutch Kills</td>\n",
       "      <td>$25,000</td>\n",
       "      <td>$0</td>\n",
       "      <td>$0</td>\n",
       "      <td>Winter</td>\n",
       "      <td>2015</td>\n",
       "      <td>Dec</td>\n",
       "    </tr>\n",
       "    <tr>\n",
       "      <th>5756</th>\n",
       "      <td>57</td>\n",
       "      <td>Apr 21, 2015</td>\n",
       "      <td>The Front Man</td>\n",
       "      <td>$20,000</td>\n",
       "      <td>$0</td>\n",
       "      <td>$0</td>\n",
       "      <td>Spring</td>\n",
       "      <td>2015</td>\n",
       "      <td>Apr</td>\n",
       "    </tr>\n",
       "    <tr>\n",
       "      <th>5771</th>\n",
       "      <td>72</td>\n",
       "      <td>May 19, 2015</td>\n",
       "      <td>Family Motocross</td>\n",
       "      <td>$10,000</td>\n",
       "      <td>$0</td>\n",
       "      <td>$0</td>\n",
       "      <td>Spring</td>\n",
       "      <td>2015</td>\n",
       "      <td>May</td>\n",
       "    </tr>\n",
       "    <tr>\n",
       "      <th>5777</th>\n",
       "      <td>78</td>\n",
       "      <td>Dec 31, 2018</td>\n",
       "      <td>Red 11</td>\n",
       "      <td>$7,000</td>\n",
       "      <td>$0</td>\n",
       "      <td>$0</td>\n",
       "      <td>Winter</td>\n",
       "      <td>2018</td>\n",
       "      <td>Dec</td>\n",
       "    </tr>\n",
       "    <tr>\n",
       "      <th>5780</th>\n",
       "      <td>81</td>\n",
       "      <td>Sep 29, 2015</td>\n",
       "      <td>A Plague So Pleasant</td>\n",
       "      <td>$1,400</td>\n",
       "      <td>$0</td>\n",
       "      <td>$0</td>\n",
       "      <td>Fall</td>\n",
       "      <td>2015</td>\n",
       "      <td>Sep</td>\n",
       "    </tr>\n",
       "  </tbody>\n",
       "</table>\n",
       "<p>938 rows × 9 columns</p>\n",
       "</div>"
      ],
      "text/plain": [
       "      id  release_date                                 movie  \\\n",
       "2      3   Jun 7, 2019                          Dark Phoenix   \n",
       "3      4   May 1, 2015               Avengers: Age of Ultron   \n",
       "4      5  Dec 15, 2017     Star Wars Ep. VIII: The Last Jedi   \n",
       "5      6  Dec 18, 2015  Star Wars Ep. VII: The Force Awakens   \n",
       "6      7  Apr 27, 2018                Avengers: Infinity War   \n",
       "...   ..           ...                                   ...   \n",
       "5751  52   Dec 1, 2015                           Dutch Kills   \n",
       "5756  57  Apr 21, 2015                         The Front Man   \n",
       "5771  72  May 19, 2015                      Family Motocross   \n",
       "5777  78  Dec 31, 2018                                Red 11   \n",
       "5780  81  Sep 29, 2015                  A Plague So Pleasant   \n",
       "\n",
       "     production_budget domestic_gross worldwide_gross  Season  year month  \n",
       "2         $350,000,000    $42,762,350    $149,762,350  Summer  2019   Jun  \n",
       "3         $330,600,000   $459,005,868  $1,403,013,963  Spring  2015   May  \n",
       "4         $317,000,000   $620,181,382  $1,316,721,747  Winter  2017   Dec  \n",
       "5         $306,000,000   $936,662,225  $2,053,311,220  Winter  2015   Dec  \n",
       "6         $300,000,000   $678,815,482  $2,048,134,200  Spring  2018   Apr  \n",
       "...                ...            ...             ...     ...   ...   ...  \n",
       "5751           $25,000             $0              $0  Winter  2015   Dec  \n",
       "5756           $20,000             $0              $0  Spring  2015   Apr  \n",
       "5771           $10,000             $0              $0  Spring  2015   May  \n",
       "5777            $7,000             $0              $0  Winter  2018   Dec  \n",
       "5780            $1,400             $0              $0    Fall  2015   Sep  \n",
       "\n",
       "[938 rows x 9 columns]"
      ]
     },
     "execution_count": 7,
     "metadata": {},
     "output_type": "execute_result"
    }
   ],
   "source": [
    "budget[\"month\"] = budget.release_date.apply(lambda x: x[0:3])\n",
    "budget"
   ]
  },
  {
   "cell_type": "markdown",
   "metadata": {},
   "source": [
    "**Take out all commas and dollar signs so dataframe is more accessible**"
   ]
  },
  {
   "cell_type": "code",
   "execution_count": 8,
   "metadata": {},
   "outputs": [
    {
     "data": {
      "text/html": [
       "<div>\n",
       "<style scoped>\n",
       "    .dataframe tbody tr th:only-of-type {\n",
       "        vertical-align: middle;\n",
       "    }\n",
       "\n",
       "    .dataframe tbody tr th {\n",
       "        vertical-align: top;\n",
       "    }\n",
       "\n",
       "    .dataframe thead th {\n",
       "        text-align: right;\n",
       "    }\n",
       "</style>\n",
       "<table border=\"1\" class=\"dataframe\">\n",
       "  <thead>\n",
       "    <tr style=\"text-align: right;\">\n",
       "      <th></th>\n",
       "      <th>id</th>\n",
       "      <th>release_date</th>\n",
       "      <th>movie</th>\n",
       "      <th>production_budget</th>\n",
       "      <th>domestic_gross</th>\n",
       "      <th>worldwide_gross</th>\n",
       "      <th>Season</th>\n",
       "      <th>year</th>\n",
       "      <th>month</th>\n",
       "    </tr>\n",
       "  </thead>\n",
       "  <tbody>\n",
       "    <tr>\n",
       "      <th>2</th>\n",
       "      <td>3</td>\n",
       "      <td>Jun 7, 2019</td>\n",
       "      <td>Dark Phoenix</td>\n",
       "      <td>350000000</td>\n",
       "      <td>42762350</td>\n",
       "      <td>$149,762,350</td>\n",
       "      <td>Summer</td>\n",
       "      <td>2019</td>\n",
       "      <td>Jun</td>\n",
       "    </tr>\n",
       "    <tr>\n",
       "      <th>3</th>\n",
       "      <td>4</td>\n",
       "      <td>May 1, 2015</td>\n",
       "      <td>Avengers: Age of Ultron</td>\n",
       "      <td>330600000</td>\n",
       "      <td>459005868</td>\n",
       "      <td>$1,403,013,963</td>\n",
       "      <td>Spring</td>\n",
       "      <td>2015</td>\n",
       "      <td>May</td>\n",
       "    </tr>\n",
       "    <tr>\n",
       "      <th>4</th>\n",
       "      <td>5</td>\n",
       "      <td>Dec 15, 2017</td>\n",
       "      <td>Star Wars Ep. VIII: The Last Jedi</td>\n",
       "      <td>317000000</td>\n",
       "      <td>620181382</td>\n",
       "      <td>$1,316,721,747</td>\n",
       "      <td>Winter</td>\n",
       "      <td>2017</td>\n",
       "      <td>Dec</td>\n",
       "    </tr>\n",
       "    <tr>\n",
       "      <th>5</th>\n",
       "      <td>6</td>\n",
       "      <td>Dec 18, 2015</td>\n",
       "      <td>Star Wars Ep. VII: The Force Awakens</td>\n",
       "      <td>306000000</td>\n",
       "      <td>936662225</td>\n",
       "      <td>$2,053,311,220</td>\n",
       "      <td>Winter</td>\n",
       "      <td>2015</td>\n",
       "      <td>Dec</td>\n",
       "    </tr>\n",
       "    <tr>\n",
       "      <th>6</th>\n",
       "      <td>7</td>\n",
       "      <td>Apr 27, 2018</td>\n",
       "      <td>Avengers: Infinity War</td>\n",
       "      <td>300000000</td>\n",
       "      <td>678815482</td>\n",
       "      <td>$2,048,134,200</td>\n",
       "      <td>Spring</td>\n",
       "      <td>2018</td>\n",
       "      <td>Apr</td>\n",
       "    </tr>\n",
       "    <tr>\n",
       "      <th>...</th>\n",
       "      <td>...</td>\n",
       "      <td>...</td>\n",
       "      <td>...</td>\n",
       "      <td>...</td>\n",
       "      <td>...</td>\n",
       "      <td>...</td>\n",
       "      <td>...</td>\n",
       "      <td>...</td>\n",
       "      <td>...</td>\n",
       "    </tr>\n",
       "    <tr>\n",
       "      <th>5751</th>\n",
       "      <td>52</td>\n",
       "      <td>Dec 1, 2015</td>\n",
       "      <td>Dutch Kills</td>\n",
       "      <td>25000</td>\n",
       "      <td>0</td>\n",
       "      <td>$0</td>\n",
       "      <td>Winter</td>\n",
       "      <td>2015</td>\n",
       "      <td>Dec</td>\n",
       "    </tr>\n",
       "    <tr>\n",
       "      <th>5756</th>\n",
       "      <td>57</td>\n",
       "      <td>Apr 21, 2015</td>\n",
       "      <td>The Front Man</td>\n",
       "      <td>20000</td>\n",
       "      <td>0</td>\n",
       "      <td>$0</td>\n",
       "      <td>Spring</td>\n",
       "      <td>2015</td>\n",
       "      <td>Apr</td>\n",
       "    </tr>\n",
       "    <tr>\n",
       "      <th>5771</th>\n",
       "      <td>72</td>\n",
       "      <td>May 19, 2015</td>\n",
       "      <td>Family Motocross</td>\n",
       "      <td>10000</td>\n",
       "      <td>0</td>\n",
       "      <td>$0</td>\n",
       "      <td>Spring</td>\n",
       "      <td>2015</td>\n",
       "      <td>May</td>\n",
       "    </tr>\n",
       "    <tr>\n",
       "      <th>5777</th>\n",
       "      <td>78</td>\n",
       "      <td>Dec 31, 2018</td>\n",
       "      <td>Red 11</td>\n",
       "      <td>7000</td>\n",
       "      <td>0</td>\n",
       "      <td>$0</td>\n",
       "      <td>Winter</td>\n",
       "      <td>2018</td>\n",
       "      <td>Dec</td>\n",
       "    </tr>\n",
       "    <tr>\n",
       "      <th>5780</th>\n",
       "      <td>81</td>\n",
       "      <td>Sep 29, 2015</td>\n",
       "      <td>A Plague So Pleasant</td>\n",
       "      <td>1400</td>\n",
       "      <td>0</td>\n",
       "      <td>$0</td>\n",
       "      <td>Fall</td>\n",
       "      <td>2015</td>\n",
       "      <td>Sep</td>\n",
       "    </tr>\n",
       "  </tbody>\n",
       "</table>\n",
       "<p>938 rows × 9 columns</p>\n",
       "</div>"
      ],
      "text/plain": [
       "      id  release_date                                 movie  \\\n",
       "2      3   Jun 7, 2019                          Dark Phoenix   \n",
       "3      4   May 1, 2015               Avengers: Age of Ultron   \n",
       "4      5  Dec 15, 2017     Star Wars Ep. VIII: The Last Jedi   \n",
       "5      6  Dec 18, 2015  Star Wars Ep. VII: The Force Awakens   \n",
       "6      7  Apr 27, 2018                Avengers: Infinity War   \n",
       "...   ..           ...                                   ...   \n",
       "5751  52   Dec 1, 2015                           Dutch Kills   \n",
       "5756  57  Apr 21, 2015                         The Front Man   \n",
       "5771  72  May 19, 2015                      Family Motocross   \n",
       "5777  78  Dec 31, 2018                                Red 11   \n",
       "5780  81  Sep 29, 2015                  A Plague So Pleasant   \n",
       "\n",
       "     production_budget domestic_gross worldwide_gross  Season  year month  \n",
       "2            350000000       42762350    $149,762,350  Summer  2019   Jun  \n",
       "3            330600000      459005868  $1,403,013,963  Spring  2015   May  \n",
       "4            317000000      620181382  $1,316,721,747  Winter  2017   Dec  \n",
       "5            306000000      936662225  $2,053,311,220  Winter  2015   Dec  \n",
       "6            300000000      678815482  $2,048,134,200  Spring  2018   Apr  \n",
       "...                ...            ...             ...     ...   ...   ...  \n",
       "5751             25000              0              $0  Winter  2015   Dec  \n",
       "5756             20000              0              $0  Spring  2015   Apr  \n",
       "5771             10000              0              $0  Spring  2015   May  \n",
       "5777              7000              0              $0  Winter  2018   Dec  \n",
       "5780              1400              0              $0    Fall  2015   Sep  \n",
       "\n",
       "[938 rows x 9 columns]"
      ]
     },
     "execution_count": 8,
     "metadata": {},
     "output_type": "execute_result"
    }
   ],
   "source": [
    "budget['production_budget'] = budget['production_budget'].str.replace('$', '')\n",
    "budget['domestic_gross'] = budget['domestic_gross'].str.replace('$', '')\n",
    "budget['production_budget'] = budget['production_budget'].str.replace(',', '')\n",
    "budget['domestic_gross'] = budget['domestic_gross'].str.replace(',', '')\n",
    "\n",
    "budget"
   ]
  },
  {
   "cell_type": "markdown",
   "metadata": {},
   "source": [
    "**Make domestic_gross and production_budget numerical & drop 'worldwide_gross' column(not needed for our research). Print to ensure everything worked**"
   ]
  },
  {
   "cell_type": "code",
   "execution_count": 9,
   "metadata": {},
   "outputs": [
    {
     "data": {
      "text/html": [
       "<div>\n",
       "<style scoped>\n",
       "    .dataframe tbody tr th:only-of-type {\n",
       "        vertical-align: middle;\n",
       "    }\n",
       "\n",
       "    .dataframe tbody tr th {\n",
       "        vertical-align: top;\n",
       "    }\n",
       "\n",
       "    .dataframe thead th {\n",
       "        text-align: right;\n",
       "    }\n",
       "</style>\n",
       "<table border=\"1\" class=\"dataframe\">\n",
       "  <thead>\n",
       "    <tr style=\"text-align: right;\">\n",
       "      <th></th>\n",
       "      <th>id</th>\n",
       "      <th>release_date</th>\n",
       "      <th>movie</th>\n",
       "      <th>production_budget</th>\n",
       "      <th>domestic_gross</th>\n",
       "      <th>Season</th>\n",
       "      <th>year</th>\n",
       "      <th>month</th>\n",
       "    </tr>\n",
       "  </thead>\n",
       "  <tbody>\n",
       "    <tr>\n",
       "      <th>2</th>\n",
       "      <td>3</td>\n",
       "      <td>Jun 7, 2019</td>\n",
       "      <td>Dark Phoenix</td>\n",
       "      <td>350000000</td>\n",
       "      <td>42762350</td>\n",
       "      <td>Summer</td>\n",
       "      <td>2019</td>\n",
       "      <td>Jun</td>\n",
       "    </tr>\n",
       "    <tr>\n",
       "      <th>3</th>\n",
       "      <td>4</td>\n",
       "      <td>May 1, 2015</td>\n",
       "      <td>Avengers: Age of Ultron</td>\n",
       "      <td>330600000</td>\n",
       "      <td>459005868</td>\n",
       "      <td>Spring</td>\n",
       "      <td>2015</td>\n",
       "      <td>May</td>\n",
       "    </tr>\n",
       "    <tr>\n",
       "      <th>4</th>\n",
       "      <td>5</td>\n",
       "      <td>Dec 15, 2017</td>\n",
       "      <td>Star Wars Ep. VIII: The Last Jedi</td>\n",
       "      <td>317000000</td>\n",
       "      <td>620181382</td>\n",
       "      <td>Winter</td>\n",
       "      <td>2017</td>\n",
       "      <td>Dec</td>\n",
       "    </tr>\n",
       "    <tr>\n",
       "      <th>5</th>\n",
       "      <td>6</td>\n",
       "      <td>Dec 18, 2015</td>\n",
       "      <td>Star Wars Ep. VII: The Force Awakens</td>\n",
       "      <td>306000000</td>\n",
       "      <td>936662225</td>\n",
       "      <td>Winter</td>\n",
       "      <td>2015</td>\n",
       "      <td>Dec</td>\n",
       "    </tr>\n",
       "    <tr>\n",
       "      <th>6</th>\n",
       "      <td>7</td>\n",
       "      <td>Apr 27, 2018</td>\n",
       "      <td>Avengers: Infinity War</td>\n",
       "      <td>300000000</td>\n",
       "      <td>678815482</td>\n",
       "      <td>Spring</td>\n",
       "      <td>2018</td>\n",
       "      <td>Apr</td>\n",
       "    </tr>\n",
       "    <tr>\n",
       "      <th>...</th>\n",
       "      <td>...</td>\n",
       "      <td>...</td>\n",
       "      <td>...</td>\n",
       "      <td>...</td>\n",
       "      <td>...</td>\n",
       "      <td>...</td>\n",
       "      <td>...</td>\n",
       "      <td>...</td>\n",
       "    </tr>\n",
       "    <tr>\n",
       "      <th>5751</th>\n",
       "      <td>52</td>\n",
       "      <td>Dec 1, 2015</td>\n",
       "      <td>Dutch Kills</td>\n",
       "      <td>25000</td>\n",
       "      <td>0</td>\n",
       "      <td>Winter</td>\n",
       "      <td>2015</td>\n",
       "      <td>Dec</td>\n",
       "    </tr>\n",
       "    <tr>\n",
       "      <th>5756</th>\n",
       "      <td>57</td>\n",
       "      <td>Apr 21, 2015</td>\n",
       "      <td>The Front Man</td>\n",
       "      <td>20000</td>\n",
       "      <td>0</td>\n",
       "      <td>Spring</td>\n",
       "      <td>2015</td>\n",
       "      <td>Apr</td>\n",
       "    </tr>\n",
       "    <tr>\n",
       "      <th>5771</th>\n",
       "      <td>72</td>\n",
       "      <td>May 19, 2015</td>\n",
       "      <td>Family Motocross</td>\n",
       "      <td>10000</td>\n",
       "      <td>0</td>\n",
       "      <td>Spring</td>\n",
       "      <td>2015</td>\n",
       "      <td>May</td>\n",
       "    </tr>\n",
       "    <tr>\n",
       "      <th>5777</th>\n",
       "      <td>78</td>\n",
       "      <td>Dec 31, 2018</td>\n",
       "      <td>Red 11</td>\n",
       "      <td>7000</td>\n",
       "      <td>0</td>\n",
       "      <td>Winter</td>\n",
       "      <td>2018</td>\n",
       "      <td>Dec</td>\n",
       "    </tr>\n",
       "    <tr>\n",
       "      <th>5780</th>\n",
       "      <td>81</td>\n",
       "      <td>Sep 29, 2015</td>\n",
       "      <td>A Plague So Pleasant</td>\n",
       "      <td>1400</td>\n",
       "      <td>0</td>\n",
       "      <td>Fall</td>\n",
       "      <td>2015</td>\n",
       "      <td>Sep</td>\n",
       "    </tr>\n",
       "  </tbody>\n",
       "</table>\n",
       "<p>938 rows × 8 columns</p>\n",
       "</div>"
      ],
      "text/plain": [
       "      id  release_date                                 movie  \\\n",
       "2      3   Jun 7, 2019                          Dark Phoenix   \n",
       "3      4   May 1, 2015               Avengers: Age of Ultron   \n",
       "4      5  Dec 15, 2017     Star Wars Ep. VIII: The Last Jedi   \n",
       "5      6  Dec 18, 2015  Star Wars Ep. VII: The Force Awakens   \n",
       "6      7  Apr 27, 2018                Avengers: Infinity War   \n",
       "...   ..           ...                                   ...   \n",
       "5751  52   Dec 1, 2015                           Dutch Kills   \n",
       "5756  57  Apr 21, 2015                         The Front Man   \n",
       "5771  72  May 19, 2015                      Family Motocross   \n",
       "5777  78  Dec 31, 2018                                Red 11   \n",
       "5780  81  Sep 29, 2015                  A Plague So Pleasant   \n",
       "\n",
       "      production_budget  domestic_gross  Season  year month  \n",
       "2             350000000        42762350  Summer  2019   Jun  \n",
       "3             330600000       459005868  Spring  2015   May  \n",
       "4             317000000       620181382  Winter  2017   Dec  \n",
       "5             306000000       936662225  Winter  2015   Dec  \n",
       "6             300000000       678815482  Spring  2018   Apr  \n",
       "...                 ...             ...     ...   ...   ...  \n",
       "5751              25000               0  Winter  2015   Dec  \n",
       "5756              20000               0  Spring  2015   Apr  \n",
       "5771              10000               0  Spring  2015   May  \n",
       "5777               7000               0  Winter  2018   Dec  \n",
       "5780               1400               0    Fall  2015   Sep  \n",
       "\n",
       "[938 rows x 8 columns]"
      ]
     },
     "execution_count": 9,
     "metadata": {},
     "output_type": "execute_result"
    }
   ],
   "source": [
    "budget[['domestic_gross', 'production_budget']] = budget[['domestic_gross', 'production_budget']].apply(pd.to_numeric)\n",
    "budget = budget.drop(columns=\"worldwide_gross\")\n",
    "budget"
   ]
  },
  {
   "cell_type": "markdown",
   "metadata": {},
   "source": [
    "**Create new column 'profit' which is 'domestic_gross' minus 'production_budget**"
   ]
  },
  {
   "cell_type": "code",
   "execution_count": 10,
   "metadata": {},
   "outputs": [
    {
     "data": {
      "text/html": [
       "<div>\n",
       "<style scoped>\n",
       "    .dataframe tbody tr th:only-of-type {\n",
       "        vertical-align: middle;\n",
       "    }\n",
       "\n",
       "    .dataframe tbody tr th {\n",
       "        vertical-align: top;\n",
       "    }\n",
       "\n",
       "    .dataframe thead th {\n",
       "        text-align: right;\n",
       "    }\n",
       "</style>\n",
       "<table border=\"1\" class=\"dataframe\">\n",
       "  <thead>\n",
       "    <tr style=\"text-align: right;\">\n",
       "      <th></th>\n",
       "      <th>id</th>\n",
       "      <th>release_date</th>\n",
       "      <th>movie</th>\n",
       "      <th>production_budget</th>\n",
       "      <th>domestic_gross</th>\n",
       "      <th>Season</th>\n",
       "      <th>year</th>\n",
       "      <th>month</th>\n",
       "      <th>profit</th>\n",
       "    </tr>\n",
       "  </thead>\n",
       "  <tbody>\n",
       "    <tr>\n",
       "      <th>2</th>\n",
       "      <td>3</td>\n",
       "      <td>Jun 7, 2019</td>\n",
       "      <td>Dark Phoenix</td>\n",
       "      <td>350000000</td>\n",
       "      <td>42762350</td>\n",
       "      <td>Summer</td>\n",
       "      <td>2019</td>\n",
       "      <td>Jun</td>\n",
       "      <td>-307237650</td>\n",
       "    </tr>\n",
       "    <tr>\n",
       "      <th>3</th>\n",
       "      <td>4</td>\n",
       "      <td>May 1, 2015</td>\n",
       "      <td>Avengers: Age of Ultron</td>\n",
       "      <td>330600000</td>\n",
       "      <td>459005868</td>\n",
       "      <td>Spring</td>\n",
       "      <td>2015</td>\n",
       "      <td>May</td>\n",
       "      <td>128405868</td>\n",
       "    </tr>\n",
       "    <tr>\n",
       "      <th>4</th>\n",
       "      <td>5</td>\n",
       "      <td>Dec 15, 2017</td>\n",
       "      <td>Star Wars Ep. VIII: The Last Jedi</td>\n",
       "      <td>317000000</td>\n",
       "      <td>620181382</td>\n",
       "      <td>Winter</td>\n",
       "      <td>2017</td>\n",
       "      <td>Dec</td>\n",
       "      <td>303181382</td>\n",
       "    </tr>\n",
       "    <tr>\n",
       "      <th>5</th>\n",
       "      <td>6</td>\n",
       "      <td>Dec 18, 2015</td>\n",
       "      <td>Star Wars Ep. VII: The Force Awakens</td>\n",
       "      <td>306000000</td>\n",
       "      <td>936662225</td>\n",
       "      <td>Winter</td>\n",
       "      <td>2015</td>\n",
       "      <td>Dec</td>\n",
       "      <td>630662225</td>\n",
       "    </tr>\n",
       "    <tr>\n",
       "      <th>6</th>\n",
       "      <td>7</td>\n",
       "      <td>Apr 27, 2018</td>\n",
       "      <td>Avengers: Infinity War</td>\n",
       "      <td>300000000</td>\n",
       "      <td>678815482</td>\n",
       "      <td>Spring</td>\n",
       "      <td>2018</td>\n",
       "      <td>Apr</td>\n",
       "      <td>378815482</td>\n",
       "    </tr>\n",
       "    <tr>\n",
       "      <th>...</th>\n",
       "      <td>...</td>\n",
       "      <td>...</td>\n",
       "      <td>...</td>\n",
       "      <td>...</td>\n",
       "      <td>...</td>\n",
       "      <td>...</td>\n",
       "      <td>...</td>\n",
       "      <td>...</td>\n",
       "      <td>...</td>\n",
       "    </tr>\n",
       "    <tr>\n",
       "      <th>5751</th>\n",
       "      <td>52</td>\n",
       "      <td>Dec 1, 2015</td>\n",
       "      <td>Dutch Kills</td>\n",
       "      <td>25000</td>\n",
       "      <td>0</td>\n",
       "      <td>Winter</td>\n",
       "      <td>2015</td>\n",
       "      <td>Dec</td>\n",
       "      <td>-25000</td>\n",
       "    </tr>\n",
       "    <tr>\n",
       "      <th>5756</th>\n",
       "      <td>57</td>\n",
       "      <td>Apr 21, 2015</td>\n",
       "      <td>The Front Man</td>\n",
       "      <td>20000</td>\n",
       "      <td>0</td>\n",
       "      <td>Spring</td>\n",
       "      <td>2015</td>\n",
       "      <td>Apr</td>\n",
       "      <td>-20000</td>\n",
       "    </tr>\n",
       "    <tr>\n",
       "      <th>5771</th>\n",
       "      <td>72</td>\n",
       "      <td>May 19, 2015</td>\n",
       "      <td>Family Motocross</td>\n",
       "      <td>10000</td>\n",
       "      <td>0</td>\n",
       "      <td>Spring</td>\n",
       "      <td>2015</td>\n",
       "      <td>May</td>\n",
       "      <td>-10000</td>\n",
       "    </tr>\n",
       "    <tr>\n",
       "      <th>5777</th>\n",
       "      <td>78</td>\n",
       "      <td>Dec 31, 2018</td>\n",
       "      <td>Red 11</td>\n",
       "      <td>7000</td>\n",
       "      <td>0</td>\n",
       "      <td>Winter</td>\n",
       "      <td>2018</td>\n",
       "      <td>Dec</td>\n",
       "      <td>-7000</td>\n",
       "    </tr>\n",
       "    <tr>\n",
       "      <th>5780</th>\n",
       "      <td>81</td>\n",
       "      <td>Sep 29, 2015</td>\n",
       "      <td>A Plague So Pleasant</td>\n",
       "      <td>1400</td>\n",
       "      <td>0</td>\n",
       "      <td>Fall</td>\n",
       "      <td>2015</td>\n",
       "      <td>Sep</td>\n",
       "      <td>-1400</td>\n",
       "    </tr>\n",
       "  </tbody>\n",
       "</table>\n",
       "<p>938 rows × 9 columns</p>\n",
       "</div>"
      ],
      "text/plain": [
       "      id  release_date                                 movie  \\\n",
       "2      3   Jun 7, 2019                          Dark Phoenix   \n",
       "3      4   May 1, 2015               Avengers: Age of Ultron   \n",
       "4      5  Dec 15, 2017     Star Wars Ep. VIII: The Last Jedi   \n",
       "5      6  Dec 18, 2015  Star Wars Ep. VII: The Force Awakens   \n",
       "6      7  Apr 27, 2018                Avengers: Infinity War   \n",
       "...   ..           ...                                   ...   \n",
       "5751  52   Dec 1, 2015                           Dutch Kills   \n",
       "5756  57  Apr 21, 2015                         The Front Man   \n",
       "5771  72  May 19, 2015                      Family Motocross   \n",
       "5777  78  Dec 31, 2018                                Red 11   \n",
       "5780  81  Sep 29, 2015                  A Plague So Pleasant   \n",
       "\n",
       "      production_budget  domestic_gross  Season  year month     profit  \n",
       "2             350000000        42762350  Summer  2019   Jun -307237650  \n",
       "3             330600000       459005868  Spring  2015   May  128405868  \n",
       "4             317000000       620181382  Winter  2017   Dec  303181382  \n",
       "5             306000000       936662225  Winter  2015   Dec  630662225  \n",
       "6             300000000       678815482  Spring  2018   Apr  378815482  \n",
       "...                 ...             ...     ...   ...   ...        ...  \n",
       "5751              25000               0  Winter  2015   Dec     -25000  \n",
       "5756              20000               0  Spring  2015   Apr     -20000  \n",
       "5771              10000               0  Spring  2015   May     -10000  \n",
       "5777               7000               0  Winter  2018   Dec      -7000  \n",
       "5780               1400               0    Fall  2015   Sep      -1400  \n",
       "\n",
       "[938 rows x 9 columns]"
      ]
     },
     "execution_count": 10,
     "metadata": {},
     "output_type": "execute_result"
    }
   ],
   "source": [
    "budget[\"profit\"] = budget[\"domestic_gross\"] - budget[\"production_budget\"]\n",
    "budget"
   ]
  },
  {
   "cell_type": "markdown",
   "metadata": {},
   "source": [
    "**Make a boxplot with the information above. Create a list with the seasons in order that you want them to be on the xlabels.**"
   ]
  },
  {
   "cell_type": "code",
   "execution_count": 11,
   "metadata": {},
   "outputs": [],
   "source": [
    "order_list = ['Spring', 'Summer', 'Fall', 'Winter']\n"
   ]
  },
  {
   "cell_type": "code",
   "execution_count": 12,
   "metadata": {},
   "outputs": [
    {
     "data": {
      "image/png": "[encoded data removed]",
      "text/plain": [
       "<Figure size 1080x1080 with 1 Axes>"
      ]
     },
     "metadata": {
      "needs_background": "light"
     },
     "output_type": "display_data"
    }
   ],
   "source": [
    "# Your code here\n",
    "plot_five_fig, plot_five_ax = plt.subplots(figsize=(15,15))\n",
    "\n",
    "sns.boxplot(x='Season', y='profit', data=budget, ax=plot_five_ax, showfliers=False, order=order_list)\n",
    "\n",
    "plot_five_ax.set_xlabel('Season', fontsize = 15)\n",
    "\n",
    "plot_five_ax.set_ylabel('Profit in millions', fontsize = 15)\n",
    "\n",
    "plot_five_ax.set_title('Seasonal profit', fontsize = 15)\n",
    "\n",
    "\n",
    "plt.savefig('images/seasonalprofits.png')"
   ]
  },
  {
   "cell_type": "code",
   "execution_count": 13,
   "metadata": {},
   "outputs": [],
   "source": [
    "#Summer has the largest range which indicates a high risk of whether or not the profits will be great or negative"
   ]
  },
  {
   "cell_type": "markdown",
   "metadata": {},
   "source": [
    "**Find the mean for profit, budget, and gross**"
   ]
  },
  {
   "cell_type": "code",
   "execution_count": 14,
   "metadata": {},
   "outputs": [
    {
     "data": {
      "text/plain": [
       "9372304.52238806"
      ]
     },
     "execution_count": 14,
     "metadata": {},
     "output_type": "execute_result"
    }
   ],
   "source": [
    "profit_mean = budget.profit.mean()\n",
    "profit_mean"
   ]
  },
  {
   "cell_type": "markdown",
   "metadata": {},
   "source": [
    "**There is a mean profit of ~ 10 million dollars. To be successful, your movies should have a profit around that number**"
   ]
  },
  {
   "cell_type": "code",
   "execution_count": 15,
   "metadata": {},
   "outputs": [
    {
     "data": {
      "text/plain": [
       "39360287.20682303"
      ]
     },
     "execution_count": 15,
     "metadata": {},
     "output_type": "execute_result"
    }
   ],
   "source": [
    "budget_mean = budget.production_budget.mean()\n",
    "budget_mean"
   ]
  },
  {
   "cell_type": "markdown",
   "metadata": {},
   "source": [
    "**The mean budget is ~ 31 million dollars. Your movie should average a budget around that number to ensure a promising profit.**"
   ]
  },
  {
   "cell_type": "code",
   "execution_count": 16,
   "metadata": {},
   "outputs": [
    {
     "data": {
      "text/plain": [
       "48732591.729211085"
      ]
     },
     "execution_count": 16,
     "metadata": {},
     "output_type": "execute_result"
    }
   ],
   "source": [
    "gross_mean = budget.domestic_gross.mean()\n",
    "gross_mean"
   ]
  },
  {
   "cell_type": "markdown",
   "metadata": {},
   "source": [
    "**The average gross for american movies is around 42 million. You should be projecting your sales towards that number to be successful.**"
   ]
  },
  {
   "cell_type": "markdown",
   "metadata": {},
   "source": [
    "**Find the mean for each column in years 2015-2019. Exclude 2020 because of the skewed data.**"
   ]
  },
  {
   "cell_type": "code",
   "execution_count": 17,
   "metadata": {
    "scrolled": true
   },
   "outputs": [
    {
     "data": {
      "text/html": [
       "<div>\n",
       "<style scoped>\n",
       "    .dataframe tbody tr th:only-of-type {\n",
       "        vertical-align: middle;\n",
       "    }\n",
       "\n",
       "    .dataframe tbody tr th {\n",
       "        vertical-align: top;\n",
       "    }\n",
       "\n",
       "    .dataframe thead th {\n",
       "        text-align: right;\n",
       "    }\n",
       "</style>\n",
       "<table border=\"1\" class=\"dataframe\">\n",
       "  <thead>\n",
       "    <tr style=\"text-align: right;\">\n",
       "      <th></th>\n",
       "      <th>year</th>\n",
       "      <th>id</th>\n",
       "      <th>production_budget</th>\n",
       "      <th>domestic_gross</th>\n",
       "      <th>profit</th>\n",
       "    </tr>\n",
       "  </thead>\n",
       "  <tbody>\n",
       "    <tr>\n",
       "      <th>0</th>\n",
       "      <td>2015.0</td>\n",
       "      <td>51.260355</td>\n",
       "      <td>2.616029e+07</td>\n",
       "      <td>3.193948e+07</td>\n",
       "      <td>5.779185e+06</td>\n",
       "    </tr>\n",
       "    <tr>\n",
       "      <th>1</th>\n",
       "      <td>2016.0</td>\n",
       "      <td>49.643836</td>\n",
       "      <td>4.097370e+07</td>\n",
       "      <td>5.042387e+07</td>\n",
       "      <td>9.450175e+06</td>\n",
       "    </tr>\n",
       "    <tr>\n",
       "      <th>2</th>\n",
       "      <td>2017.0</td>\n",
       "      <td>51.422619</td>\n",
       "      <td>5.003073e+07</td>\n",
       "      <td>6.222259e+07</td>\n",
       "      <td>1.219186e+07</td>\n",
       "    </tr>\n",
       "    <tr>\n",
       "      <th>3</th>\n",
       "      <td>2018.0</td>\n",
       "      <td>53.286713</td>\n",
       "      <td>4.813886e+07</td>\n",
       "      <td>7.378870e+07</td>\n",
       "      <td>2.564984e+07</td>\n",
       "    </tr>\n",
       "    <tr>\n",
       "      <th>4</th>\n",
       "      <td>2019.0</td>\n",
       "      <td>51.791045</td>\n",
       "      <td>5.273896e+07</td>\n",
       "      <td>4.280029e+07</td>\n",
       "      <td>-9.938666e+06</td>\n",
       "    </tr>\n",
       "  </tbody>\n",
       "</table>\n",
       "</div>"
      ],
      "text/plain": [
       "     year         id  production_budget  domestic_gross        profit\n",
       "0  2015.0  51.260355       2.616029e+07    3.193948e+07  5.779185e+06\n",
       "1  2016.0  49.643836       4.097370e+07    5.042387e+07  9.450175e+06\n",
       "2  2017.0  51.422619       5.003073e+07    6.222259e+07  1.219186e+07\n",
       "3  2018.0  53.286713       4.813886e+07    7.378870e+07  2.564984e+07\n",
       "4  2019.0  51.791045       5.273896e+07    4.280029e+07 -9.938666e+06"
      ]
     },
     "execution_count": 17,
     "metadata": {},
     "output_type": "execute_result"
    }
   ],
   "source": [
    "budget_groups = budget.groupby('year').mean().reset_index().astype(float)\n",
    "budget_groups2 = budget_groups[budget_groups.year<2020]\n",
    "\n",
    "budget_groups2"
   ]
  },
  {
   "cell_type": "markdown",
   "metadata": {},
   "source": [
    "**Create bar plots for yearly budget, domestic gross, and profit to examine. Use info to create a combined barplot.**"
   ]
  },
  {
   "cell_type": "code",
   "execution_count": 18,
   "metadata": {},
   "outputs": [
    {
     "data": {
      "image/png": "[encoded data removed]",
      "text/plain": [
       "<Figure size 1440x720 with 3 Axes>"
      ]
     },
     "metadata": {
      "needs_background": "light"
     },
     "output_type": "display_data"
    }
   ],
   "source": [
    "fig, ax = plt.subplots(figsize=(20,10), ncols=3)\n",
    "\n",
    "ax[0].bar(budget_groups2.year, budget_groups2.production_budget, color='mediumseagreen')\n",
    "ax[0].set_xlabel('Year')\n",
    "ax[0].set_ylabel('U.S. Dollars ($)')\n",
    "ax[0].set_title('Yearly Production Budget', fontsize=15)\n",
    "\n",
    "ax[1].bar(budget_groups2.year, budget_groups2.domestic_gross, color='slateblue')\n",
    "ax[1].set_xlabel('Year')\n",
    "ax[1].set_ylabel('U.S. Dollars ($)')\n",
    "ax[1].set_title('Yearly Domestic Gross', fontsize=15)\n",
    "\n",
    "\n",
    "ax[2].bar(budget_groups2.year, budget_groups2.profit, color='tomato')\n",
    "ax[2].set_xlabel('Year')\n",
    "ax[2].set_ylabel('U.S. Dollars ($)')\n",
    "ax[2].set_title('Yearly Profit', fontsize=15);\n",
    "\n",
    "plt.savefig('images/gross.png')"
   ]
  },
  {
   "cell_type": "markdown",
   "metadata": {},
   "source": [
    "**Combine three graphs from above for reassurance that the more budget put in, the more profit is produced (excluding 2019, but need for further explanation)**"
   ]
  },
  {
   "cell_type": "code",
   "execution_count": 19,
   "metadata": {},
   "outputs": [
    {
     "data": {
      "image/png": "[encoded data removed]",
      "text/plain": [
       "<Figure size 1080x576 with 1 Axes>"
      ]
     },
     "metadata": {
      "needs_background": "light"
     },
     "output_type": "display_data"
    },
    {
     "data": {
      "text/plain": [
       "<Figure size 432x288 with 0 Axes>"
      ]
     },
     "metadata": {},
     "output_type": "display_data"
    }
   ],
   "source": [
    "fig, ax = plt.subplots(figsize=(15,8))\n",
    "N = 5\n",
    "ind = np.arange(N) \n",
    "width = 0.25\n",
    "\n",
    "xvals = budget_groups2['domestic_gross']\n",
    "bar1 = plt.bar(ind, xvals, width, color = 'orange')\n",
    "\n",
    "yvals2 = budget_groups2['profit']\n",
    "bar2 = plt.bar(ind+width, yvals2, width, color = 'mediumseagreen')\n",
    "\n",
    "zvals3 = budget_groups2['production_budget']\n",
    "bar3 = plt.bar(ind-width, zvals3, width, color = 'slateblue')\n",
    "\n",
    "\n",
    "plt.xlabel(\"Year of Release\", fontsize=15)\n",
    "plt.ylabel('U.S. Dollars in Hundreds of Millions ($)', fontsize=15)\n",
    "plt.title(\"Yearly Comparison of Production Budget, Gross, & Profit\", fontsize=20)\n",
    "\n",
    "plt.axhline(y=0.5, color='black', linestyle='--')\n",
    "\n",
    "\n",
    "plt.xticks(ind+width, ['2015','2016','2017','2018','2019'])\n",
    "plt.legend( (bar1, bar2, bar3), ('Domestic Gross', 'Profit', 'Production Budget') )\n",
    "\n",
    "plt.show()\n",
    "plt.savefig('images/Yearly_comparison_profit.png')"
   ]
  },
  {
   "cell_type": "markdown",
   "metadata": {},
   "source": [
    "**Create a boxplot for monthly profits to help visualize the difference between each month. Explore their ranges, max, and mins.**"
   ]
  },
  {
   "cell_type": "code",
   "execution_count": 20,
   "metadata": {},
   "outputs": [
    {
     "data": {
      "text/html": [
       "<div>\n",
       "<style scoped>\n",
       "    .dataframe tbody tr th:only-of-type {\n",
       "        vertical-align: middle;\n",
       "    }\n",
       "\n",
       "    .dataframe tbody tr th {\n",
       "        vertical-align: top;\n",
       "    }\n",
       "\n",
       "    .dataframe thead th {\n",
       "        text-align: right;\n",
       "    }\n",
       "</style>\n",
       "<table border=\"1\" class=\"dataframe\">\n",
       "  <thead>\n",
       "    <tr style=\"text-align: right;\">\n",
       "      <th></th>\n",
       "      <th>id</th>\n",
       "      <th>release_date</th>\n",
       "      <th>movie</th>\n",
       "      <th>production_budget</th>\n",
       "      <th>domestic_gross</th>\n",
       "      <th>Season</th>\n",
       "      <th>year</th>\n",
       "      <th>month</th>\n",
       "      <th>profit</th>\n",
       "    </tr>\n",
       "  </thead>\n",
       "  <tbody>\n",
       "    <tr>\n",
       "      <th>2</th>\n",
       "      <td>3</td>\n",
       "      <td>Jun 7, 2019</td>\n",
       "      <td>Dark Phoenix</td>\n",
       "      <td>350000000</td>\n",
       "      <td>42762350</td>\n",
       "      <td>Summer</td>\n",
       "      <td>2019</td>\n",
       "      <td>Jun</td>\n",
       "      <td>-307237650</td>\n",
       "    </tr>\n",
       "    <tr>\n",
       "      <th>3</th>\n",
       "      <td>4</td>\n",
       "      <td>May 1, 2015</td>\n",
       "      <td>Avengers: Age of Ultron</td>\n",
       "      <td>330600000</td>\n",
       "      <td>459005868</td>\n",
       "      <td>Spring</td>\n",
       "      <td>2015</td>\n",
       "      <td>May</td>\n",
       "      <td>128405868</td>\n",
       "    </tr>\n",
       "    <tr>\n",
       "      <th>4</th>\n",
       "      <td>5</td>\n",
       "      <td>Dec 15, 2017</td>\n",
       "      <td>Star Wars Ep. VIII: The Last Jedi</td>\n",
       "      <td>317000000</td>\n",
       "      <td>620181382</td>\n",
       "      <td>Winter</td>\n",
       "      <td>2017</td>\n",
       "      <td>Dec</td>\n",
       "      <td>303181382</td>\n",
       "    </tr>\n",
       "    <tr>\n",
       "      <th>5</th>\n",
       "      <td>6</td>\n",
       "      <td>Dec 18, 2015</td>\n",
       "      <td>Star Wars Ep. VII: The Force Awakens</td>\n",
       "      <td>306000000</td>\n",
       "      <td>936662225</td>\n",
       "      <td>Winter</td>\n",
       "      <td>2015</td>\n",
       "      <td>Dec</td>\n",
       "      <td>630662225</td>\n",
       "    </tr>\n",
       "    <tr>\n",
       "      <th>6</th>\n",
       "      <td>7</td>\n",
       "      <td>Apr 27, 2018</td>\n",
       "      <td>Avengers: Infinity War</td>\n",
       "      <td>300000000</td>\n",
       "      <td>678815482</td>\n",
       "      <td>Spring</td>\n",
       "      <td>2018</td>\n",
       "      <td>Apr</td>\n",
       "      <td>378815482</td>\n",
       "    </tr>\n",
       "    <tr>\n",
       "      <th>...</th>\n",
       "      <td>...</td>\n",
       "      <td>...</td>\n",
       "      <td>...</td>\n",
       "      <td>...</td>\n",
       "      <td>...</td>\n",
       "      <td>...</td>\n",
       "      <td>...</td>\n",
       "      <td>...</td>\n",
       "      <td>...</td>\n",
       "    </tr>\n",
       "    <tr>\n",
       "      <th>5751</th>\n",
       "      <td>52</td>\n",
       "      <td>Dec 1, 2015</td>\n",
       "      <td>Dutch Kills</td>\n",
       "      <td>25000</td>\n",
       "      <td>0</td>\n",
       "      <td>Winter</td>\n",
       "      <td>2015</td>\n",
       "      <td>Dec</td>\n",
       "      <td>-25000</td>\n",
       "    </tr>\n",
       "    <tr>\n",
       "      <th>5756</th>\n",
       "      <td>57</td>\n",
       "      <td>Apr 21, 2015</td>\n",
       "      <td>The Front Man</td>\n",
       "      <td>20000</td>\n",
       "      <td>0</td>\n",
       "      <td>Spring</td>\n",
       "      <td>2015</td>\n",
       "      <td>Apr</td>\n",
       "      <td>-20000</td>\n",
       "    </tr>\n",
       "    <tr>\n",
       "      <th>5771</th>\n",
       "      <td>72</td>\n",
       "      <td>May 19, 2015</td>\n",
       "      <td>Family Motocross</td>\n",
       "      <td>10000</td>\n",
       "      <td>0</td>\n",
       "      <td>Spring</td>\n",
       "      <td>2015</td>\n",
       "      <td>May</td>\n",
       "      <td>-10000</td>\n",
       "    </tr>\n",
       "    <tr>\n",
       "      <th>5777</th>\n",
       "      <td>78</td>\n",
       "      <td>Dec 31, 2018</td>\n",
       "      <td>Red 11</td>\n",
       "      <td>7000</td>\n",
       "      <td>0</td>\n",
       "      <td>Winter</td>\n",
       "      <td>2018</td>\n",
       "      <td>Dec</td>\n",
       "      <td>-7000</td>\n",
       "    </tr>\n",
       "    <tr>\n",
       "      <th>5780</th>\n",
       "      <td>81</td>\n",
       "      <td>Sep 29, 2015</td>\n",
       "      <td>A Plague So Pleasant</td>\n",
       "      <td>1400</td>\n",
       "      <td>0</td>\n",
       "      <td>Fall</td>\n",
       "      <td>2015</td>\n",
       "      <td>Sep</td>\n",
       "      <td>-1400</td>\n",
       "    </tr>\n",
       "  </tbody>\n",
       "</table>\n",
       "<p>938 rows × 9 columns</p>\n",
       "</div>"
      ],
      "text/plain": [
       "      id  release_date                                 movie  \\\n",
       "2      3   Jun 7, 2019                          Dark Phoenix   \n",
       "3      4   May 1, 2015               Avengers: Age of Ultron   \n",
       "4      5  Dec 15, 2017     Star Wars Ep. VIII: The Last Jedi   \n",
       "5      6  Dec 18, 2015  Star Wars Ep. VII: The Force Awakens   \n",
       "6      7  Apr 27, 2018                Avengers: Infinity War   \n",
       "...   ..           ...                                   ...   \n",
       "5751  52   Dec 1, 2015                           Dutch Kills   \n",
       "5756  57  Apr 21, 2015                         The Front Man   \n",
       "5771  72  May 19, 2015                      Family Motocross   \n",
       "5777  78  Dec 31, 2018                                Red 11   \n",
       "5780  81  Sep 29, 2015                  A Plague So Pleasant   \n",
       "\n",
       "      production_budget  domestic_gross  Season  year month     profit  \n",
       "2             350000000        42762350  Summer  2019   Jun -307237650  \n",
       "3             330600000       459005868  Spring  2015   May  128405868  \n",
       "4             317000000       620181382  Winter  2017   Dec  303181382  \n",
       "5             306000000       936662225  Winter  2015   Dec  630662225  \n",
       "6             300000000       678815482  Spring  2018   Apr  378815482  \n",
       "...                 ...             ...     ...   ...   ...        ...  \n",
       "5751              25000               0  Winter  2015   Dec     -25000  \n",
       "5756              20000               0  Spring  2015   Apr     -20000  \n",
       "5771              10000               0  Spring  2015   May     -10000  \n",
       "5777               7000               0  Winter  2018   Dec      -7000  \n",
       "5780               1400               0    Fall  2015   Sep      -1400  \n",
       "\n",
       "[938 rows x 9 columns]"
      ]
     },
     "execution_count": 20,
     "metadata": {},
     "output_type": "execute_result"
    }
   ],
   "source": [
    "budget"
   ]
  },
  {
   "cell_type": "markdown",
   "metadata": {},
   "source": [
    "**Make the months into ints which will help with xticklabels. Setting them to ints will make it easier to sort them and make sure they are in numerical order on the x axis.**"
   ]
  },
  {
   "cell_type": "code",
   "execution_count": 21,
   "metadata": {},
   "outputs": [],
   "source": [
    "month_map = {'Jan': 1, 'Feb': 2, 'Mar': 3, 'Apr': 4, 'May': 5, 'Jun': 6,'Jul': 7,'Aug': 8, 'Sep': 9, 'Oct':10, 'Nov': 11, 'Dec':12}\n"
   ]
  },
  {
   "cell_type": "markdown",
   "metadata": {},
   "source": [
    "**Apply month_map to months ; switches to numbers ; variable name = 'month_num'**"
   ]
  },
  {
   "cell_type": "code",
   "execution_count": 22,
   "metadata": {},
   "outputs": [],
   "source": [
    "budget['month_num'] = budget['month'].apply(lambda x: month_map.get(x))"
   ]
  },
  {
   "cell_type": "markdown",
   "metadata": {},
   "source": [
    "**Sort month_num values so they are in ascending order**"
   ]
  },
  {
   "cell_type": "code",
   "execution_count": 23,
   "metadata": {},
   "outputs": [],
   "source": [
    "sorted_budget = budget.sort_values('month_num')"
   ]
  },
  {
   "cell_type": "markdown",
   "metadata": {},
   "source": [
    "**Make a box plot of all the months and their profits**"
   ]
  },
  {
   "cell_type": "code",
   "execution_count": 24,
   "metadata": {},
   "outputs": [
    {
     "data": {
      "image/png": "[encoded data removed]",
      "text/plain": [
       "<Figure size 1080x576 with 1 Axes>"
      ]
     },
     "metadata": {
      "needs_background": "light"
     },
     "output_type": "display_data"
    }
   ],
   "source": [
    "plot_one_fig, plot_one_ax = plt.subplots(figsize=(15,8))\n",
    "\n",
    "sns.boxplot(x='month', y='profit', data=sorted_budget, ax=plot_one_ax, showfliers=False)\n",
    "plot_one_ax.set_xlabel('Month', fontsize=15)\n",
    "plot_one_ax.set_ylabel('Profit in Hundreds of Millions', fontsize=15)\n",
    "plot_one_ax.set_title('Monthly Profits', fontsize=15);\n",
    "plt.savefig('images/MonthlyProfitsReal.png')\n",
    "\n"
   ]
  },
  {
   "cell_type": "markdown",
   "metadata": {},
   "source": [
    "<hr><font color=\"green\"><h1>from file: BAudience Data.ipyn</h1></font>"
   ]
  },
  {
   "cell_type": "markdown",
   "metadata": {},
   "source": [
    "Importing the different programs used"
   ]
  },
  {
   "cell_type": "code",
   "execution_count": 25,
   "metadata": {},
   "outputs": [],
   "source": [
    "import numpy as np"
   ]
  },
  {
   "cell_type": "code",
   "execution_count": 26,
   "metadata": {},
   "outputs": [],
   "source": [
    "import pandas as pd"
   ]
  },
  {
   "cell_type": "code",
   "execution_count": 27,
   "metadata": {},
   "outputs": [],
   "source": [
    "import seaborn as sns"
   ]
  },
  {
   "cell_type": "code",
   "execution_count": 28,
   "metadata": {},
   "outputs": [],
   "source": [
    "import matplotlib.pyplot as plt\n",
    "%matplotlib inline"
   ]
  },
  {
   "cell_type": "markdown",
   "metadata": {},
   "source": [
    "Imorting the Rotten Tomatoes data set"
   ]
  },
  {
   "cell_type": "code",
   "execution_count": 29,
   "metadata": {
    "scrolled": true
   },
   "outputs": [
    {
     "data": {
      "text/html": [
       "<div>\n",
       "<style scoped>\n",
       "    .dataframe tbody tr th:only-of-type {\n",
       "        vertical-align: middle;\n",
       "    }\n",
       "\n",
       "    .dataframe tbody tr th {\n",
       "        vertical-align: top;\n",
       "    }\n",
       "\n",
       "    .dataframe thead th {\n",
       "        text-align: right;\n",
       "    }\n",
       "</style>\n",
       "<table border=\"1\" class=\"dataframe\">\n",
       "  <thead>\n",
       "    <tr style=\"text-align: right;\">\n",
       "      <th></th>\n",
       "      <th>rotten_tomatoes_link</th>\n",
       "      <th>movie_title</th>\n",
       "      <th>movie_info</th>\n",
       "      <th>critics_consensus</th>\n",
       "      <th>content_rating</th>\n",
       "      <th>genres</th>\n",
       "      <th>directors</th>\n",
       "      <th>authors</th>\n",
       "      <th>actors</th>\n",
       "      <th>original_release_date</th>\n",
       "      <th>...</th>\n",
       "      <th>production_company</th>\n",
       "      <th>tomatometer_status</th>\n",
       "      <th>tomatometer_rating</th>\n",
       "      <th>tomatometer_count</th>\n",
       "      <th>audience_status</th>\n",
       "      <th>audience_rating</th>\n",
       "      <th>audience_count</th>\n",
       "      <th>tomatometer_top_critics_count</th>\n",
       "      <th>tomatometer_fresh_critics_count</th>\n",
       "      <th>tomatometer_rotten_critics_count</th>\n",
       "    </tr>\n",
       "  </thead>\n",
       "  <tbody>\n",
       "    <tr>\n",
       "      <th>0</th>\n",
       "      <td>m/0814255</td>\n",
       "      <td>Percy Jackson &amp; the Olympians: The Lightning T...</td>\n",
       "      <td>Always trouble-prone, the life of teenager Per...</td>\n",
       "      <td>Though it may seem like just another Harry Pot...</td>\n",
       "      <td>PG</td>\n",
       "      <td>Action &amp; Adventure, Comedy, Drama, Science Fic...</td>\n",
       "      <td>Chris Columbus</td>\n",
       "      <td>Craig Titley, Chris Columbus, Rick Riordan</td>\n",
       "      <td>Logan Lerman, Brandon T. Jackson, Alexandra Da...</td>\n",
       "      <td>2010-02-12</td>\n",
       "      <td>...</td>\n",
       "      <td>20th Century Fox</td>\n",
       "      <td>Rotten</td>\n",
       "      <td>49.0</td>\n",
       "      <td>149.0</td>\n",
       "      <td>Spilled</td>\n",
       "      <td>53.0</td>\n",
       "      <td>254421.0</td>\n",
       "      <td>43</td>\n",
       "      <td>73</td>\n",
       "      <td>76</td>\n",
       "    </tr>\n",
       "    <tr>\n",
       "      <th>1</th>\n",
       "      <td>m/0878835</td>\n",
       "      <td>Please Give</td>\n",
       "      <td>Kate (Catherine Keener) and her husband Alex (...</td>\n",
       "      <td>Nicole Holofcener's newest might seem slight i...</td>\n",
       "      <td>R</td>\n",
       "      <td>Comedy</td>\n",
       "      <td>Nicole Holofcener</td>\n",
       "      <td>Nicole Holofcener</td>\n",
       "      <td>Catherine Keener, Amanda Peet, Oliver Platt, R...</td>\n",
       "      <td>2010-04-30</td>\n",
       "      <td>...</td>\n",
       "      <td>Sony Pictures Classics</td>\n",
       "      <td>Certified-Fresh</td>\n",
       "      <td>87.0</td>\n",
       "      <td>142.0</td>\n",
       "      <td>Upright</td>\n",
       "      <td>64.0</td>\n",
       "      <td>11574.0</td>\n",
       "      <td>44</td>\n",
       "      <td>123</td>\n",
       "      <td>19</td>\n",
       "    </tr>\n",
       "    <tr>\n",
       "      <th>2</th>\n",
       "      <td>m/10</td>\n",
       "      <td>10</td>\n",
       "      <td>A successful, middle-aged Hollywood songwriter...</td>\n",
       "      <td>Blake Edwards' bawdy comedy may not score a pe...</td>\n",
       "      <td>R</td>\n",
       "      <td>Comedy, Romance</td>\n",
       "      <td>Blake Edwards</td>\n",
       "      <td>Blake Edwards</td>\n",
       "      <td>Dudley Moore, Bo Derek, Julie Andrews, Robert ...</td>\n",
       "      <td>1979-10-05</td>\n",
       "      <td>...</td>\n",
       "      <td>Waner Bros.</td>\n",
       "      <td>Fresh</td>\n",
       "      <td>67.0</td>\n",
       "      <td>24.0</td>\n",
       "      <td>Spilled</td>\n",
       "      <td>53.0</td>\n",
       "      <td>14684.0</td>\n",
       "      <td>2</td>\n",
       "      <td>16</td>\n",
       "      <td>8</td>\n",
       "    </tr>\n",
       "    <tr>\n",
       "      <th>3</th>\n",
       "      <td>m/1000013-12_angry_men</td>\n",
       "      <td>12 Angry Men (Twelve Angry Men)</td>\n",
       "      <td>Following the closing arguments in a murder tr...</td>\n",
       "      <td>Sidney Lumet's feature debut is a superbly wri...</td>\n",
       "      <td>NR</td>\n",
       "      <td>Classics, Drama</td>\n",
       "      <td>Sidney Lumet</td>\n",
       "      <td>Reginald Rose</td>\n",
       "      <td>Martin Balsam, John Fiedler, Lee J. Cobb, E.G....</td>\n",
       "      <td>1957-04-13</td>\n",
       "      <td>...</td>\n",
       "      <td>Criterion Collection</td>\n",
       "      <td>Certified-Fresh</td>\n",
       "      <td>100.0</td>\n",
       "      <td>54.0</td>\n",
       "      <td>Upright</td>\n",
       "      <td>97.0</td>\n",
       "      <td>105386.0</td>\n",
       "      <td>6</td>\n",
       "      <td>54</td>\n",
       "      <td>0</td>\n",
       "    </tr>\n",
       "    <tr>\n",
       "      <th>4</th>\n",
       "      <td>m/1000079-20000_leagues_under_the_sea</td>\n",
       "      <td>20,000 Leagues Under The Sea</td>\n",
       "      <td>In 1866, Professor Pierre M. Aronnax (Paul Luk...</td>\n",
       "      <td>One of Disney's finest live-action adventures,...</td>\n",
       "      <td>G</td>\n",
       "      <td>Action &amp; Adventure, Drama, Kids &amp; Family</td>\n",
       "      <td>Richard Fleischer</td>\n",
       "      <td>Earl Felton</td>\n",
       "      <td>James Mason, Kirk Douglas, Paul Lukas, Peter L...</td>\n",
       "      <td>1954-01-01</td>\n",
       "      <td>...</td>\n",
       "      <td>Disney</td>\n",
       "      <td>Fresh</td>\n",
       "      <td>89.0</td>\n",
       "      <td>27.0</td>\n",
       "      <td>Upright</td>\n",
       "      <td>74.0</td>\n",
       "      <td>68918.0</td>\n",
       "      <td>5</td>\n",
       "      <td>24</td>\n",
       "      <td>3</td>\n",
       "    </tr>\n",
       "  </tbody>\n",
       "</table>\n",
       "<p>5 rows × 22 columns</p>\n",
       "</div>"
      ],
      "text/plain": [
       "                    rotten_tomatoes_link  \\\n",
       "0                              m/0814255   \n",
       "1                              m/0878835   \n",
       "2                                   m/10   \n",
       "3                 m/1000013-12_angry_men   \n",
       "4  m/1000079-20000_leagues_under_the_sea   \n",
       "\n",
       "                                         movie_title  \\\n",
       "0  Percy Jackson & the Olympians: The Lightning T...   \n",
       "1                                        Please Give   \n",
       "2                                                 10   \n",
       "3                    12 Angry Men (Twelve Angry Men)   \n",
       "4                       20,000 Leagues Under The Sea   \n",
       "\n",
       "                                          movie_info  \\\n",
       "0  Always trouble-prone, the life of teenager Per...   \n",
       "1  Kate (Catherine Keener) and her husband Alex (...   \n",
       "2  A successful, middle-aged Hollywood songwriter...   \n",
       "3  Following the closing arguments in a murder tr...   \n",
       "4  In 1866, Professor Pierre M. Aronnax (Paul Luk...   \n",
       "\n",
       "                                   critics_consensus content_rating  \\\n",
       "0  Though it may seem like just another Harry Pot...             PG   \n",
       "1  Nicole Holofcener's newest might seem slight i...              R   \n",
       "2  Blake Edwards' bawdy comedy may not score a pe...              R   \n",
       "3  Sidney Lumet's feature debut is a superbly wri...             NR   \n",
       "4  One of Disney's finest live-action adventures,...              G   \n",
       "\n",
       "                                              genres          directors  \\\n",
       "0  Action & Adventure, Comedy, Drama, Science Fic...     Chris Columbus   \n",
       "1                                             Comedy  Nicole Holofcener   \n",
       "2                                    Comedy, Romance      Blake Edwards   \n",
       "3                                    Classics, Drama       Sidney Lumet   \n",
       "4           Action & Adventure, Drama, Kids & Family  Richard Fleischer   \n",
       "\n",
       "                                      authors  \\\n",
       "0  Craig Titley, Chris Columbus, Rick Riordan   \n",
       "1                           Nicole Holofcener   \n",
       "2                               Blake Edwards   \n",
       "3                               Reginald Rose   \n",
       "4                                 Earl Felton   \n",
       "\n",
       "                                              actors original_release_date  \\\n",
       "0  Logan Lerman, Brandon T. Jackson, Alexandra Da...            2010-02-12   \n",
       "1  Catherine Keener, Amanda Peet, Oliver Platt, R...            2010-04-30   \n",
       "2  Dudley Moore, Bo Derek, Julie Andrews, Robert ...            1979-10-05   \n",
       "3  Martin Balsam, John Fiedler, Lee J. Cobb, E.G....            1957-04-13   \n",
       "4  James Mason, Kirk Douglas, Paul Lukas, Peter L...            1954-01-01   \n",
       "\n",
       "   ...      production_company  tomatometer_status tomatometer_rating  \\\n",
       "0  ...        20th Century Fox              Rotten               49.0   \n",
       "1  ...  Sony Pictures Classics     Certified-Fresh               87.0   \n",
       "2  ...             Waner Bros.               Fresh               67.0   \n",
       "3  ...    Criterion Collection     Certified-Fresh              100.0   \n",
       "4  ...                  Disney               Fresh               89.0   \n",
       "\n",
       "  tomatometer_count  audience_status  audience_rating audience_count  \\\n",
       "0             149.0          Spilled             53.0       254421.0   \n",
       "1             142.0          Upright             64.0        11574.0   \n",
       "2              24.0          Spilled             53.0        14684.0   \n",
       "3              54.0          Upright             97.0       105386.0   \n",
       "4              27.0          Upright             74.0        68918.0   \n",
       "\n",
       "   tomatometer_top_critics_count  tomatometer_fresh_critics_count  \\\n",
       "0                             43                               73   \n",
       "1                             44                              123   \n",
       "2                              2                               16   \n",
       "3                              6                               54   \n",
       "4                              5                               24   \n",
       "\n",
       "   tomatometer_rotten_critics_count  \n",
       "0                                76  \n",
       "1                                19  \n",
       "2                                 8  \n",
       "3                                 0  \n",
       "4                                 3  \n",
       "\n",
       "[5 rows x 22 columns]"
      ]
     },
     "execution_count": 29,
     "metadata": {},
     "output_type": "execute_result"
    }
   ],
   "source": [
    "df = pd.read_csv('data/zippedData/rotten_tomatoes_movies.csv.gz')\n",
    "df.head()"
   ]
  },
  {
   "cell_type": "markdown",
   "metadata": {},
   "source": [
    "Filtering the relevent columns from the Rotten Tomates data set"
   ]
  },
  {
   "cell_type": "code",
   "execution_count": 30,
   "metadata": {},
   "outputs": [
    {
     "data": {
      "text/html": [
       "<div>\n",
       "<style scoped>\n",
       "    .dataframe tbody tr th:only-of-type {\n",
       "        vertical-align: middle;\n",
       "    }\n",
       "\n",
       "    .dataframe tbody tr th {\n",
       "        vertical-align: top;\n",
       "    }\n",
       "\n",
       "    .dataframe thead th {\n",
       "        text-align: right;\n",
       "    }\n",
       "</style>\n",
       "<table border=\"1\" class=\"dataframe\">\n",
       "  <thead>\n",
       "    <tr style=\"text-align: right;\">\n",
       "      <th></th>\n",
       "      <th>movie_title</th>\n",
       "      <th>content_rating</th>\n",
       "      <th>audience_count</th>\n",
       "    </tr>\n",
       "  </thead>\n",
       "  <tbody>\n",
       "    <tr>\n",
       "      <th>0</th>\n",
       "      <td>Percy Jackson &amp; the Olympians: The Lightning T...</td>\n",
       "      <td>PG</td>\n",
       "      <td>254421.0</td>\n",
       "    </tr>\n",
       "    <tr>\n",
       "      <th>1</th>\n",
       "      <td>Please Give</td>\n",
       "      <td>R</td>\n",
       "      <td>11574.0</td>\n",
       "    </tr>\n",
       "    <tr>\n",
       "      <th>2</th>\n",
       "      <td>10</td>\n",
       "      <td>R</td>\n",
       "      <td>14684.0</td>\n",
       "    </tr>\n",
       "    <tr>\n",
       "      <th>3</th>\n",
       "      <td>12 Angry Men (Twelve Angry Men)</td>\n",
       "      <td>NR</td>\n",
       "      <td>105386.0</td>\n",
       "    </tr>\n",
       "    <tr>\n",
       "      <th>4</th>\n",
       "      <td>20,000 Leagues Under The Sea</td>\n",
       "      <td>G</td>\n",
       "      <td>68918.0</td>\n",
       "    </tr>\n",
       "    <tr>\n",
       "      <th>...</th>\n",
       "      <td>...</td>\n",
       "      <td>...</td>\n",
       "      <td>...</td>\n",
       "    </tr>\n",
       "    <tr>\n",
       "      <th>17707</th>\n",
       "      <td>Zoot Suit</td>\n",
       "      <td>R</td>\n",
       "      <td>1195.0</td>\n",
       "    </tr>\n",
       "    <tr>\n",
       "      <th>17708</th>\n",
       "      <td>Zootopia</td>\n",
       "      <td>PG</td>\n",
       "      <td>101511.0</td>\n",
       "    </tr>\n",
       "    <tr>\n",
       "      <th>17709</th>\n",
       "      <td>Zorba the Greek</td>\n",
       "      <td>NR</td>\n",
       "      <td>7146.0</td>\n",
       "    </tr>\n",
       "    <tr>\n",
       "      <th>17710</th>\n",
       "      <td>Zulu</td>\n",
       "      <td>PG</td>\n",
       "      <td>30193.0</td>\n",
       "    </tr>\n",
       "    <tr>\n",
       "      <th>17711</th>\n",
       "      <td>Zulu Dawn</td>\n",
       "      <td>PG</td>\n",
       "      <td>4469.0</td>\n",
       "    </tr>\n",
       "  </tbody>\n",
       "</table>\n",
       "<p>17712 rows × 3 columns</p>\n",
       "</div>"
      ],
      "text/plain": [
       "                                             movie_title content_rating  \\\n",
       "0      Percy Jackson & the Olympians: The Lightning T...             PG   \n",
       "1                                            Please Give              R   \n",
       "2                                                     10              R   \n",
       "3                        12 Angry Men (Twelve Angry Men)             NR   \n",
       "4                           20,000 Leagues Under The Sea              G   \n",
       "...                                                  ...            ...   \n",
       "17707                                          Zoot Suit              R   \n",
       "17708                                           Zootopia             PG   \n",
       "17709                                    Zorba the Greek             NR   \n",
       "17710                                               Zulu             PG   \n",
       "17711                                          Zulu Dawn             PG   \n",
       "\n",
       "       audience_count  \n",
       "0            254421.0  \n",
       "1             11574.0  \n",
       "2             14684.0  \n",
       "3            105386.0  \n",
       "4             68918.0  \n",
       "...               ...  \n",
       "17707          1195.0  \n",
       "17708        101511.0  \n",
       "17709          7146.0  \n",
       "17710         30193.0  \n",
       "17711          4469.0  \n",
       "\n",
       "[17712 rows x 3 columns]"
      ]
     },
     "execution_count": 30,
     "metadata": {},
     "output_type": "execute_result"
    }
   ],
   "source": [
    "df = df[['movie_title', 'content_rating', 'audience_count']]\n",
    "df"
   ]
  },
  {
   "cell_type": "markdown",
   "metadata": {},
   "source": [
    "Sorting the movies by audience_count by greatest to least from the Rotten Tomatoes data set"
   ]
  },
  {
   "cell_type": "code",
   "execution_count": 31,
   "metadata": {
    "scrolled": true
   },
   "outputs": [
    {
     "data": {
      "text/html": [
       "<div>\n",
       "<style scoped>\n",
       "    .dataframe tbody tr th:only-of-type {\n",
       "        vertical-align: middle;\n",
       "    }\n",
       "\n",
       "    .dataframe tbody tr th {\n",
       "        vertical-align: top;\n",
       "    }\n",
       "\n",
       "    .dataframe thead th {\n",
       "        text-align: right;\n",
       "    }\n",
       "</style>\n",
       "<table border=\"1\" class=\"dataframe\">\n",
       "  <thead>\n",
       "    <tr style=\"text-align: right;\">\n",
       "      <th></th>\n",
       "      <th>movie_title</th>\n",
       "      <th>content_rating</th>\n",
       "      <th>audience_count</th>\n",
       "    </tr>\n",
       "  </thead>\n",
       "  <tbody>\n",
       "    <tr>\n",
       "      <th>16297</th>\n",
       "      <td>Titanic</td>\n",
       "      <td>PG-13</td>\n",
       "      <td>35797635.0</td>\n",
       "    </tr>\n",
       "    <tr>\n",
       "      <th>15410</th>\n",
       "      <td>The Lord of the Rings: The Return of the King</td>\n",
       "      <td>PG-13</td>\n",
       "      <td>34679773.0</td>\n",
       "    </tr>\n",
       "    <tr>\n",
       "      <th>13694</th>\n",
       "      <td>Spider-Man</td>\n",
       "      <td>PG-13</td>\n",
       "      <td>34297354.0</td>\n",
       "    </tr>\n",
       "    <tr>\n",
       "      <th>13276</th>\n",
       "      <td>Shrek 2</td>\n",
       "      <td>PG</td>\n",
       "      <td>34232524.0</td>\n",
       "    </tr>\n",
       "    <tr>\n",
       "      <th>7526</th>\n",
       "      <td>Harry Potter and the Goblet of Fire</td>\n",
       "      <td>PG-13</td>\n",
       "      <td>34153607.0</td>\n",
       "    </tr>\n",
       "    <tr>\n",
       "      <th>...</th>\n",
       "      <td>...</td>\n",
       "      <td>...</td>\n",
       "      <td>...</td>\n",
       "    </tr>\n",
       "    <tr>\n",
       "      <th>17522</th>\n",
       "      <td>Working Girls</td>\n",
       "      <td>NR</td>\n",
       "      <td>NaN</td>\n",
       "    </tr>\n",
       "    <tr>\n",
       "      <th>17607</th>\n",
       "      <td>Yom Yom</td>\n",
       "      <td>NR</td>\n",
       "      <td>NaN</td>\n",
       "    </tr>\n",
       "    <tr>\n",
       "      <th>17609</th>\n",
       "      <td>Yosemite</td>\n",
       "      <td>R</td>\n",
       "      <td>NaN</td>\n",
       "    </tr>\n",
       "    <tr>\n",
       "      <th>17618</th>\n",
       "      <td>You Don't Need Feet to Dance</td>\n",
       "      <td>NR</td>\n",
       "      <td>NaN</td>\n",
       "    </tr>\n",
       "    <tr>\n",
       "      <th>17671</th>\n",
       "      <td>Z</td>\n",
       "      <td>NR</td>\n",
       "      <td>NaN</td>\n",
       "    </tr>\n",
       "  </tbody>\n",
       "</table>\n",
       "<p>17712 rows × 3 columns</p>\n",
       "</div>"
      ],
      "text/plain": [
       "                                         movie_title content_rating  \\\n",
       "16297                                        Titanic          PG-13   \n",
       "15410  The Lord of the Rings: The Return of the King          PG-13   \n",
       "13694                                     Spider-Man          PG-13   \n",
       "13276                                        Shrek 2             PG   \n",
       "7526             Harry Potter and the Goblet of Fire          PG-13   \n",
       "...                                              ...            ...   \n",
       "17522                                  Working Girls             NR   \n",
       "17607                                        Yom Yom             NR   \n",
       "17609                                       Yosemite              R   \n",
       "17618                   You Don't Need Feet to Dance             NR   \n",
       "17671                                              Z             NR   \n",
       "\n",
       "       audience_count  \n",
       "16297      35797635.0  \n",
       "15410      34679773.0  \n",
       "13694      34297354.0  \n",
       "13276      34232524.0  \n",
       "7526       34153607.0  \n",
       "...               ...  \n",
       "17522             NaN  \n",
       "17607             NaN  \n",
       "17609             NaN  \n",
       "17618             NaN  \n",
       "17671             NaN  \n",
       "\n",
       "[17712 rows x 3 columns]"
      ]
     },
     "execution_count": 31,
     "metadata": {},
     "output_type": "execute_result"
    }
   ],
   "source": [
    "df = df.sort_values('audience_count', ascending=False)\n",
    "df"
   ]
  },
  {
   "cell_type": "markdown",
   "metadata": {},
   "source": [
    "Deleting null values from audience_count values"
   ]
  },
  {
   "cell_type": "code",
   "execution_count": 32,
   "metadata": {},
   "outputs": [
    {
     "data": {
      "text/html": [
       "<div>\n",
       "<style scoped>\n",
       "    .dataframe tbody tr th:only-of-type {\n",
       "        vertical-align: middle;\n",
       "    }\n",
       "\n",
       "    .dataframe tbody tr th {\n",
       "        vertical-align: top;\n",
       "    }\n",
       "\n",
       "    .dataframe thead th {\n",
       "        text-align: right;\n",
       "    }\n",
       "</style>\n",
       "<table border=\"1\" class=\"dataframe\">\n",
       "  <thead>\n",
       "    <tr style=\"text-align: right;\">\n",
       "      <th></th>\n",
       "      <th>movie_title</th>\n",
       "      <th>content_rating</th>\n",
       "      <th>audience_count</th>\n",
       "    </tr>\n",
       "  </thead>\n",
       "  <tbody>\n",
       "    <tr>\n",
       "      <th>16297</th>\n",
       "      <td>Titanic</td>\n",
       "      <td>PG-13</td>\n",
       "      <td>35797635.0</td>\n",
       "    </tr>\n",
       "    <tr>\n",
       "      <th>15410</th>\n",
       "      <td>The Lord of the Rings: The Return of the King</td>\n",
       "      <td>PG-13</td>\n",
       "      <td>34679773.0</td>\n",
       "    </tr>\n",
       "    <tr>\n",
       "      <th>13694</th>\n",
       "      <td>Spider-Man</td>\n",
       "      <td>PG-13</td>\n",
       "      <td>34297354.0</td>\n",
       "    </tr>\n",
       "    <tr>\n",
       "      <th>13276</th>\n",
       "      <td>Shrek 2</td>\n",
       "      <td>PG</td>\n",
       "      <td>34232524.0</td>\n",
       "    </tr>\n",
       "    <tr>\n",
       "      <th>7526</th>\n",
       "      <td>Harry Potter and the Goblet of Fire</td>\n",
       "      <td>PG-13</td>\n",
       "      <td>34153607.0</td>\n",
       "    </tr>\n",
       "    <tr>\n",
       "      <th>...</th>\n",
       "      <td>...</td>\n",
       "      <td>...</td>\n",
       "      <td>...</td>\n",
       "    </tr>\n",
       "    <tr>\n",
       "      <th>6157</th>\n",
       "      <td>Evil Little Things</td>\n",
       "      <td>NR</td>\n",
       "      <td>5.0</td>\n",
       "    </tr>\n",
       "    <tr>\n",
       "      <th>1951</th>\n",
       "      <td>2 in the Bush: A Love Story</td>\n",
       "      <td>NR</td>\n",
       "      <td>5.0</td>\n",
       "    </tr>\n",
       "    <tr>\n",
       "      <th>10243</th>\n",
       "      <td>Measure for Measure</td>\n",
       "      <td>NR</td>\n",
       "      <td>5.0</td>\n",
       "    </tr>\n",
       "    <tr>\n",
       "      <th>7354</th>\n",
       "      <td>Guest Artist</td>\n",
       "      <td>NR</td>\n",
       "      <td>5.0</td>\n",
       "    </tr>\n",
       "    <tr>\n",
       "      <th>17119</th>\n",
       "      <td>The Wedding Banquet (Xi yan)</td>\n",
       "      <td>R</td>\n",
       "      <td>5.0</td>\n",
       "    </tr>\n",
       "  </tbody>\n",
       "</table>\n",
       "<p>17415 rows × 3 columns</p>\n",
       "</div>"
      ],
      "text/plain": [
       "                                         movie_title content_rating  \\\n",
       "16297                                        Titanic          PG-13   \n",
       "15410  The Lord of the Rings: The Return of the King          PG-13   \n",
       "13694                                     Spider-Man          PG-13   \n",
       "13276                                        Shrek 2             PG   \n",
       "7526             Harry Potter and the Goblet of Fire          PG-13   \n",
       "...                                              ...            ...   \n",
       "6157                              Evil Little Things             NR   \n",
       "1951                     2 in the Bush: A Love Story             NR   \n",
       "10243                            Measure for Measure             NR   \n",
       "7354                                    Guest Artist             NR   \n",
       "17119                   The Wedding Banquet (Xi yan)              R   \n",
       "\n",
       "       audience_count  \n",
       "16297      35797635.0  \n",
       "15410      34679773.0  \n",
       "13694      34297354.0  \n",
       "13276      34232524.0  \n",
       "7526       34153607.0  \n",
       "...               ...  \n",
       "6157              5.0  \n",
       "1951              5.0  \n",
       "10243             5.0  \n",
       "7354              5.0  \n",
       "17119             5.0  \n",
       "\n",
       "[17415 rows x 3 columns]"
      ]
     },
     "execution_count": 32,
     "metadata": {},
     "output_type": "execute_result"
    }
   ],
   "source": [
    "df = df[df['audience_count'].notna()]\n",
    "df\n",
    "#audience_count column ordered from greatest to least, and NaN values dropped"
   ]
  },
  {
   "cell_type": "markdown",
   "metadata": {},
   "source": [
    "Finding the mean for audience_count "
   ]
  },
  {
   "cell_type": "code",
   "execution_count": 33,
   "metadata": {},
   "outputs": [
    {
     "data": {
      "text/plain": [
       "143940.06833189778"
      ]
     },
     "execution_count": 33,
     "metadata": {},
     "output_type": "execute_result"
    }
   ],
   "source": [
    "df['audience_count'].mean()\n"
   ]
  },
  {
   "cell_type": "markdown",
   "metadata": {},
   "source": [
    "Amount of movies in each content_rating"
   ]
  },
  {
   "cell_type": "code",
   "execution_count": 34,
   "metadata": {
    "scrolled": true
   },
   "outputs": [
    {
     "data": {
      "text/plain": [
       "R        6348\n",
       "NR       5220\n",
       "PG-13    2970\n",
       "PG       2163\n",
       "G         676\n",
       "NC17       38\n",
       "Name: content_rating, dtype: int64"
      ]
     },
     "execution_count": 34,
     "metadata": {},
     "output_type": "execute_result"
    }
   ],
   "source": [
    "df.content_rating.value_counts()"
   ]
  },
  {
   "cell_type": "markdown",
   "metadata": {},
   "source": [
    "DataFrame with movies that have a value of R in content_rating"
   ]
  },
  {
   "cell_type": "code",
   "execution_count": 35,
   "metadata": {
    "scrolled": true
   },
   "outputs": [
    {
     "data": {
      "text/html": [
       "<div>\n",
       "<style scoped>\n",
       "    .dataframe tbody tr th:only-of-type {\n",
       "        vertical-align: middle;\n",
       "    }\n",
       "\n",
       "    .dataframe tbody tr th {\n",
       "        vertical-align: top;\n",
       "    }\n",
       "\n",
       "    .dataframe thead th {\n",
       "        text-align: right;\n",
       "    }\n",
       "</style>\n",
       "<table border=\"1\" class=\"dataframe\">\n",
       "  <thead>\n",
       "    <tr style=\"text-align: right;\">\n",
       "      <th></th>\n",
       "      <th>movie_title</th>\n",
       "      <th>content_rating</th>\n",
       "      <th>audience_count</th>\n",
       "    </tr>\n",
       "  </thead>\n",
       "  <tbody>\n",
       "    <tr>\n",
       "      <th>7052</th>\n",
       "      <td>Gladiator</td>\n",
       "      <td>R</td>\n",
       "      <td>34128168.0</td>\n",
       "    </tr>\n",
       "    <tr>\n",
       "      <th>2662</th>\n",
       "      <td>American Pie</td>\n",
       "      <td>R</td>\n",
       "      <td>33781574.0</td>\n",
       "    </tr>\n",
       "    <tr>\n",
       "      <th>10183</th>\n",
       "      <td>The Matrix</td>\n",
       "      <td>R</td>\n",
       "      <td>33324202.0</td>\n",
       "    </tr>\n",
       "    <tr>\n",
       "      <th>16106</th>\n",
       "      <td>There's Something About Mary</td>\n",
       "      <td>R</td>\n",
       "      <td>33121539.0</td>\n",
       "    </tr>\n",
       "    <tr>\n",
       "      <th>17120</th>\n",
       "      <td>Wedding Crashers</td>\n",
       "      <td>R</td>\n",
       "      <td>32961772.0</td>\n",
       "    </tr>\n",
       "    <tr>\n",
       "      <th>...</th>\n",
       "      <td>...</td>\n",
       "      <td>...</td>\n",
       "      <td>...</td>\n",
       "    </tr>\n",
       "    <tr>\n",
       "      <th>7549</th>\n",
       "      <td>Haunt</td>\n",
       "      <td>R</td>\n",
       "      <td>8.0</td>\n",
       "    </tr>\n",
       "    <tr>\n",
       "      <th>4794</th>\n",
       "      <td>Come to Daddy</td>\n",
       "      <td>R</td>\n",
       "      <td>8.0</td>\n",
       "    </tr>\n",
       "    <tr>\n",
       "      <th>14807</th>\n",
       "      <td>The Death of Dick Long</td>\n",
       "      <td>R</td>\n",
       "      <td>7.0</td>\n",
       "    </tr>\n",
       "    <tr>\n",
       "      <th>7376</th>\n",
       "      <td>Guns Akimbo</td>\n",
       "      <td>R</td>\n",
       "      <td>5.0</td>\n",
       "    </tr>\n",
       "    <tr>\n",
       "      <th>17119</th>\n",
       "      <td>The Wedding Banquet (Xi yan)</td>\n",
       "      <td>R</td>\n",
       "      <td>5.0</td>\n",
       "    </tr>\n",
       "  </tbody>\n",
       "</table>\n",
       "<p>6348 rows × 3 columns</p>\n",
       "</div>"
      ],
      "text/plain": [
       "                        movie_title content_rating  audience_count\n",
       "7052                      Gladiator              R      34128168.0\n",
       "2662                   American Pie              R      33781574.0\n",
       "10183                    The Matrix              R      33324202.0\n",
       "16106  There's Something About Mary              R      33121539.0\n",
       "17120              Wedding Crashers              R      32961772.0\n",
       "...                             ...            ...             ...\n",
       "7549                          Haunt              R             8.0\n",
       "4794                  Come to Daddy              R             8.0\n",
       "14807        The Death of Dick Long              R             7.0\n",
       "7376                    Guns Akimbo              R             5.0\n",
       "17119  The Wedding Banquet (Xi yan)              R             5.0\n",
       "\n",
       "[6348 rows x 3 columns]"
      ]
     },
     "execution_count": 35,
     "metadata": {},
     "output_type": "execute_result"
    }
   ],
   "source": [
    "df_R = df.loc[df['content_rating'] == 'R']\n",
    "df_R"
   ]
  },
  {
   "cell_type": "markdown",
   "metadata": {},
   "source": [
    "Mean audience_count for movies with a content_rating of R"
   ]
  },
  {
   "cell_type": "code",
   "execution_count": 36,
   "metadata": {
    "scrolled": true
   },
   "outputs": [
    {
     "data": {
      "text/plain": [
       "audience_count    117463.646345\n",
       "dtype: float64"
      ]
     },
     "execution_count": 36,
     "metadata": {},
     "output_type": "execute_result"
    }
   ],
   "source": [
    "df_R.mean()"
   ]
  },
  {
   "cell_type": "markdown",
   "metadata": {},
   "source": [
    "DataFrame with movies that have a value of PG-13 in content_rating"
   ]
  },
  {
   "cell_type": "code",
   "execution_count": 37,
   "metadata": {},
   "outputs": [
    {
     "data": {
      "text/html": [
       "<div>\n",
       "<style scoped>\n",
       "    .dataframe tbody tr th:only-of-type {\n",
       "        vertical-align: middle;\n",
       "    }\n",
       "\n",
       "    .dataframe tbody tr th {\n",
       "        vertical-align: top;\n",
       "    }\n",
       "\n",
       "    .dataframe thead th {\n",
       "        text-align: right;\n",
       "    }\n",
       "</style>\n",
       "<table border=\"1\" class=\"dataframe\">\n",
       "  <thead>\n",
       "    <tr style=\"text-align: right;\">\n",
       "      <th></th>\n",
       "      <th>movie_title</th>\n",
       "      <th>content_rating</th>\n",
       "      <th>audience_count</th>\n",
       "    </tr>\n",
       "  </thead>\n",
       "  <tbody>\n",
       "    <tr>\n",
       "      <th>16297</th>\n",
       "      <td>Titanic</td>\n",
       "      <td>PG-13</td>\n",
       "      <td>35797635.0</td>\n",
       "    </tr>\n",
       "    <tr>\n",
       "      <th>15410</th>\n",
       "      <td>The Lord of the Rings: The Return of the King</td>\n",
       "      <td>PG-13</td>\n",
       "      <td>34679773.0</td>\n",
       "    </tr>\n",
       "    <tr>\n",
       "      <th>13694</th>\n",
       "      <td>Spider-Man</td>\n",
       "      <td>PG-13</td>\n",
       "      <td>34297354.0</td>\n",
       "    </tr>\n",
       "    <tr>\n",
       "      <th>7526</th>\n",
       "      <td>Harry Potter and the Goblet of Fire</td>\n",
       "      <td>PG-13</td>\n",
       "      <td>34153607.0</td>\n",
       "    </tr>\n",
       "    <tr>\n",
       "      <th>9014</th>\n",
       "      <td>King Kong</td>\n",
       "      <td>PG-13</td>\n",
       "      <td>33766734.0</td>\n",
       "    </tr>\n",
       "    <tr>\n",
       "      <th>...</th>\n",
       "      <td>...</td>\n",
       "      <td>...</td>\n",
       "      <td>...</td>\n",
       "    </tr>\n",
       "    <tr>\n",
       "      <th>14937</th>\n",
       "      <td>The Fight</td>\n",
       "      <td>PG-13</td>\n",
       "      <td>27.0</td>\n",
       "    </tr>\n",
       "    <tr>\n",
       "      <th>14352</th>\n",
       "      <td>Tesla</td>\n",
       "      <td>PG-13</td>\n",
       "      <td>14.0</td>\n",
       "    </tr>\n",
       "    <tr>\n",
       "      <th>12364</th>\n",
       "      <td>Red Penguins</td>\n",
       "      <td>PG-13</td>\n",
       "      <td>7.0</td>\n",
       "    </tr>\n",
       "    <tr>\n",
       "      <th>13943</th>\n",
       "      <td>Strange But True</td>\n",
       "      <td>PG-13</td>\n",
       "      <td>6.0</td>\n",
       "    </tr>\n",
       "    <tr>\n",
       "      <th>11425</th>\n",
       "      <td>Ophelia</td>\n",
       "      <td>PG-13</td>\n",
       "      <td>5.0</td>\n",
       "    </tr>\n",
       "  </tbody>\n",
       "</table>\n",
       "<p>2970 rows × 3 columns</p>\n",
       "</div>"
      ],
      "text/plain": [
       "                                         movie_title content_rating  \\\n",
       "16297                                        Titanic          PG-13   \n",
       "15410  The Lord of the Rings: The Return of the King          PG-13   \n",
       "13694                                     Spider-Man          PG-13   \n",
       "7526             Harry Potter and the Goblet of Fire          PG-13   \n",
       "9014                                       King Kong          PG-13   \n",
       "...                                              ...            ...   \n",
       "14937                                      The Fight          PG-13   \n",
       "14352                                          Tesla          PG-13   \n",
       "12364                                   Red Penguins          PG-13   \n",
       "13943                               Strange But True          PG-13   \n",
       "11425                                        Ophelia          PG-13   \n",
       "\n",
       "       audience_count  \n",
       "16297      35797635.0  \n",
       "15410      34679773.0  \n",
       "13694      34297354.0  \n",
       "7526       34153607.0  \n",
       "9014       33766734.0  \n",
       "...               ...  \n",
       "14937            27.0  \n",
       "14352            14.0  \n",
       "12364             7.0  \n",
       "13943             6.0  \n",
       "11425             5.0  \n",
       "\n",
       "[2970 rows x 3 columns]"
      ]
     },
     "execution_count": 37,
     "metadata": {},
     "output_type": "execute_result"
    }
   ],
   "source": [
    "df_PG13 = df.loc[df['content_rating'] == 'PG-13']\n",
    "df_PG13"
   ]
  },
  {
   "cell_type": "markdown",
   "metadata": {},
   "source": [
    "Mean audience_count for movies with a content_rating of Pg-13"
   ]
  },
  {
   "cell_type": "code",
   "execution_count": 38,
   "metadata": {
    "scrolled": true
   },
   "outputs": [
    {
     "data": {
      "text/plain": [
       "audience_count    415981.044781\n",
       "dtype: float64"
      ]
     },
     "execution_count": 38,
     "metadata": {},
     "output_type": "execute_result"
    }
   ],
   "source": [
    "df_PG13.mean()"
   ]
  },
  {
   "cell_type": "markdown",
   "metadata": {},
   "source": [
    "Seaborn barplot for Average Audience per Movie by Content rating"
   ]
  },
  {
   "cell_type": "code",
   "execution_count": 39,
   "metadata": {},
   "outputs": [
    {
     "data": {
      "text/plain": [
       "Text(0.5, 1.0, 'Average Audience per Movie by Content Rating')"
      ]
     },
     "execution_count": 39,
     "metadata": {},
     "output_type": "execute_result"
    },
    {
     "data": {
      "image/png": "[encoded data removed]",
      "text/plain": [
       "<Figure size 1080x864 with 1 Axes>"
      ]
     },
     "metadata": {
      "needs_background": "light"
     },
     "output_type": "display_data"
    }
   ],
   "source": [
    "plot_fig, plot_ax = plt.subplots(figsize=(15, 12))\n",
    "\n",
    "sns.barplot(x=\"content_rating\", y=\"audience_count\", data=df)\n",
    "plot_ax.set_xlabel('Content Rating', fontsize=15)\n",
    "plot_ax.set_ylabel('Mean Audience Count', fontsize=15);\n",
    "plot_ax.set_title('Average Audience per Movie by Content Rating', fontsize=23)\n"
   ]
  },
  {
   "cell_type": "code",
   "execution_count": null,
   "metadata": {},
   "outputs": [],
   "source": []
  },
  {
   "cell_type": "markdown",
   "metadata": {},
   "source": [
    "<hr><font color=\"green\"><h1>from file: CMovie_analysis_genres_ross</h1></font>"
   ]
  },
  {
   "cell_type": "code",
   "execution_count": 40,
   "metadata": {},
   "outputs": [],
   "source": [
    "import pandas as pd\n",
    "import matplotlib.pyplot as plt\n",
    "import seaborn as sns\n",
    "import numpy as np\n",
    "import warnings"
   ]
  },
  {
   "cell_type": "markdown",
   "metadata": {},
   "source": [
    "**Reads in the Rotten Tomatoes csv data and prints the first few rows**"
   ]
  },
  {
   "cell_type": "code",
   "execution_count": 41,
   "metadata": {
    "scrolled": true
   },
   "outputs": [
    {
     "data": {
      "text/html": [
       "<div>\n",
       "<style scoped>\n",
       "    .dataframe tbody tr th:only-of-type {\n",
       "        vertical-align: middle;\n",
       "    }\n",
       "\n",
       "    .dataframe tbody tr th {\n",
       "        vertical-align: top;\n",
       "    }\n",
       "\n",
       "    .dataframe thead th {\n",
       "        text-align: right;\n",
       "    }\n",
       "</style>\n",
       "<table border=\"1\" class=\"dataframe\">\n",
       "  <thead>\n",
       "    <tr style=\"text-align: right;\">\n",
       "      <th></th>\n",
       "      <th>rotten_tomatoes_link</th>\n",
       "      <th>movie_title</th>\n",
       "      <th>movie_info</th>\n",
       "      <th>critics_consensus</th>\n",
       "      <th>content_rating</th>\n",
       "      <th>genres</th>\n",
       "      <th>directors</th>\n",
       "      <th>authors</th>\n",
       "      <th>actors</th>\n",
       "      <th>original_release_date</th>\n",
       "      <th>...</th>\n",
       "      <th>production_company</th>\n",
       "      <th>tomatometer_status</th>\n",
       "      <th>tomatometer_rating</th>\n",
       "      <th>tomatometer_count</th>\n",
       "      <th>audience_status</th>\n",
       "      <th>audience_rating</th>\n",
       "      <th>audience_count</th>\n",
       "      <th>tomatometer_top_critics_count</th>\n",
       "      <th>tomatometer_fresh_critics_count</th>\n",
       "      <th>tomatometer_rotten_critics_count</th>\n",
       "    </tr>\n",
       "  </thead>\n",
       "  <tbody>\n",
       "    <tr>\n",
       "      <th>0</th>\n",
       "      <td>m/0814255</td>\n",
       "      <td>Percy Jackson &amp; the Olympians: The Lightning T...</td>\n",
       "      <td>Always trouble-prone, the life of teenager Per...</td>\n",
       "      <td>Though it may seem like just another Harry Pot...</td>\n",
       "      <td>PG</td>\n",
       "      <td>Action &amp; Adventure, Comedy, Drama, Science Fic...</td>\n",
       "      <td>Chris Columbus</td>\n",
       "      <td>Craig Titley, Chris Columbus, Rick Riordan</td>\n",
       "      <td>Logan Lerman, Brandon T. Jackson, Alexandra Da...</td>\n",
       "      <td>2010-02-12</td>\n",
       "      <td>...</td>\n",
       "      <td>20th Century Fox</td>\n",
       "      <td>Rotten</td>\n",
       "      <td>49.0</td>\n",
       "      <td>149.0</td>\n",
       "      <td>Spilled</td>\n",
       "      <td>53.0</td>\n",
       "      <td>254421.0</td>\n",
       "      <td>43</td>\n",
       "      <td>73</td>\n",
       "      <td>76</td>\n",
       "    </tr>\n",
       "    <tr>\n",
       "      <th>1</th>\n",
       "      <td>m/0878835</td>\n",
       "      <td>Please Give</td>\n",
       "      <td>Kate (Catherine Keener) and her husband Alex (...</td>\n",
       "      <td>Nicole Holofcener's newest might seem slight i...</td>\n",
       "      <td>R</td>\n",
       "      <td>Comedy</td>\n",
       "      <td>Nicole Holofcener</td>\n",
       "      <td>Nicole Holofcener</td>\n",
       "      <td>Catherine Keener, Amanda Peet, Oliver Platt, R...</td>\n",
       "      <td>2010-04-30</td>\n",
       "      <td>...</td>\n",
       "      <td>Sony Pictures Classics</td>\n",
       "      <td>Certified-Fresh</td>\n",
       "      <td>87.0</td>\n",
       "      <td>142.0</td>\n",
       "      <td>Upright</td>\n",
       "      <td>64.0</td>\n",
       "      <td>11574.0</td>\n",
       "      <td>44</td>\n",
       "      <td>123</td>\n",
       "      <td>19</td>\n",
       "    </tr>\n",
       "  </tbody>\n",
       "</table>\n",
       "<p>2 rows × 22 columns</p>\n",
       "</div>"
      ],
      "text/plain": [
       "  rotten_tomatoes_link                                        movie_title  \\\n",
       "0            m/0814255  Percy Jackson & the Olympians: The Lightning T...   \n",
       "1            m/0878835                                        Please Give   \n",
       "\n",
       "                                          movie_info  \\\n",
       "0  Always trouble-prone, the life of teenager Per...   \n",
       "1  Kate (Catherine Keener) and her husband Alex (...   \n",
       "\n",
       "                                   critics_consensus content_rating  \\\n",
       "0  Though it may seem like just another Harry Pot...             PG   \n",
       "1  Nicole Holofcener's newest might seem slight i...              R   \n",
       "\n",
       "                                              genres          directors  \\\n",
       "0  Action & Adventure, Comedy, Drama, Science Fic...     Chris Columbus   \n",
       "1                                             Comedy  Nicole Holofcener   \n",
       "\n",
       "                                      authors  \\\n",
       "0  Craig Titley, Chris Columbus, Rick Riordan   \n",
       "1                           Nicole Holofcener   \n",
       "\n",
       "                                              actors original_release_date  \\\n",
       "0  Logan Lerman, Brandon T. Jackson, Alexandra Da...            2010-02-12   \n",
       "1  Catherine Keener, Amanda Peet, Oliver Platt, R...            2010-04-30   \n",
       "\n",
       "   ...      production_company  tomatometer_status tomatometer_rating  \\\n",
       "0  ...        20th Century Fox              Rotten               49.0   \n",
       "1  ...  Sony Pictures Classics     Certified-Fresh               87.0   \n",
       "\n",
       "  tomatometer_count  audience_status  audience_rating audience_count  \\\n",
       "0             149.0          Spilled             53.0       254421.0   \n",
       "1             142.0          Upright             64.0        11574.0   \n",
       "\n",
       "   tomatometer_top_critics_count  tomatometer_fresh_critics_count  \\\n",
       "0                             43                               73   \n",
       "1                             44                              123   \n",
       "\n",
       "   tomatometer_rotten_critics_count  \n",
       "0                                76  \n",
       "1                                19  \n",
       "\n",
       "[2 rows x 22 columns]"
      ]
     },
     "execution_count": 41,
     "metadata": {},
     "output_type": "execute_result"
    }
   ],
   "source": [
    "df = pd.read_csv('data/zippedData/rotten_tomatoes_movies.csv.gz')\n",
    "df.head(2)"
   ]
  },
  {
   "cell_type": "markdown",
   "metadata": {},
   "source": [
    "**Reads in the movie gross csv data and prints the first few rows**"
   ]
  },
  {
   "cell_type": "code",
   "execution_count": 42,
   "metadata": {},
   "outputs": [
    {
     "data": {
      "text/html": [
       "<div>\n",
       "<style scoped>\n",
       "    .dataframe tbody tr th:only-of-type {\n",
       "        vertical-align: middle;\n",
       "    }\n",
       "\n",
       "    .dataframe tbody tr th {\n",
       "        vertical-align: top;\n",
       "    }\n",
       "\n",
       "    .dataframe thead th {\n",
       "        text-align: right;\n",
       "    }\n",
       "</style>\n",
       "<table border=\"1\" class=\"dataframe\">\n",
       "  <thead>\n",
       "    <tr style=\"text-align: right;\">\n",
       "      <th></th>\n",
       "      <th>title</th>\n",
       "      <th>studio</th>\n",
       "      <th>domestic_gross</th>\n",
       "      <th>foreign_gross</th>\n",
       "      <th>year</th>\n",
       "    </tr>\n",
       "  </thead>\n",
       "  <tbody>\n",
       "    <tr>\n",
       "      <th>0</th>\n",
       "      <td>Toy Story 3</td>\n",
       "      <td>BV</td>\n",
       "      <td>415000000.0</td>\n",
       "      <td>652000000</td>\n",
       "      <td>2010</td>\n",
       "    </tr>\n",
       "    <tr>\n",
       "      <th>1</th>\n",
       "      <td>Alice in Wonderland (2010)</td>\n",
       "      <td>BV</td>\n",
       "      <td>334200000.0</td>\n",
       "      <td>691300000</td>\n",
       "      <td>2010</td>\n",
       "    </tr>\n",
       "    <tr>\n",
       "      <th>2</th>\n",
       "      <td>Harry Potter and the Deathly Hallows Part 1</td>\n",
       "      <td>WB</td>\n",
       "      <td>296000000.0</td>\n",
       "      <td>664300000</td>\n",
       "      <td>2010</td>\n",
       "    </tr>\n",
       "    <tr>\n",
       "      <th>3</th>\n",
       "      <td>Inception</td>\n",
       "      <td>WB</td>\n",
       "      <td>292600000.0</td>\n",
       "      <td>535700000</td>\n",
       "      <td>2010</td>\n",
       "    </tr>\n",
       "    <tr>\n",
       "      <th>4</th>\n",
       "      <td>Shrek Forever After</td>\n",
       "      <td>P/DW</td>\n",
       "      <td>238700000.0</td>\n",
       "      <td>513900000</td>\n",
       "      <td>2010</td>\n",
       "    </tr>\n",
       "    <tr>\n",
       "      <th>...</th>\n",
       "      <td>...</td>\n",
       "      <td>...</td>\n",
       "      <td>...</td>\n",
       "      <td>...</td>\n",
       "      <td>...</td>\n",
       "    </tr>\n",
       "    <tr>\n",
       "      <th>3382</th>\n",
       "      <td>The Quake</td>\n",
       "      <td>Magn.</td>\n",
       "      <td>6200.0</td>\n",
       "      <td>NaN</td>\n",
       "      <td>2018</td>\n",
       "    </tr>\n",
       "    <tr>\n",
       "      <th>3383</th>\n",
       "      <td>Edward II (2018 re-release)</td>\n",
       "      <td>FM</td>\n",
       "      <td>4800.0</td>\n",
       "      <td>NaN</td>\n",
       "      <td>2018</td>\n",
       "    </tr>\n",
       "    <tr>\n",
       "      <th>3384</th>\n",
       "      <td>El Pacto</td>\n",
       "      <td>Sony</td>\n",
       "      <td>2500.0</td>\n",
       "      <td>NaN</td>\n",
       "      <td>2018</td>\n",
       "    </tr>\n",
       "    <tr>\n",
       "      <th>3385</th>\n",
       "      <td>The Swan</td>\n",
       "      <td>Synergetic</td>\n",
       "      <td>2400.0</td>\n",
       "      <td>NaN</td>\n",
       "      <td>2018</td>\n",
       "    </tr>\n",
       "    <tr>\n",
       "      <th>3386</th>\n",
       "      <td>An Actor Prepares</td>\n",
       "      <td>Grav.</td>\n",
       "      <td>1700.0</td>\n",
       "      <td>NaN</td>\n",
       "      <td>2018</td>\n",
       "    </tr>\n",
       "  </tbody>\n",
       "</table>\n",
       "<p>3387 rows × 5 columns</p>\n",
       "</div>"
      ],
      "text/plain": [
       "                                            title      studio  domestic_gross  \\\n",
       "0                                     Toy Story 3          BV     415000000.0   \n",
       "1                      Alice in Wonderland (2010)          BV     334200000.0   \n",
       "2     Harry Potter and the Deathly Hallows Part 1          WB     296000000.0   \n",
       "3                                       Inception          WB     292600000.0   \n",
       "4                             Shrek Forever After        P/DW     238700000.0   \n",
       "...                                           ...         ...             ...   \n",
       "3382                                    The Quake       Magn.          6200.0   \n",
       "3383                  Edward II (2018 re-release)          FM          4800.0   \n",
       "3384                                     El Pacto        Sony          2500.0   \n",
       "3385                                     The Swan  Synergetic          2400.0   \n",
       "3386                            An Actor Prepares       Grav.          1700.0   \n",
       "\n",
       "     foreign_gross  year  \n",
       "0        652000000  2010  \n",
       "1        691300000  2010  \n",
       "2        664300000  2010  \n",
       "3        535700000  2010  \n",
       "4        513900000  2010  \n",
       "...            ...   ...  \n",
       "3382           NaN  2018  \n",
       "3383           NaN  2018  \n",
       "3384           NaN  2018  \n",
       "3385           NaN  2018  \n",
       "3386           NaN  2018  \n",
       "\n",
       "[3387 rows x 5 columns]"
      ]
     },
     "execution_count": 42,
     "metadata": {},
     "output_type": "execute_result"
    }
   ],
   "source": [
    "df_gross = pd.read_csv('data/zippedData/bom.movie_gross.csv.gz')\n",
    "df_gross"
   ]
  },
  {
   "cell_type": "markdown",
   "metadata": {},
   "source": [
    "**Merges the two DataFrames together on the movie title and creates a DataFrame with only the data we want to work with**"
   ]
  },
  {
   "cell_type": "code",
   "execution_count": 43,
   "metadata": {},
   "outputs": [],
   "source": [
    "merged = pd.merge(df, df_gross, left_on='movie_title', right_on='title')\n",
    "df_rating_genres = merged[['movie_title','genres', 'tomatometer_rating', 'domestic_gross']].copy()"
   ]
  },
  {
   "cell_type": "code",
   "execution_count": 44,
   "metadata": {},
   "outputs": [
    {
     "data": {
      "text/html": [
       "<div>\n",
       "<style scoped>\n",
       "    .dataframe tbody tr th:only-of-type {\n",
       "        vertical-align: middle;\n",
       "    }\n",
       "\n",
       "    .dataframe tbody tr th {\n",
       "        vertical-align: top;\n",
       "    }\n",
       "\n",
       "    .dataframe thead th {\n",
       "        text-align: right;\n",
       "    }\n",
       "</style>\n",
       "<table border=\"1\" class=\"dataframe\">\n",
       "  <thead>\n",
       "    <tr style=\"text-align: right;\">\n",
       "      <th></th>\n",
       "      <th>movie_title</th>\n",
       "      <th>genres</th>\n",
       "      <th>tomatometer_rating</th>\n",
       "      <th>domestic_gross</th>\n",
       "    </tr>\n",
       "  </thead>\n",
       "  <tbody>\n",
       "    <tr>\n",
       "      <th>0</th>\n",
       "      <td>Please Give</td>\n",
       "      <td>Comedy</td>\n",
       "      <td>87.0</td>\n",
       "      <td>4000000.0</td>\n",
       "    </tr>\n",
       "    <tr>\n",
       "      <th>1</th>\n",
       "      <td>Going the Distance</td>\n",
       "      <td>Comedy</td>\n",
       "      <td>0.0</td>\n",
       "      <td>17800000.0</td>\n",
       "    </tr>\n",
       "    <tr>\n",
       "      <th>2</th>\n",
       "      <td>Going the Distance</td>\n",
       "      <td>Comedy, Romance</td>\n",
       "      <td>54.0</td>\n",
       "      <td>17800000.0</td>\n",
       "    </tr>\n",
       "    <tr>\n",
       "      <th>3</th>\n",
       "      <td>The Silence</td>\n",
       "      <td>Action &amp; Adventure, Drama, Mystery &amp; Suspense,...</td>\n",
       "      <td>50.0</td>\n",
       "      <td>100000.0</td>\n",
       "    </tr>\n",
       "    <tr>\n",
       "      <th>4</th>\n",
       "      <td>The Silence</td>\n",
       "      <td>Art House &amp; International, Drama, Mystery &amp; Su...</td>\n",
       "      <td>88.0</td>\n",
       "      <td>100000.0</td>\n",
       "    </tr>\n",
       "    <tr>\n",
       "      <th>...</th>\n",
       "      <td>...</td>\n",
       "      <td>...</td>\n",
       "      <td>...</td>\n",
       "      <td>...</td>\n",
       "    </tr>\n",
       "    <tr>\n",
       "      <th>2144</th>\n",
       "      <td>Zindagi Na Milegi Dobara</td>\n",
       "      <td>Art House &amp; International, Comedy, Drama</td>\n",
       "      <td>92.0</td>\n",
       "      <td>3100000.0</td>\n",
       "    </tr>\n",
       "    <tr>\n",
       "      <th>2145</th>\n",
       "      <td>Zombeavers</td>\n",
       "      <td>Action &amp; Adventure, Comedy, Horror</td>\n",
       "      <td>69.0</td>\n",
       "      <td>14900.0</td>\n",
       "    </tr>\n",
       "    <tr>\n",
       "      <th>2146</th>\n",
       "      <td>Zookeeper</td>\n",
       "      <td>Comedy, Romance</td>\n",
       "      <td>14.0</td>\n",
       "      <td>80400000.0</td>\n",
       "    </tr>\n",
       "    <tr>\n",
       "      <th>2147</th>\n",
       "      <td>Zoolander 2</td>\n",
       "      <td>Comedy</td>\n",
       "      <td>22.0</td>\n",
       "      <td>28800000.0</td>\n",
       "    </tr>\n",
       "    <tr>\n",
       "      <th>2148</th>\n",
       "      <td>Zootopia</td>\n",
       "      <td>Action &amp; Adventure, Animation, Comedy</td>\n",
       "      <td>98.0</td>\n",
       "      <td>341300000.0</td>\n",
       "    </tr>\n",
       "  </tbody>\n",
       "</table>\n",
       "<p>2149 rows × 4 columns</p>\n",
       "</div>"
      ],
      "text/plain": [
       "                   movie_title  \\\n",
       "0                  Please Give   \n",
       "1           Going the Distance   \n",
       "2           Going the Distance   \n",
       "3                  The Silence   \n",
       "4                  The Silence   \n",
       "...                        ...   \n",
       "2144  Zindagi Na Milegi Dobara   \n",
       "2145                Zombeavers   \n",
       "2146                 Zookeeper   \n",
       "2147               Zoolander 2   \n",
       "2148                  Zootopia   \n",
       "\n",
       "                                                 genres  tomatometer_rating  \\\n",
       "0                                                Comedy                87.0   \n",
       "1                                                Comedy                 0.0   \n",
       "2                                       Comedy, Romance                54.0   \n",
       "3     Action & Adventure, Drama, Mystery & Suspense,...                50.0   \n",
       "4     Art House & International, Drama, Mystery & Su...                88.0   \n",
       "...                                                 ...                 ...   \n",
       "2144           Art House & International, Comedy, Drama                92.0   \n",
       "2145                 Action & Adventure, Comedy, Horror                69.0   \n",
       "2146                                    Comedy, Romance                14.0   \n",
       "2147                                             Comedy                22.0   \n",
       "2148              Action & Adventure, Animation, Comedy                98.0   \n",
       "\n",
       "      domestic_gross  \n",
       "0          4000000.0  \n",
       "1         17800000.0  \n",
       "2         17800000.0  \n",
       "3           100000.0  \n",
       "4           100000.0  \n",
       "...              ...  \n",
       "2144       3100000.0  \n",
       "2145         14900.0  \n",
       "2146      80400000.0  \n",
       "2147      28800000.0  \n",
       "2148     341300000.0  \n",
       "\n",
       "[2149 rows x 4 columns]"
      ]
     },
     "execution_count": 44,
     "metadata": {},
     "output_type": "execute_result"
    }
   ],
   "source": [
    "df_rating_genres"
   ]
  },
  {
   "cell_type": "markdown",
   "metadata": {},
   "source": [
    "**Checks .info() to see how many null values are in the DataFrame rows**"
   ]
  },
  {
   "cell_type": "code",
   "execution_count": 45,
   "metadata": {
    "scrolled": true
   },
   "outputs": [
    {
     "name": "stdout",
     "output_type": "stream",
     "text": [
      "<class 'pandas.core.frame.DataFrame'>\n",
      "Int64Index: 2149 entries, 0 to 2148\n",
      "Data columns (total 4 columns):\n",
      " #   Column              Non-Null Count  Dtype  \n",
      "---  ------              --------------  -----  \n",
      " 0   movie_title         2149 non-null   object \n",
      " 1   genres              2149 non-null   object \n",
      " 2   tomatometer_rating  2148 non-null   float64\n",
      " 3   domestic_gross      2137 non-null   float64\n",
      "dtypes: float64(2), object(2)\n",
      "memory usage: 83.9+ KB\n"
     ]
    }
   ],
   "source": [
    "df_rating_genres.info()"
   ]
  },
  {
   "cell_type": "markdown",
   "metadata": {},
   "source": [
    "**Removes any rows with null values**"
   ]
  },
  {
   "cell_type": "code",
   "execution_count": 46,
   "metadata": {},
   "outputs": [
    {
     "data": {
      "text/html": [
       "<div>\n",
       "<style scoped>\n",
       "    .dataframe tbody tr th:only-of-type {\n",
       "        vertical-align: middle;\n",
       "    }\n",
       "\n",
       "    .dataframe tbody tr th {\n",
       "        vertical-align: top;\n",
       "    }\n",
       "\n",
       "    .dataframe thead th {\n",
       "        text-align: right;\n",
       "    }\n",
       "</style>\n",
       "<table border=\"1\" class=\"dataframe\">\n",
       "  <thead>\n",
       "    <tr style=\"text-align: right;\">\n",
       "      <th></th>\n",
       "      <th>movie_title</th>\n",
       "      <th>genres</th>\n",
       "      <th>tomatometer_rating</th>\n",
       "      <th>domestic_gross</th>\n",
       "    </tr>\n",
       "  </thead>\n",
       "  <tbody>\n",
       "    <tr>\n",
       "      <th>0</th>\n",
       "      <td>Please Give</td>\n",
       "      <td>Comedy</td>\n",
       "      <td>87.0</td>\n",
       "      <td>4000000.0</td>\n",
       "    </tr>\n",
       "    <tr>\n",
       "      <th>1</th>\n",
       "      <td>Going the Distance</td>\n",
       "      <td>Comedy</td>\n",
       "      <td>0.0</td>\n",
       "      <td>17800000.0</td>\n",
       "    </tr>\n",
       "    <tr>\n",
       "      <th>2</th>\n",
       "      <td>Going the Distance</td>\n",
       "      <td>Comedy, Romance</td>\n",
       "      <td>54.0</td>\n",
       "      <td>17800000.0</td>\n",
       "    </tr>\n",
       "    <tr>\n",
       "      <th>3</th>\n",
       "      <td>The Silence</td>\n",
       "      <td>Action &amp; Adventure, Drama, Mystery &amp; Suspense,...</td>\n",
       "      <td>50.0</td>\n",
       "      <td>100000.0</td>\n",
       "    </tr>\n",
       "    <tr>\n",
       "      <th>4</th>\n",
       "      <td>The Silence</td>\n",
       "      <td>Art House &amp; International, Drama, Mystery &amp; Su...</td>\n",
       "      <td>88.0</td>\n",
       "      <td>100000.0</td>\n",
       "    </tr>\n",
       "    <tr>\n",
       "      <th>5</th>\n",
       "      <td>The Silence</td>\n",
       "      <td>Horror, Mystery &amp; Suspense</td>\n",
       "      <td>30.0</td>\n",
       "      <td>100000.0</td>\n",
       "    </tr>\n",
       "    <tr>\n",
       "      <th>6</th>\n",
       "      <td>Gone</td>\n",
       "      <td>Horror, Mystery &amp; Suspense</td>\n",
       "      <td>54.0</td>\n",
       "      <td>11700000.0</td>\n",
       "    </tr>\n",
       "    <tr>\n",
       "      <th>7</th>\n",
       "      <td>Gone</td>\n",
       "      <td>Mystery &amp; Suspense</td>\n",
       "      <td>12.0</td>\n",
       "      <td>11700000.0</td>\n",
       "    </tr>\n",
       "    <tr>\n",
       "      <th>8</th>\n",
       "      <td>Fireflies in the Garden</td>\n",
       "      <td>Drama</td>\n",
       "      <td>22.0</td>\n",
       "      <td>70600.0</td>\n",
       "    </tr>\n",
       "    <tr>\n",
       "      <th>9</th>\n",
       "      <td>Priest</td>\n",
       "      <td>Action &amp; Adventure, Horror, Mystery &amp; Suspense...</td>\n",
       "      <td>15.0</td>\n",
       "      <td>29100000.0</td>\n",
       "    </tr>\n",
       "    <tr>\n",
       "      <th>10</th>\n",
       "      <td>Red</td>\n",
       "      <td>Drama, Mystery &amp; Suspense</td>\n",
       "      <td>70.0</td>\n",
       "      <td>90400000.0</td>\n",
       "    </tr>\n",
       "    <tr>\n",
       "      <th>11</th>\n",
       "      <td>Red</td>\n",
       "      <td>Action &amp; Adventure, Comedy, Mystery &amp; Suspense</td>\n",
       "      <td>72.0</td>\n",
       "      <td>90400000.0</td>\n",
       "    </tr>\n",
       "  </tbody>\n",
       "</table>\n",
       "</div>"
      ],
      "text/plain": [
       "                movie_title  \\\n",
       "0               Please Give   \n",
       "1        Going the Distance   \n",
       "2        Going the Distance   \n",
       "3               The Silence   \n",
       "4               The Silence   \n",
       "5               The Silence   \n",
       "6                      Gone   \n",
       "7                      Gone   \n",
       "8   Fireflies in the Garden   \n",
       "9                    Priest   \n",
       "10                      Red   \n",
       "11                      Red   \n",
       "\n",
       "                                               genres  tomatometer_rating  \\\n",
       "0                                              Comedy                87.0   \n",
       "1                                              Comedy                 0.0   \n",
       "2                                     Comedy, Romance                54.0   \n",
       "3   Action & Adventure, Drama, Mystery & Suspense,...                50.0   \n",
       "4   Art House & International, Drama, Mystery & Su...                88.0   \n",
       "5                          Horror, Mystery & Suspense                30.0   \n",
       "6                          Horror, Mystery & Suspense                54.0   \n",
       "7                                  Mystery & Suspense                12.0   \n",
       "8                                               Drama                22.0   \n",
       "9   Action & Adventure, Horror, Mystery & Suspense...                15.0   \n",
       "10                          Drama, Mystery & Suspense                70.0   \n",
       "11     Action & Adventure, Comedy, Mystery & Suspense                72.0   \n",
       "\n",
       "    domestic_gross  \n",
       "0        4000000.0  \n",
       "1       17800000.0  \n",
       "2       17800000.0  \n",
       "3         100000.0  \n",
       "4         100000.0  \n",
       "5         100000.0  \n",
       "6       11700000.0  \n",
       "7       11700000.0  \n",
       "8          70600.0  \n",
       "9       29100000.0  \n",
       "10      90400000.0  \n",
       "11      90400000.0  "
      ]
     },
     "execution_count": 46,
     "metadata": {},
     "output_type": "execute_result"
    }
   ],
   "source": [
    "df_rating_genres.dropna(inplace=True)\n",
    "df_rating_genres.head(12)"
   ]
  },
  {
   "cell_type": "markdown",
   "metadata": {},
   "source": [
    "**Drops the duplicate values and keeps the last instance**"
   ]
  },
  {
   "cell_type": "code",
   "execution_count": 47,
   "metadata": {},
   "outputs": [
    {
     "data": {
      "text/html": [
       "<div>\n",
       "<style scoped>\n",
       "    .dataframe tbody tr th:only-of-type {\n",
       "        vertical-align: middle;\n",
       "    }\n",
       "\n",
       "    .dataframe tbody tr th {\n",
       "        vertical-align: top;\n",
       "    }\n",
       "\n",
       "    .dataframe thead th {\n",
       "        text-align: right;\n",
       "    }\n",
       "</style>\n",
       "<table border=\"1\" class=\"dataframe\">\n",
       "  <thead>\n",
       "    <tr style=\"text-align: right;\">\n",
       "      <th></th>\n",
       "      <th>movie_title</th>\n",
       "      <th>genres</th>\n",
       "      <th>tomatometer_rating</th>\n",
       "      <th>domestic_gross</th>\n",
       "    </tr>\n",
       "  </thead>\n",
       "  <tbody>\n",
       "    <tr>\n",
       "      <th>0</th>\n",
       "      <td>Please Give</td>\n",
       "      <td>Comedy</td>\n",
       "      <td>87.0</td>\n",
       "      <td>4000000.0</td>\n",
       "    </tr>\n",
       "    <tr>\n",
       "      <th>2</th>\n",
       "      <td>Going the Distance</td>\n",
       "      <td>Comedy, Romance</td>\n",
       "      <td>54.0</td>\n",
       "      <td>17800000.0</td>\n",
       "    </tr>\n",
       "    <tr>\n",
       "      <th>5</th>\n",
       "      <td>The Silence</td>\n",
       "      <td>Horror, Mystery &amp; Suspense</td>\n",
       "      <td>30.0</td>\n",
       "      <td>100000.0</td>\n",
       "    </tr>\n",
       "    <tr>\n",
       "      <th>7</th>\n",
       "      <td>Gone</td>\n",
       "      <td>Mystery &amp; Suspense</td>\n",
       "      <td>12.0</td>\n",
       "      <td>11700000.0</td>\n",
       "    </tr>\n",
       "    <tr>\n",
       "      <th>8</th>\n",
       "      <td>Fireflies in the Garden</td>\n",
       "      <td>Drama</td>\n",
       "      <td>22.0</td>\n",
       "      <td>70600.0</td>\n",
       "    </tr>\n",
       "    <tr>\n",
       "      <th>...</th>\n",
       "      <td>...</td>\n",
       "      <td>...</td>\n",
       "      <td>...</td>\n",
       "      <td>...</td>\n",
       "    </tr>\n",
       "    <tr>\n",
       "      <th>2144</th>\n",
       "      <td>Zindagi Na Milegi Dobara</td>\n",
       "      <td>Art House &amp; International, Comedy, Drama</td>\n",
       "      <td>92.0</td>\n",
       "      <td>3100000.0</td>\n",
       "    </tr>\n",
       "    <tr>\n",
       "      <th>2145</th>\n",
       "      <td>Zombeavers</td>\n",
       "      <td>Action &amp; Adventure, Comedy, Horror</td>\n",
       "      <td>69.0</td>\n",
       "      <td>14900.0</td>\n",
       "    </tr>\n",
       "    <tr>\n",
       "      <th>2146</th>\n",
       "      <td>Zookeeper</td>\n",
       "      <td>Comedy, Romance</td>\n",
       "      <td>14.0</td>\n",
       "      <td>80400000.0</td>\n",
       "    </tr>\n",
       "    <tr>\n",
       "      <th>2147</th>\n",
       "      <td>Zoolander 2</td>\n",
       "      <td>Comedy</td>\n",
       "      <td>22.0</td>\n",
       "      <td>28800000.0</td>\n",
       "    </tr>\n",
       "    <tr>\n",
       "      <th>2148</th>\n",
       "      <td>Zootopia</td>\n",
       "      <td>Action &amp; Adventure, Animation, Comedy</td>\n",
       "      <td>98.0</td>\n",
       "      <td>341300000.0</td>\n",
       "    </tr>\n",
       "  </tbody>\n",
       "</table>\n",
       "<p>2063 rows × 4 columns</p>\n",
       "</div>"
      ],
      "text/plain": [
       "                   movie_title                                    genres  \\\n",
       "0                  Please Give                                    Comedy   \n",
       "2           Going the Distance                           Comedy, Romance   \n",
       "5                  The Silence                Horror, Mystery & Suspense   \n",
       "7                         Gone                        Mystery & Suspense   \n",
       "8      Fireflies in the Garden                                     Drama   \n",
       "...                        ...                                       ...   \n",
       "2144  Zindagi Na Milegi Dobara  Art House & International, Comedy, Drama   \n",
       "2145                Zombeavers        Action & Adventure, Comedy, Horror   \n",
       "2146                 Zookeeper                           Comedy, Romance   \n",
       "2147               Zoolander 2                                    Comedy   \n",
       "2148                  Zootopia     Action & Adventure, Animation, Comedy   \n",
       "\n",
       "      tomatometer_rating  domestic_gross  \n",
       "0                   87.0       4000000.0  \n",
       "2                   54.0      17800000.0  \n",
       "5                   30.0        100000.0  \n",
       "7                   12.0      11700000.0  \n",
       "8                   22.0         70600.0  \n",
       "...                  ...             ...  \n",
       "2144                92.0       3100000.0  \n",
       "2145                69.0         14900.0  \n",
       "2146                14.0      80400000.0  \n",
       "2147                22.0      28800000.0  \n",
       "2148                98.0     341300000.0  \n",
       "\n",
       "[2063 rows x 4 columns]"
      ]
     },
     "execution_count": 47,
     "metadata": {},
     "output_type": "execute_result"
    }
   ],
   "source": [
    "df_rating_genres.drop_duplicates(subset='movie_title', keep='last' , inplace=True)\n",
    "df_rating_genres"
   ]
  },
  {
   "cell_type": "markdown",
   "metadata": {},
   "source": [
    "**Checks for any more missing values and how many rows were removed**"
   ]
  },
  {
   "cell_type": "code",
   "execution_count": 48,
   "metadata": {},
   "outputs": [
    {
     "name": "stdout",
     "output_type": "stream",
     "text": [
      "<class 'pandas.core.frame.DataFrame'>\n",
      "Int64Index: 2063 entries, 0 to 2148\n",
      "Data columns (total 4 columns):\n",
      " #   Column              Non-Null Count  Dtype  \n",
      "---  ------              --------------  -----  \n",
      " 0   movie_title         2063 non-null   object \n",
      " 1   genres              2063 non-null   object \n",
      " 2   tomatometer_rating  2063 non-null   float64\n",
      " 3   domestic_gross      2063 non-null   float64\n",
      "dtypes: float64(2), object(2)\n",
      "memory usage: 80.6+ KB\n"
     ]
    }
   ],
   "source": [
    "df_rating_genres.info()"
   ]
  },
  {
   "cell_type": "markdown",
   "metadata": {},
   "source": [
    "**Looks at the highest and lowest gross to get a feel for which genres do best**"
   ]
  },
  {
   "cell_type": "code",
   "execution_count": 49,
   "metadata": {},
   "outputs": [
    {
     "data": {
      "text/html": [
       "<div>\n",
       "<style scoped>\n",
       "    .dataframe tbody tr th:only-of-type {\n",
       "        vertical-align: middle;\n",
       "    }\n",
       "\n",
       "    .dataframe tbody tr th {\n",
       "        vertical-align: top;\n",
       "    }\n",
       "\n",
       "    .dataframe thead th {\n",
       "        text-align: right;\n",
       "    }\n",
       "</style>\n",
       "<table border=\"1\" class=\"dataframe\">\n",
       "  <thead>\n",
       "    <tr style=\"text-align: right;\">\n",
       "      <th></th>\n",
       "      <th>movie_title</th>\n",
       "      <th>genres</th>\n",
       "      <th>tomatometer_rating</th>\n",
       "      <th>domestic_gross</th>\n",
       "    </tr>\n",
       "  </thead>\n",
       "  <tbody>\n",
       "    <tr>\n",
       "      <th>343</th>\n",
       "      <td>Black Panther</td>\n",
       "      <td>Action &amp; Adventure, Drama, Science Fiction &amp; F...</td>\n",
       "      <td>96.0</td>\n",
       "      <td>700100000.0</td>\n",
       "    </tr>\n",
       "    <tr>\n",
       "      <th>283</th>\n",
       "      <td>Avengers: Infinity War</td>\n",
       "      <td>Action &amp; Adventure, Science Fiction &amp; Fantasy</td>\n",
       "      <td>85.0</td>\n",
       "      <td>678800000.0</td>\n",
       "    </tr>\n",
       "    <tr>\n",
       "      <th>923</th>\n",
       "      <td>Jurassic World</td>\n",
       "      <td>Action &amp; Adventure, Mystery &amp; Suspense, Scienc...</td>\n",
       "      <td>70.0</td>\n",
       "      <td>652300000.0</td>\n",
       "    </tr>\n",
       "    <tr>\n",
       "      <th>1096</th>\n",
       "      <td>Marvel's The Avengers</td>\n",
       "      <td>Action &amp; Adventure, Science Fiction &amp; Fantasy</td>\n",
       "      <td>92.0</td>\n",
       "      <td>623400000.0</td>\n",
       "    </tr>\n",
       "    <tr>\n",
       "      <th>1496</th>\n",
       "      <td>Star Wars: The Last Jedi</td>\n",
       "      <td>Action &amp; Adventure, Drama, Science Fiction &amp; F...</td>\n",
       "      <td>90.0</td>\n",
       "      <td>620200000.0</td>\n",
       "    </tr>\n",
       "    <tr>\n",
       "      <th>...</th>\n",
       "      <td>...</td>\n",
       "      <td>...</td>\n",
       "      <td>...</td>\n",
       "      <td>...</td>\n",
       "    </tr>\n",
       "    <tr>\n",
       "      <th>267</th>\n",
       "      <td>Jackpot</td>\n",
       "      <td>Action &amp; Adventure</td>\n",
       "      <td>59.0</td>\n",
       "      <td>800.0</td>\n",
       "    </tr>\n",
       "    <tr>\n",
       "      <th>238</th>\n",
       "      <td>Amityville: The Awakening</td>\n",
       "      <td>Horror, Mystery &amp; Suspense</td>\n",
       "      <td>30.0</td>\n",
       "      <td>700.0</td>\n",
       "    </tr>\n",
       "    <tr>\n",
       "      <th>863</th>\n",
       "      <td>Into the White</td>\n",
       "      <td>Action &amp; Adventure, Art House &amp; International,...</td>\n",
       "      <td>45.0</td>\n",
       "      <td>700.0</td>\n",
       "    </tr>\n",
       "    <tr>\n",
       "      <th>120</th>\n",
       "      <td>2:22</td>\n",
       "      <td>Drama, Mystery &amp; Suspense</td>\n",
       "      <td>22.0</td>\n",
       "      <td>400.0</td>\n",
       "    </tr>\n",
       "    <tr>\n",
       "      <th>1507</th>\n",
       "      <td>Storage 24</td>\n",
       "      <td>Horror, Science Fiction &amp; Fantasy</td>\n",
       "      <td>42.0</td>\n",
       "      <td>100.0</td>\n",
       "    </tr>\n",
       "  </tbody>\n",
       "</table>\n",
       "<p>2063 rows × 4 columns</p>\n",
       "</div>"
      ],
      "text/plain": [
       "                    movie_title  \\\n",
       "343               Black Panther   \n",
       "283      Avengers: Infinity War   \n",
       "923              Jurassic World   \n",
       "1096      Marvel's The Avengers   \n",
       "1496   Star Wars: The Last Jedi   \n",
       "...                         ...   \n",
       "267                     Jackpot   \n",
       "238   Amityville: The Awakening   \n",
       "863              Into the White   \n",
       "120                        2:22   \n",
       "1507                 Storage 24   \n",
       "\n",
       "                                                 genres  tomatometer_rating  \\\n",
       "343   Action & Adventure, Drama, Science Fiction & F...                96.0   \n",
       "283       Action & Adventure, Science Fiction & Fantasy                85.0   \n",
       "923   Action & Adventure, Mystery & Suspense, Scienc...                70.0   \n",
       "1096      Action & Adventure, Science Fiction & Fantasy                92.0   \n",
       "1496  Action & Adventure, Drama, Science Fiction & F...                90.0   \n",
       "...                                                 ...                 ...   \n",
       "267                                  Action & Adventure                59.0   \n",
       "238                          Horror, Mystery & Suspense                30.0   \n",
       "863   Action & Adventure, Art House & International,...                45.0   \n",
       "120                           Drama, Mystery & Suspense                22.0   \n",
       "1507                  Horror, Science Fiction & Fantasy                42.0   \n",
       "\n",
       "      domestic_gross  \n",
       "343      700100000.0  \n",
       "283      678800000.0  \n",
       "923      652300000.0  \n",
       "1096     623400000.0  \n",
       "1496     620200000.0  \n",
       "...              ...  \n",
       "267            800.0  \n",
       "238            700.0  \n",
       "863            700.0  \n",
       "120            400.0  \n",
       "1507           100.0  \n",
       "\n",
       "[2063 rows x 4 columns]"
      ]
     },
     "execution_count": 49,
     "metadata": {},
     "output_type": "execute_result"
    }
   ],
   "source": [
    "df_sorted = df_rating_genres.sort_values('domestic_gross', ascending=False)\n",
    "df_sorted"
   ]
  },
  {
   "cell_type": "markdown",
   "metadata": {},
   "source": [
    "**Splits the genres in the genres row into a list containing the genres**"
   ]
  },
  {
   "cell_type": "code",
   "execution_count": 50,
   "metadata": {},
   "outputs": [
    {
     "data": {
      "text/html": [
       "<div>\n",
       "<style scoped>\n",
       "    .dataframe tbody tr th:only-of-type {\n",
       "        vertical-align: middle;\n",
       "    }\n",
       "\n",
       "    .dataframe tbody tr th {\n",
       "        vertical-align: top;\n",
       "    }\n",
       "\n",
       "    .dataframe thead th {\n",
       "        text-align: right;\n",
       "    }\n",
       "</style>\n",
       "<table border=\"1\" class=\"dataframe\">\n",
       "  <thead>\n",
       "    <tr style=\"text-align: right;\">\n",
       "      <th></th>\n",
       "      <th>movie_title</th>\n",
       "      <th>genres</th>\n",
       "      <th>tomatometer_rating</th>\n",
       "      <th>domestic_gross</th>\n",
       "    </tr>\n",
       "  </thead>\n",
       "  <tbody>\n",
       "    <tr>\n",
       "      <th>0</th>\n",
       "      <td>Please Give</td>\n",
       "      <td>[Comedy]</td>\n",
       "      <td>87.0</td>\n",
       "      <td>4000000.0</td>\n",
       "    </tr>\n",
       "    <tr>\n",
       "      <th>2</th>\n",
       "      <td>Going the Distance</td>\n",
       "      <td>[Comedy,  Romance]</td>\n",
       "      <td>54.0</td>\n",
       "      <td>17800000.0</td>\n",
       "    </tr>\n",
       "    <tr>\n",
       "      <th>5</th>\n",
       "      <td>The Silence</td>\n",
       "      <td>[Horror,  Mystery &amp; Suspense]</td>\n",
       "      <td>30.0</td>\n",
       "      <td>100000.0</td>\n",
       "    </tr>\n",
       "    <tr>\n",
       "      <th>7</th>\n",
       "      <td>Gone</td>\n",
       "      <td>[Mystery &amp; Suspense]</td>\n",
       "      <td>12.0</td>\n",
       "      <td>11700000.0</td>\n",
       "    </tr>\n",
       "    <tr>\n",
       "      <th>8</th>\n",
       "      <td>Fireflies in the Garden</td>\n",
       "      <td>[Drama]</td>\n",
       "      <td>22.0</td>\n",
       "      <td>70600.0</td>\n",
       "    </tr>\n",
       "    <tr>\n",
       "      <th>...</th>\n",
       "      <td>...</td>\n",
       "      <td>...</td>\n",
       "      <td>...</td>\n",
       "      <td>...</td>\n",
       "    </tr>\n",
       "    <tr>\n",
       "      <th>2144</th>\n",
       "      <td>Zindagi Na Milegi Dobara</td>\n",
       "      <td>[Art House &amp; International,  Comedy,  Drama]</td>\n",
       "      <td>92.0</td>\n",
       "      <td>3100000.0</td>\n",
       "    </tr>\n",
       "    <tr>\n",
       "      <th>2145</th>\n",
       "      <td>Zombeavers</td>\n",
       "      <td>[Action &amp; Adventure,  Comedy,  Horror]</td>\n",
       "      <td>69.0</td>\n",
       "      <td>14900.0</td>\n",
       "    </tr>\n",
       "    <tr>\n",
       "      <th>2146</th>\n",
       "      <td>Zookeeper</td>\n",
       "      <td>[Comedy,  Romance]</td>\n",
       "      <td>14.0</td>\n",
       "      <td>80400000.0</td>\n",
       "    </tr>\n",
       "    <tr>\n",
       "      <th>2147</th>\n",
       "      <td>Zoolander 2</td>\n",
       "      <td>[Comedy]</td>\n",
       "      <td>22.0</td>\n",
       "      <td>28800000.0</td>\n",
       "    </tr>\n",
       "    <tr>\n",
       "      <th>2148</th>\n",
       "      <td>Zootopia</td>\n",
       "      <td>[Action &amp; Adventure,  Animation,  Comedy]</td>\n",
       "      <td>98.0</td>\n",
       "      <td>341300000.0</td>\n",
       "    </tr>\n",
       "  </tbody>\n",
       "</table>\n",
       "<p>2063 rows × 4 columns</p>\n",
       "</div>"
      ],
      "text/plain": [
       "                   movie_title                                        genres  \\\n",
       "0                  Please Give                                      [Comedy]   \n",
       "2           Going the Distance                            [Comedy,  Romance]   \n",
       "5                  The Silence                 [Horror,  Mystery & Suspense]   \n",
       "7                         Gone                          [Mystery & Suspense]   \n",
       "8      Fireflies in the Garden                                       [Drama]   \n",
       "...                        ...                                           ...   \n",
       "2144  Zindagi Na Milegi Dobara  [Art House & International,  Comedy,  Drama]   \n",
       "2145                Zombeavers        [Action & Adventure,  Comedy,  Horror]   \n",
       "2146                 Zookeeper                            [Comedy,  Romance]   \n",
       "2147               Zoolander 2                                      [Comedy]   \n",
       "2148                  Zootopia     [Action & Adventure,  Animation,  Comedy]   \n",
       "\n",
       "      tomatometer_rating  domestic_gross  \n",
       "0                   87.0       4000000.0  \n",
       "2                   54.0      17800000.0  \n",
       "5                   30.0        100000.0  \n",
       "7                   12.0      11700000.0  \n",
       "8                   22.0         70600.0  \n",
       "...                  ...             ...  \n",
       "2144                92.0       3100000.0  \n",
       "2145                69.0         14900.0  \n",
       "2146                14.0      80400000.0  \n",
       "2147                22.0      28800000.0  \n",
       "2148                98.0     341300000.0  \n",
       "\n",
       "[2063 rows x 4 columns]"
      ]
     },
     "execution_count": 50,
     "metadata": {},
     "output_type": "execute_result"
    }
   ],
   "source": [
    "df_rating_genres['genres'] = df_rating_genres['genres'].str.split(',', expand = False)\n",
    "\n",
    "df_rating_genres"
   ]
  },
  {
   "cell_type": "markdown",
   "metadata": {},
   "source": [
    "**Explodes the genres column which separates all the genres for each movie into its own column**"
   ]
  },
  {
   "cell_type": "code",
   "execution_count": 51,
   "metadata": {},
   "outputs": [
    {
     "data": {
      "text/html": [
       "<div>\n",
       "<style scoped>\n",
       "    .dataframe tbody tr th:only-of-type {\n",
       "        vertical-align: middle;\n",
       "    }\n",
       "\n",
       "    .dataframe tbody tr th {\n",
       "        vertical-align: top;\n",
       "    }\n",
       "\n",
       "    .dataframe thead th {\n",
       "        text-align: right;\n",
       "    }\n",
       "</style>\n",
       "<table border=\"1\" class=\"dataframe\">\n",
       "  <thead>\n",
       "    <tr style=\"text-align: right;\">\n",
       "      <th></th>\n",
       "      <th>movie_title</th>\n",
       "      <th>genres</th>\n",
       "      <th>tomatometer_rating</th>\n",
       "      <th>domestic_gross</th>\n",
       "    </tr>\n",
       "  </thead>\n",
       "  <tbody>\n",
       "    <tr>\n",
       "      <th>0</th>\n",
       "      <td>Please Give</td>\n",
       "      <td>Comedy</td>\n",
       "      <td>87.0</td>\n",
       "      <td>4000000.0</td>\n",
       "    </tr>\n",
       "    <tr>\n",
       "      <th>2</th>\n",
       "      <td>Going the Distance</td>\n",
       "      <td>Comedy</td>\n",
       "      <td>54.0</td>\n",
       "      <td>17800000.0</td>\n",
       "    </tr>\n",
       "    <tr>\n",
       "      <th>2</th>\n",
       "      <td>Going the Distance</td>\n",
       "      <td>Romance</td>\n",
       "      <td>54.0</td>\n",
       "      <td>17800000.0</td>\n",
       "    </tr>\n",
       "    <tr>\n",
       "      <th>5</th>\n",
       "      <td>The Silence</td>\n",
       "      <td>Horror</td>\n",
       "      <td>30.0</td>\n",
       "      <td>100000.0</td>\n",
       "    </tr>\n",
       "    <tr>\n",
       "      <th>5</th>\n",
       "      <td>The Silence</td>\n",
       "      <td>Mystery &amp; Suspense</td>\n",
       "      <td>30.0</td>\n",
       "      <td>100000.0</td>\n",
       "    </tr>\n",
       "    <tr>\n",
       "      <th>...</th>\n",
       "      <td>...</td>\n",
       "      <td>...</td>\n",
       "      <td>...</td>\n",
       "      <td>...</td>\n",
       "    </tr>\n",
       "    <tr>\n",
       "      <th>2146</th>\n",
       "      <td>Zookeeper</td>\n",
       "      <td>Romance</td>\n",
       "      <td>14.0</td>\n",
       "      <td>80400000.0</td>\n",
       "    </tr>\n",
       "    <tr>\n",
       "      <th>2147</th>\n",
       "      <td>Zoolander 2</td>\n",
       "      <td>Comedy</td>\n",
       "      <td>22.0</td>\n",
       "      <td>28800000.0</td>\n",
       "    </tr>\n",
       "    <tr>\n",
       "      <th>2148</th>\n",
       "      <td>Zootopia</td>\n",
       "      <td>Action &amp; Adventure</td>\n",
       "      <td>98.0</td>\n",
       "      <td>341300000.0</td>\n",
       "    </tr>\n",
       "    <tr>\n",
       "      <th>2148</th>\n",
       "      <td>Zootopia</td>\n",
       "      <td>Animation</td>\n",
       "      <td>98.0</td>\n",
       "      <td>341300000.0</td>\n",
       "    </tr>\n",
       "    <tr>\n",
       "      <th>2148</th>\n",
       "      <td>Zootopia</td>\n",
       "      <td>Comedy</td>\n",
       "      <td>98.0</td>\n",
       "      <td>341300000.0</td>\n",
       "    </tr>\n",
       "  </tbody>\n",
       "</table>\n",
       "<p>4118 rows × 4 columns</p>\n",
       "</div>"
      ],
      "text/plain": [
       "             movie_title               genres  tomatometer_rating  \\\n",
       "0            Please Give               Comedy                87.0   \n",
       "2     Going the Distance               Comedy                54.0   \n",
       "2     Going the Distance              Romance                54.0   \n",
       "5            The Silence               Horror                30.0   \n",
       "5            The Silence   Mystery & Suspense                30.0   \n",
       "...                  ...                  ...                 ...   \n",
       "2146           Zookeeper              Romance                14.0   \n",
       "2147         Zoolander 2               Comedy                22.0   \n",
       "2148            Zootopia   Action & Adventure                98.0   \n",
       "2148            Zootopia            Animation                98.0   \n",
       "2148            Zootopia               Comedy                98.0   \n",
       "\n",
       "      domestic_gross  \n",
       "0          4000000.0  \n",
       "2         17800000.0  \n",
       "2         17800000.0  \n",
       "5           100000.0  \n",
       "5           100000.0  \n",
       "...              ...  \n",
       "2146      80400000.0  \n",
       "2147      28800000.0  \n",
       "2148     341300000.0  \n",
       "2148     341300000.0  \n",
       "2148     341300000.0  \n",
       "\n",
       "[4118 rows x 4 columns]"
      ]
     },
     "execution_count": 51,
     "metadata": {},
     "output_type": "execute_result"
    }
   ],
   "source": [
    "df_rating_genres = df_rating_genres.explode('genres')\n",
    "df_rating_genres"
   ]
  },
  {
   "cell_type": "markdown",
   "metadata": {},
   "source": [
    "**Checks the data types of the columns**"
   ]
  },
  {
   "cell_type": "code",
   "execution_count": 52,
   "metadata": {},
   "outputs": [
    {
     "data": {
      "text/plain": [
       "movie_title            object\n",
       "genres                 object\n",
       "tomatometer_rating    float64\n",
       "domestic_gross        float64\n",
       "dtype: object"
      ]
     },
     "execution_count": 52,
     "metadata": {},
     "output_type": "execute_result"
    }
   ],
   "source": [
    "df_rating_genres.dtypes"
   ]
  },
  {
   "cell_type": "markdown",
   "metadata": {},
   "source": [
    "**Strips any whitespace from the genres in the genres column so that we can easily pull the genres**"
   ]
  },
  {
   "cell_type": "code",
   "execution_count": 53,
   "metadata": {},
   "outputs": [],
   "source": [
    "df_rating_genres['genres'] = df_rating_genres['genres'].str.strip()"
   ]
  },
  {
   "cell_type": "markdown",
   "metadata": {},
   "source": [
    "**I only want to focus on genres with enough data points to generate sufficient means so I will only look at genres above 150 data values**"
   ]
  },
  {
   "cell_type": "code",
   "execution_count": 54,
   "metadata": {},
   "outputs": [
    {
     "data": {
      "text/plain": [
       "Drama                        1145\n",
       "Comedy                        632\n",
       "Action & Adventure            496\n",
       "Mystery & Suspense            403\n",
       "Art House & International     249\n",
       "Science Fiction & Fantasy     244\n",
       "Romance                       175\n",
       "Horror                        171\n",
       "Documentary                   140\n",
       "Kids & Family                 126\n",
       "Animation                     116\n",
       "Special Interest               89\n",
       "Musical & Performing Arts      61\n",
       "Sports & Fitness               21\n",
       "Western                        19\n",
       "Classics                       12\n",
       "Television                     10\n",
       "Faith & Spirituality            6\n",
       "Gay & Lesbian                   1\n",
       "Cult Movies                     1\n",
       "Anime & Manga                   1\n",
       "Name: genres, dtype: int64"
      ]
     },
     "execution_count": 54,
     "metadata": {},
     "output_type": "execute_result"
    }
   ],
   "source": [
    "df_rating_genres['genres'].value_counts() "
   ]
  },
  {
   "cell_type": "markdown",
   "metadata": {},
   "source": [
    "**Creates a new DataFrame of all the movies classified as the specified genre**"
   ]
  },
  {
   "cell_type": "code",
   "execution_count": 55,
   "metadata": {},
   "outputs": [],
   "source": [
    "df_comedy = df_rating_genres.loc[df_rating_genres['genres'] == 'Comedy']\n",
    "df_romance = df_rating_genres.loc[df_rating_genres['genres'] == 'Romance']\n",
    "df_horror = df_rating_genres.loc[df_rating_genres['genres'] == 'Horror']\n",
    "df_mystery_suspence = df_rating_genres.loc[df_rating_genres['genres'] == 'Mystery & Suspense']\n",
    "df_action_adventure = df_rating_genres.loc[df_rating_genres['genres'] == 'Action & Adventure']\n",
    "df_animation = df_rating_genres.loc[df_rating_genres['genres'] == 'Animation']\n",
    "df_art = df_rating_genres.loc[df_rating_genres['genres'] == 'Art House & International']\n",
    "df_drama = df_rating_genres.loc[df_rating_genres['genres'] == 'Drama']"
   ]
  },
  {
   "cell_type": "markdown",
   "metadata": {},
   "source": [
    "**Finds the mean of the domestic gross profit for all the relevent DataFrames**"
   ]
  },
  {
   "cell_type": "code",
   "execution_count": 56,
   "metadata": {},
   "outputs": [],
   "source": [
    "#mean of the comedy gross profit \n",
    "y_comedy = round(df_comedy['domestic_gross'].mean())\n",
    "y_drama = round(df_drama['domestic_gross'].mean())\n",
    "y_romance = round(df_romance['domestic_gross'].mean())\n",
    "y_horror = round(df_horror['domestic_gross'].mean())\n",
    "y_mystery = round(df_mystery_suspence['domestic_gross'].mean())\n",
    "y_action_adventure = round(df_action_adventure['domestic_gross'].mean())\n",
    "y_animation = round(df_animation['domestic_gross'].mean())\n",
    "y_art = round(df_art['domestic_gross'].mean())\n"
   ]
  },
  {
   "cell_type": "markdown",
   "metadata": {},
   "source": [
    "**Finds the mean of the tomatometer rating for all the relevent genre DataFrames**"
   ]
  },
  {
   "cell_type": "code",
   "execution_count": 57,
   "metadata": {},
   "outputs": [],
   "source": [
    "#mean of the comedy genre tomato ratings\n",
    "x_comedy = round(df_comedy['tomatometer_rating'].mean())\n",
    "x_romance = round(df_romance['tomatometer_rating'].mean())\n",
    "x_horror = round(df_horror['tomatometer_rating'].mean())\n",
    "x_mystery = round(df_mystery_suspence['tomatometer_rating'].mean())\n",
    "x_action_adventure = round(df_action_adventure['tomatometer_rating'].mean())\n",
    "x_animation = round(df_animation['tomatometer_rating'].mean())\n",
    "x_art = round(df_art['tomatometer_rating'].mean())\n",
    "x_drama = round(df_drama['tomatometer_rating'].mean())"
   ]
  },
  {
   "cell_type": "markdown",
   "metadata": {},
   "source": [
    "**Graphs all the genre DataFrames to get an idea of which genre has the highest ratings and brought the most profit**"
   ]
  },
  {
   "cell_type": "code",
   "execution_count": 58,
   "metadata": {},
   "outputs": [
    {
     "data": {
      "image/png": "[encoded data removed]",
      "text/plain": [
       "<Figure size 1512x936 with 8 Axes>"
      ]
     },
     "metadata": {
      "needs_background": "light"
     },
     "output_type": "display_data"
    }
   ],
   "source": [
    "fig, axes =plt.subplots(nrows=2,ncols=4, figsize =(21,13))\n",
    "sns.lineplot(data=df_comedy, x=\"tomatometer_rating\", y=\"domestic_gross\", ax=axes[0][0]).set(title='Comedy')\n",
    "sns.lineplot(data=df_romance, x=\"tomatometer_rating\", y=\"domestic_gross\", ax=axes[0][1]).set(title='Romance')\n",
    "sns.lineplot(data=df_horror, x=\"tomatometer_rating\", y=\"domestic_gross\", ax=axes[0][2]).set(title='Horror')\n",
    "sns.lineplot(data=df_mystery_suspence, x=\"tomatometer_rating\", y=\"domestic_gross\", ax=axes[0][3]).set(title='Mystery & Suspence')\n",
    "sns.lineplot(data=df_action_adventure, x=\"tomatometer_rating\", y=\"domestic_gross\", ax=axes[1][0]).set(title='Action & Adventure')\n",
    "sns.lineplot(data=df_animation, x=\"tomatometer_rating\", y=\"domestic_gross\", ax=axes[1][1]).set(title='Animation')\n",
    "sns.lineplot(data=df_art, x=\"tomatometer_rating\", y=\"domestic_gross\", ax=axes[1][2]).set(title='Art House & International')\n",
    "sns.lineplot(data=df_drama, x=\"tomatometer_rating\", y=\"domestic_gross\", ax=axes[1][3]).set(title='Drama')\n",
    "plt.savefig('images/GenresGrossRatingScatters.png');"
   ]
  },
  {
   "cell_type": "markdown",
   "metadata": {},
   "source": [
    "**Comedy, Horror, and Action & Adventure appears to be the highest so this is a graph of them together**"
   ]
  },
  {
   "cell_type": "code",
   "execution_count": 59,
   "metadata": {},
   "outputs": [
    {
     "data": {
      "image/png": "[encoded data removed]",
      "text/plain": [
       "<Figure size 432x288 with 1 Axes>"
      ]
     },
     "metadata": {
      "needs_background": "light"
     },
     "output_type": "display_data"
    }
   ],
   "source": [
    "fig, ax = plt.subplots(1, 1)\n",
    "\n",
    "ax.scatter(df_action_adventure['tomatometer_rating'], df_action_adventure[\"domestic_gross\"], color=\"springgreen\", label=\"Action & Adventure\", alpha=0.85)\n",
    "ax.scatter(df_comedy['tomatometer_rating'], df_comedy[\"domestic_gross\"], color=\"indianred\", label=\"Comedy\", alpha=0.85)\n",
    "ax.scatter(df_horror['tomatometer_rating'], df_horror[\"domestic_gross\"], color=\"slateblue\", label=\"Horror\", alpha=0.85)\n",
    "#ax.scatter(df_drama['tomatometer_rating'], df_drama[\"domestic_gross\"], color=\"orange\", label=\"Drama\", alpha=0.85)\n",
    "\n",
    "ax.set_title('Average Ratings and Gross Profit per Genre')\n",
    "\n",
    "ax.set_ylabel('Domestic Gross Profit')\n",
    "ax.set_xlabel('Tomato Meter Rating')\n",
    "ax.legend();"
   ]
  },
  {
   "cell_type": "code",
   "execution_count": 60,
   "metadata": {},
   "outputs": [
    {
     "data": {
      "image/png": "[encoded data removed]",
      "text/plain": [
       "<Figure size 720x720 with 1 Axes>"
      ]
     },
     "metadata": {},
     "output_type": "display_data"
    }
   ],
   "source": [
    "sns.set_style('darkgrid')\n",
    "fig, ax = plt.subplots(figsize=(10,10))\n",
    "sns.lineplot(data=df_comedy, x=\"tomatometer_rating\", y=\"domestic_gross\", ax=ax, ci=None, color='lightpink', markers=True).set(title='Average Ratings and Gross Profit per Genre')\n",
    "sns.lineplot(data=df_horror, x=\"tomatometer_rating\", y=\"domestic_gross\", ax=ax, ci=None, color='burlywood')\n",
    "sns.lineplot(data=df_action_adventure, x=\"tomatometer_rating\", y=\"domestic_gross\", ax=ax, ci=None, color='cornflowerblue')\n",
    "ax.legend(['Comedy', 'Horror', 'Action & Adventure']);"
   ]
  },
  {
   "cell_type": "markdown",
   "metadata": {},
   "source": [
    "**These are a little busy lets split them up and show them in a linear regression plot**"
   ]
  },
  {
   "cell_type": "code",
   "execution_count": null,
   "metadata": {},
   "outputs": [],
   "source": [
    "fig, ax = plt.subplots(figsize=(20,10), ncols=3)\n",
    "#sns.set(font_scale = 1.5)\n",
    "sns.regplot(data=df_comedy, x=\"tomatometer_rating\", y=\"domestic_gross\",ax=ax[0]).set(title='Comedy')\n",
    "sns.regplot(data=df_action_adventure, x=\"tomatometer_rating\", y=\"domestic_gross\", ax=ax[1]).set(title='Action & Adventure')\n",
    "sns.regplot(data=df_horror, x=\"tomatometer_rating\", y=\"domestic_gross\", ax=ax[2]).set(title='Horror')\n",
    "\n",
    "plt.savefig('images/LinearRegressionRatingsGrossGenreSplit.png');"
   ]
  },
  {
   "cell_type": "markdown",
   "metadata": {},
   "source": [
    "**Lets simplify this to just show the linear regression lines for these top three genres and put them back together**"
   ]
  },
  {
   "cell_type": "code",
   "execution_count": null,
   "metadata": {},
   "outputs": [],
   "source": [
    "plt.style.use('ggplot')\n",
    "\n",
    "fig, ax = plt.subplots(figsize=(9,7))\n",
    "\n",
    "ax.set_facecolor('gainsboro')\n",
    "\n",
    "x = np.array(df_comedy['tomatometer_rating'])\n",
    "y = np.array(df_comedy['domestic_gross'])\n",
    "\n",
    "m, b = np.polyfit(x, y, 1)\n",
    "ax.plot(x, m*x + b, color='cornflowerblue', linewidth=3.5)\n",
    "\n",
    "x = np.array(df_action_adventure['tomatometer_rating'])\n",
    "y = np.array(df_action_adventure['domestic_gross'])\n",
    "\n",
    "m, b = np.polyfit(x, y, 1)\n",
    "ax.plot(x, m*x + b, color='lightcoral', linewidth=3.5)\n",
    "\n",
    "x = np.array(df_horror['tomatometer_rating'])\n",
    "y = np.array(df_horror['domestic_gross'])\n",
    "\n",
    "m, b = np.polyfit(x, y, 1)\n",
    "ax.plot(x, m*x + b, color='mediumseagreen', linewidth=3.5)\n",
    "\n",
    "ax.set_title('Linear Regression of Ratings and Gross Profit per Genre', fontsize=16)\n",
    "\n",
    "ax.set_ylabel('Domestic Gross Profit', fontsize=15)\n",
    "ax.set_xlabel('Rotten Tomato Meter Rating',fontsize=15)\n",
    "\n",
    "plt.legend(['Comedy','Action & Adventure', 'Horror'], fancybox=True, framealpha=1, shadow=True, \n",
    "           borderpad=1.5, prop={\"size\":15}, facecolor='whitesmoke')\n",
    "plt.savefig('images/LinearRegressionRatingsGrossGenre.png');"
   ]
  },
  {
   "cell_type": "markdown",
   "metadata": {},
   "source": [
    "**This is a scatter plot of the means of the ratings and gross profit columns for all the genres graphed together on a scatter plot**"
   ]
  },
  {
   "cell_type": "code",
   "execution_count": null,
   "metadata": {},
   "outputs": [],
   "source": [
    "fig, ax = plt.subplots(figsize=(15,6))\n",
    "ax.scatter(x_comedy,y_comedy, marker='s', linewidth=11)\n",
    "ax.scatter(x_romance,y_romance, marker='s', linewidth=11)\n",
    "ax.scatter(x_horror,y_horror, marker='s', linewidth=11)\n",
    "ax.scatter(x_mystery,y_mystery, marker='s', linewidth=11)\n",
    "ax.scatter(x_action_adventure,y_action_adventure, marker='s', linewidth=11)\n",
    "ax.scatter(x_animation,y_animation, marker='s', linewidth=11)\n",
    "ax.scatter(x_art,y_art, marker='s', linewidth=11, color='violet')\n",
    "ax.scatter(x_drama,y_drama, marker='s', linewidth=11, color='black')\n",
    "\n",
    "\n",
    "ax.legend(['Comedy', 'Romance', 'Horror', 'Mystery', 'Action & Adventure', 'Animation',\n",
    "          'Art', 'Drama'], prop={\"size\":13}, fancybox=True, framealpha=1, shadow=True)\n",
    "\n",
    "ax.set_xlabel('Mean Tomato Ratings')\n",
    "ax.set_ylabel('Mean Gross Profit')\n",
    "ax.set_title('Average Ratings and Gross Profit per Genre')\n",
    "ax.set_facecolor('lightgrey')\n",
    "plt.savefig('images/AverageRatingsGrossperGenre.png')"
   ]
  },
  {
   "cell_type": "markdown",
   "metadata": {},
   "source": [
    "**It appears that the Action & Adventure genre will bring the most domestic profit and have the highest rating**"
   ]
  },
  {
   "cell_type": "markdown",
   "metadata": {},
   "source": [
    "**----------------------------------------------------------------------------------------------------**"
   ]
  },
  {
   "cell_type": "markdown",
   "metadata": {},
   "source": [
    "**Now lets put the months data together with our genre info to get the best months to release each genre**"
   ]
  },
  {
   "cell_type": "code",
   "execution_count": null,
   "metadata": {},
   "outputs": [],
   "source": [
    "seasons_merged = pd.merge(df, df_gross, left_on='movie_title', right_on='title')\n",
    "df_rating_seasons = merged[['movie_title','genres', 'domestic_gross', 'original_release_date']].copy()"
   ]
  },
  {
   "cell_type": "code",
   "execution_count": null,
   "metadata": {},
   "outputs": [],
   "source": [
    "df_rating_seasons"
   ]
  },
  {
   "cell_type": "markdown",
   "metadata": {},
   "source": [
    "**Checks the info to check that they DataFrames merged correctly**"
   ]
  },
  {
   "cell_type": "code",
   "execution_count": null,
   "metadata": {},
   "outputs": [],
   "source": [
    "df_rating_seasons.info()"
   ]
  },
  {
   "cell_type": "markdown",
   "metadata": {},
   "source": [
    "**Drop the null values**"
   ]
  },
  {
   "cell_type": "code",
   "execution_count": null,
   "metadata": {},
   "outputs": [],
   "source": [
    "df_rating_seasons.dropna(inplace=True)"
   ]
  },
  {
   "cell_type": "markdown",
   "metadata": {},
   "source": [
    "**Drops duplicates from the merge**"
   ]
  },
  {
   "cell_type": "code",
   "execution_count": null,
   "metadata": {},
   "outputs": [],
   "source": [
    "df_rating_seasons.drop_duplicates(subset='movie_title', keep='last' , inplace=True)\n",
    "df_rating_seasons"
   ]
  },
  {
   "cell_type": "markdown",
   "metadata": {},
   "source": [
    "**Splits the genres at the commas and puts them in a list**"
   ]
  },
  {
   "cell_type": "code",
   "execution_count": null,
   "metadata": {},
   "outputs": [],
   "source": [
    "df_rating_seasons['genres'] = df_rating_seasons['genres'].str.split(',', expand = False)"
   ]
  },
  {
   "cell_type": "markdown",
   "metadata": {},
   "source": [
    "**Explodes the new lists to new rows**"
   ]
  },
  {
   "cell_type": "code",
   "execution_count": null,
   "metadata": {},
   "outputs": [],
   "source": [
    "df_rating_seasons = df_rating_seasons.explode('genres')"
   ]
  },
  {
   "cell_type": "markdown",
   "metadata": {},
   "source": [
    "**Strips the whitespace**"
   ]
  },
  {
   "cell_type": "code",
   "execution_count": null,
   "metadata": {},
   "outputs": [],
   "source": [
    "df_rating_seasons['genres'] = df_rating_seasons['genres'].str.strip()"
   ]
  },
  {
   "cell_type": "markdown",
   "metadata": {},
   "source": [
    "**Grabs the month from the release date column**"
   ]
  },
  {
   "cell_type": "code",
   "execution_count": null,
   "metadata": {},
   "outputs": [],
   "source": [
    "df_rating_seasons['month'] = df_rating_seasons['original_release_date'].apply(lambda x: x[5:7])\n",
    "df_rating_seasons"
   ]
  },
  {
   "cell_type": "markdown",
   "metadata": {},
   "source": [
    "**Makes a new column of the month names so that we can easily group by months**"
   ]
  },
  {
   "cell_type": "code",
   "execution_count": null,
   "metadata": {},
   "outputs": [],
   "source": [
    "df_rating_seasons['month_name'] = df_rating_seasons['month'].map({'01':'January',\n",
    "'02':'February',\n",
    "'03':'March',\n",
    "'04':'April',\n",
    "'05':'May',\n",
    "'06':'June',\n",
    "'07':'July',\n",
    "'08':'August',\n",
    "'09':'September',\n",
    "'10':'October',\n",
    "'11':'November',\n",
    "'12':'December'})\n",
    "df_rating_seasons"
   ]
  },
  {
   "cell_type": "markdown",
   "metadata": {},
   "source": [
    "**Groups the genres and month_name columns with the gross mean**"
   ]
  },
  {
   "cell_type": "code",
   "execution_count": null,
   "metadata": {},
   "outputs": [],
   "source": [
    "real_df = df_rating_seasons.groupby(['genres', 'month_name']).mean().reset_index()\n",
    "real_df"
   ]
  },
  {
   "cell_type": "markdown",
   "metadata": {},
   "source": [
    "**Graphs the Average Gross per Month by Genre**"
   ]
  },
  {
   "cell_type": "code",
   "execution_count": null,
   "metadata": {},
   "outputs": [],
   "source": [
    "warnings.filterwarnings('ignore')\n",
    "fig, ax = plt.subplots(figsize=(15, 8))\n",
    "\n",
    "filtered = real_df.loc[(real_df['genres'] == 'Comedy')|(real_df['genres'] == 'Horror')|(real_df['genres']=='Action & Adventure')]\n",
    "x = sns.scatterplot(data = filtered, x = \"month_name\", y = \"domestic_gross\", hue ='genres', palette=['red','green','blue'], alpha=.75, s=100);\n",
    "\n",
    "ax.legend(prop={\"size\":15}, loc=1, fancybox=True, framealpha=1, shadow=True, \n",
    "           borderpad=1.5, facecolor='whitesmoke')\n",
    "x.set_xticklabels(['Jan', 'Feb','Mar','Apr','May','Jun','Jul','Aug','Sep','Oct','Nov','Dec'])\n",
    "ax.set_xlabel('Month', fontsize=20)\n",
    "ax.set_ylabel('Domestic Gross in U.S. Dollar', fontsize=20)\n",
    "ax.set_title('Average Gross per Month by Genre', fontsize=25)\n",
    "\n",
    "plt.savefig('images/AvgGrossPerMonthByGenre.png');\n"
   ]
  },
  {
   "cell_type": "code",
   "execution_count": null,
   "metadata": {},
   "outputs": [],
   "source": []
  },
  {
   "cell_type": "code",
   "execution_count": null,
   "metadata": {},
   "outputs": [],
   "source": []
  },
  {
   "cell_type": "code",
   "execution_count": null,
   "metadata": {},
   "outputs": [],
   "source": []
  },
  {
   "cell_type": "code",
   "execution_count": null,
   "metadata": {},
   "outputs": [],
   "source": []
  },
  {
   "cell_type": "markdown",
   "metadata": {},
   "source": [
    "<hr><font color=\"green\"><h1>from file: movie_analysis_tables</h1></font>"
   ]
  },
  {
   "cell_type": "markdown",
   "metadata": {},
   "source": [
    "Importing the different programs used"
   ]
  },
  {
   "cell_type": "code",
   "execution_count": null,
   "metadata": {},
   "outputs": [],
   "source": [
    "import numpy as np"
   ]
  },
  {
   "cell_type": "code",
   "execution_count": null,
   "metadata": {},
   "outputs": [],
   "source": [
    "import pandas as pd"
   ]
  },
  {
   "cell_type": "code",
   "execution_count": null,
   "metadata": {},
   "outputs": [],
   "source": [
    "import seaborn as sns"
   ]
  },
  {
   "cell_type": "code",
   "execution_count": null,
   "metadata": {},
   "outputs": [],
   "source": [
    "import matplotlib.pyplot as plt\n",
    "%matplotlib inline"
   ]
  },
  {
   "cell_type": "markdown",
   "metadata": {},
   "source": [
    "Importing the Rotten Tomatoes data set"
   ]
  },
  {
   "cell_type": "code",
   "execution_count": null,
   "metadata": {
    "scrolled": true
   },
   "outputs": [],
   "source": [
    "df = pd.read_csv('data/zippedData/rotten_tomatoes_movies.csv.gz')\n",
    "df"
   ]
  },
  {
   "cell_type": "markdown",
   "metadata": {},
   "source": [
    "Importing the Bom movie gross data set"
   ]
  },
  {
   "cell_type": "code",
   "execution_count": null,
   "metadata": {
    "scrolled": true
   },
   "outputs": [],
   "source": [
    "df_gross = pd.read_csv('data/zippedData/bom.movie_gross.csv.gz')\n",
    "df_gross"
   ]
  },
  {
   "cell_type": "markdown",
   "metadata": {},
   "source": [
    "Importing the movie budgets data set"
   ]
  },
  {
   "cell_type": "code",
   "execution_count": null,
   "metadata": {
    "scrolled": true
   },
   "outputs": [],
   "source": [
    "df_budgets = pd.read_csv('data/zippedData/tn.movie_budgets.csv.gz')\n",
    "df_budgets"
   ]
  },
  {
   "cell_type": "markdown",
   "metadata": {},
   "source": [
    "Replacing the '$' and ',' in the movie budgets dat set, so that they can be numeric values."
   ]
  },
  {
   "cell_type": "code",
   "execution_count": null,
   "metadata": {
    "scrolled": true
   },
   "outputs": [],
   "source": [
    "df_budgets['production_budget'] = df_budgets['production_budget'].str.replace('$', '')\n",
    "df_budgets['domestic_gross'] = df_budgets['domestic_gross'].str.replace('$', '')\n",
    "df_budgets['production_budget'] = df_budgets['production_budget'].str.replace(',', '')\n",
    "df_budgets['domestic_gross'] = df_budgets['domestic_gross'].str.replace(',', '')\n",
    "df_budgets"
   ]
  },
  {
   "cell_type": "markdown",
   "metadata": {},
   "source": [
    "Converting domestic_gross and production_budget columns to numbers, and dropping the worldwide_gross column. Dropped the worldwide gross because we are not utilizing it, and converting to numbers so we can use math with the values in the other two columns."
   ]
  },
  {
   "cell_type": "code",
   "execution_count": null,
   "metadata": {},
   "outputs": [],
   "source": [
    "df_budgets[['domestic_gross', 'production_budget']] = df_budgets[['domestic_gross', 'production_budget']].apply(pd.to_numeric)\n",
    "df_budgets = df_budgets.drop(columns=\"worldwide_gross\")\n",
    "df_budgets"
   ]
  },
  {
   "cell_type": "markdown",
   "metadata": {},
   "source": [
    "Creating a 'profit' column by subtracting production_budget from domestic_gross in order to show how much a movie is making."
   ]
  },
  {
   "cell_type": "code",
   "execution_count": null,
   "metadata": {
    "scrolled": true
   },
   "outputs": [],
   "source": [
    "df_budgets[\"profit\"] = df_budgets[\"domestic_gross\"] - df_budgets[\"production_budget\"]\n",
    "df_budgets"
   ]
  },
  {
   "cell_type": "markdown",
   "metadata": {},
   "source": [
    "Merged the Rotten Tomatoes data set with the Bom movie data set to create the rating_genres dataframe in order to have domestic gross with the genres."
   ]
  },
  {
   "cell_type": "code",
   "execution_count": null,
   "metadata": {},
   "outputs": [],
   "source": [
    "merged = pd.merge(df, df_gross, left_on='movie_title', right_on='title')\n",
    "df_rating_genres = merged[['movie_title','genres', 'tomatometer_rating', 'domestic_gross']].copy()\n",
    "df_rating_genres"
   ]
  },
  {
   "cell_type": "markdown",
   "metadata": {},
   "source": [
    "Dropping any null values from all columns in the rating_genres dataframe that we just merged so that there is no outliers without any value."
   ]
  },
  {
   "cell_type": "code",
   "execution_count": null,
   "metadata": {},
   "outputs": [],
   "source": [
    "df_rating_genres.dropna(inplace=True)\n",
    "df_rating_genres"
   ]
  },
  {
   "cell_type": "markdown",
   "metadata": {},
   "source": [
    "Dropping duplicates in the movie_title column so the data does not get skewed by the duplicates."
   ]
  },
  {
   "cell_type": "code",
   "execution_count": null,
   "metadata": {},
   "outputs": [],
   "source": [
    "df_rating_genres.drop_duplicates(subset='movie_title', keep='last' , inplace=True)\n",
    "df_rating_genres"
   ]
  },
  {
   "cell_type": "markdown",
   "metadata": {},
   "source": [
    "Making the genres column values into a list to be able to explode the genre column."
   ]
  },
  {
   "cell_type": "code",
   "execution_count": null,
   "metadata": {},
   "outputs": [],
   "source": [
    "df_rating_genres['genres'] = df_rating_genres['genres'].str.split(',', expand = False)\n",
    "df_rating_genres"
   ]
  },
  {
   "cell_type": "markdown",
   "metadata": {},
   "source": [
    "Exploding the genre column so that all the genres are seperated."
   ]
  },
  {
   "cell_type": "code",
   "execution_count": null,
   "metadata": {
    "scrolled": true
   },
   "outputs": [],
   "source": [
    "df_rating_genres = df_rating_genres.explode('genres')\n",
    "df_rating_genres"
   ]
  },
  {
   "cell_type": "markdown",
   "metadata": {},
   "source": [
    "Now every movie has its own row with each of its genre."
   ]
  },
  {
   "cell_type": "code",
   "execution_count": null,
   "metadata": {
    "scrolled": true
   },
   "outputs": [],
   "source": [
    "df_rating_genres['genres'] = df_rating_genres['genres'].str.strip()\n",
    "df_rating_genres"
   ]
  },
  {
   "cell_type": "markdown",
   "metadata": {},
   "source": [
    "Merging the df_rating_genres dataframe with the df_budgets dataframe, in order to get production_budget into the dataframe"
   ]
  },
  {
   "cell_type": "code",
   "execution_count": null,
   "metadata": {
    "scrolled": true
   },
   "outputs": [],
   "source": [
    "merged = pd.merge(df_rating_genres, df_budgets, left_on='movie_title', right_on='movie')\n",
    "df_production = merged[['movie', 'genres', 'production_budget']].copy()\n",
    "df_production"
   ]
  },
  {
   "cell_type": "markdown",
   "metadata": {},
   "source": [
    "Sorting the production_budget column from greatest to least to see what the highest values are."
   ]
  },
  {
   "cell_type": "code",
   "execution_count": null,
   "metadata": {
    "scrolled": true
   },
   "outputs": [],
   "source": [
    "df_sorted = df_production.sort_values('production_budget', ascending=False)\n",
    "df_sorted"
   ]
  },
  {
   "cell_type": "markdown",
   "metadata": {},
   "source": [
    "Making the production budget in hundreds of thousands so it is easier to read on the graph."
   ]
  },
  {
   "cell_type": "code",
   "execution_count": null,
   "metadata": {},
   "outputs": [],
   "source": [
    "df_sorted['new_x'] = df_sorted['production_budget'] / 100000"
   ]
  },
  {
   "cell_type": "code",
   "execution_count": null,
   "metadata": {},
   "outputs": [],
   "source": [
    "df_sorted['new_x'] = df_sorted['new_x'].sort_values(ascending=False)\n",
    "df_sorted['new_x']"
   ]
  },
  {
   "cell_type": "markdown",
   "metadata": {},
   "source": [
    "Ordered where we want the genres to be on the y-axis so that its greatest to least."
   ]
  },
  {
   "cell_type": "code",
   "execution_count": null,
   "metadata": {},
   "outputs": [],
   "source": [
    "order_list = ['Science Fiction & Fantasy', 'Animation', 'Kids & Family', 'Action & Adventure', 'Classics', 'Western', 'Sports & Fitness', 'Comedy', 'Musical & Performing Arts', 'Drama', 'Mystery & Suspense', 'Romance', 'Horror', 'Art House & International', 'Television', 'Special Interest', 'Faith & Spirituality', 'Documentary', 'Cult Movies']"
   ]
  },
  {
   "cell_type": "markdown",
   "metadata": {},
   "source": [
    "Seaborn barplot to show average spent on production by genre."
   ]
  },
  {
   "cell_type": "code",
   "execution_count": null,
   "metadata": {},
   "outputs": [],
   "source": [
    "plot_fig_two, plot_two_ax = plt.subplots(figsize=(25, 20))\n",
    "\n",
    "sns.barplot(x='new_x', y='genres', data=df_sorted, order=order_list)\n",
    "\n",
    "plot_two_ax.set_xlabel('Average Spent on Production in Thousands', fontsize=45)\n",
    "plot_two_ax.set_ylabel('Genres', fontsize=45)\n",
    "plot_two_ax.set_title('Average Spent on Production by Genre', fontsize=60)\n",
    "\n",
    "\n",
    "locs, labels = plt.xticks(fontsize=30)\n",
    "locs, labels = plt.yticks(fontsize=30)\n",
    "#plt.setp(labels, rotation=90, fontsize=30)\n",
    "plt.savefig('average_production.png');"
   ]
  },
  {
   "cell_type": "code",
   "execution_count": null,
   "metadata": {},
   "outputs": [],
   "source": []
  },
  {
   "cell_type": "code",
   "execution_count": null,
   "metadata": {},
   "outputs": [],
   "source": []
  },
  {
   "cell_type": "code",
   "execution_count": null,
   "metadata": {},
   "outputs": [],
   "source": []
  }
 ],
 "metadata": {
  "kernelspec": {
   "display_name": "Python 3",
   "language": "python",
   "name": "python3"
  },
  "language_info": {
   "codemirror_mode": {
    "name": "ipython",
    "version": 3
   },
   "file_extension": ".py",
   "mimetype": "text/x-python",
   "name": "python",
   "nbconvert_exporter": "python",
   "pygments_lexer": "ipython3",
   "version": "3.8.5"
  }
 },
 "nbformat": 4,
 "nbformat_minor": 2
}
