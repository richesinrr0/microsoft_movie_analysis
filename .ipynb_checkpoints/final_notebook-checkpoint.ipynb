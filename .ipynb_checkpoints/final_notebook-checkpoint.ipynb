{
 "cells": [
  {
   "cell_type": "code",
   "execution_count": 1,
   "metadata": {},
   "outputs": [],
   "source": [
    "import pandas as pd\n",
    "import matplotlib.pyplot as plt\n",
    "import seaborn as sns"
   ]
  },
  {
   "cell_type": "code",
   "execution_count": 2,
   "metadata": {
    "scrolled": true
   },
   "outputs": [
    {
     "ename": "FileNotFoundError",
     "evalue": "[Errno 2] No such file or directory: 'data/zippedData/tn.movie_budgets.csv'",
     "output_type": "error",
     "traceback": [
      "\u001b[0;31m---------------------------------------------------------------------------\u001b[0m",
      "\u001b[0;31mFileNotFoundError\u001b[0m                         Traceback (most recent call last)",
      "\u001b[0;32m<ipython-input-2-5fdc7d50c797>\u001b[0m in \u001b[0;36m<module>\u001b[0;34m\u001b[0m\n\u001b[0;32m----> 1\u001b[0;31m \u001b[0mbudget\u001b[0m \u001b[0;34m=\u001b[0m \u001b[0mpd\u001b[0m\u001b[0;34m.\u001b[0m\u001b[0mread_csv\u001b[0m\u001b[0;34m(\u001b[0m\u001b[0;34m'data/zippedData/tn.movie_budgets.csv'\u001b[0m\u001b[0;34m)\u001b[0m\u001b[0;34m\u001b[0m\u001b[0;34m\u001b[0m\u001b[0m\n\u001b[0m\u001b[1;32m      2\u001b[0m \u001b[0mbudget\u001b[0m\u001b[0;34m\u001b[0m\u001b[0;34m\u001b[0m\u001b[0m\n",
      "\u001b[0;32m~/opt/anaconda3/envs/learn-env/lib/python3.8/site-packages/pandas/io/parsers.py\u001b[0m in \u001b[0;36mread_csv\u001b[0;34m(filepath_or_buffer, sep, delimiter, header, names, index_col, usecols, squeeze, prefix, mangle_dupe_cols, dtype, engine, converters, true_values, false_values, skipinitialspace, skiprows, skipfooter, nrows, na_values, keep_default_na, na_filter, verbose, skip_blank_lines, parse_dates, infer_datetime_format, keep_date_col, date_parser, dayfirst, cache_dates, iterator, chunksize, compression, thousands, decimal, lineterminator, quotechar, quoting, doublequote, escapechar, comment, encoding, dialect, error_bad_lines, warn_bad_lines, delim_whitespace, low_memory, memory_map, float_precision, storage_options)\u001b[0m\n\u001b[1;32m    608\u001b[0m     \u001b[0mkwds\u001b[0m\u001b[0;34m.\u001b[0m\u001b[0mupdate\u001b[0m\u001b[0;34m(\u001b[0m\u001b[0mkwds_defaults\u001b[0m\u001b[0;34m)\u001b[0m\u001b[0;34m\u001b[0m\u001b[0;34m\u001b[0m\u001b[0m\n\u001b[1;32m    609\u001b[0m \u001b[0;34m\u001b[0m\u001b[0m\n\u001b[0;32m--> 610\u001b[0;31m     \u001b[0;32mreturn\u001b[0m \u001b[0m_read\u001b[0m\u001b[0;34m(\u001b[0m\u001b[0mfilepath_or_buffer\u001b[0m\u001b[0;34m,\u001b[0m \u001b[0mkwds\u001b[0m\u001b[0;34m)\u001b[0m\u001b[0;34m\u001b[0m\u001b[0;34m\u001b[0m\u001b[0m\n\u001b[0m\u001b[1;32m    611\u001b[0m \u001b[0;34m\u001b[0m\u001b[0m\n\u001b[1;32m    612\u001b[0m \u001b[0;34m\u001b[0m\u001b[0m\n",
      "\u001b[0;32m~/opt/anaconda3/envs/learn-env/lib/python3.8/site-packages/pandas/io/parsers.py\u001b[0m in \u001b[0;36m_read\u001b[0;34m(filepath_or_buffer, kwds)\u001b[0m\n\u001b[1;32m    460\u001b[0m \u001b[0;34m\u001b[0m\u001b[0m\n\u001b[1;32m    461\u001b[0m     \u001b[0;31m# Create the parser.\u001b[0m\u001b[0;34m\u001b[0m\u001b[0;34m\u001b[0m\u001b[0;34m\u001b[0m\u001b[0m\n\u001b[0;32m--> 462\u001b[0;31m     \u001b[0mparser\u001b[0m \u001b[0;34m=\u001b[0m \u001b[0mTextFileReader\u001b[0m\u001b[0;34m(\u001b[0m\u001b[0mfilepath_or_buffer\u001b[0m\u001b[0;34m,\u001b[0m \u001b[0;34m**\u001b[0m\u001b[0mkwds\u001b[0m\u001b[0;34m)\u001b[0m\u001b[0;34m\u001b[0m\u001b[0;34m\u001b[0m\u001b[0m\n\u001b[0m\u001b[1;32m    463\u001b[0m \u001b[0;34m\u001b[0m\u001b[0m\n\u001b[1;32m    464\u001b[0m     \u001b[0;32mif\u001b[0m \u001b[0mchunksize\u001b[0m \u001b[0;32mor\u001b[0m \u001b[0miterator\u001b[0m\u001b[0;34m:\u001b[0m\u001b[0;34m\u001b[0m\u001b[0;34m\u001b[0m\u001b[0m\n",
      "\u001b[0;32m~/opt/anaconda3/envs/learn-env/lib/python3.8/site-packages/pandas/io/parsers.py\u001b[0m in \u001b[0;36m__init__\u001b[0;34m(self, f, engine, **kwds)\u001b[0m\n\u001b[1;32m    817\u001b[0m             \u001b[0mself\u001b[0m\u001b[0;34m.\u001b[0m\u001b[0moptions\u001b[0m\u001b[0;34m[\u001b[0m\u001b[0;34m\"has_index_names\"\u001b[0m\u001b[0;34m]\u001b[0m \u001b[0;34m=\u001b[0m \u001b[0mkwds\u001b[0m\u001b[0;34m[\u001b[0m\u001b[0;34m\"has_index_names\"\u001b[0m\u001b[0;34m]\u001b[0m\u001b[0;34m\u001b[0m\u001b[0;34m\u001b[0m\u001b[0m\n\u001b[1;32m    818\u001b[0m \u001b[0;34m\u001b[0m\u001b[0m\n\u001b[0;32m--> 819\u001b[0;31m         \u001b[0mself\u001b[0m\u001b[0;34m.\u001b[0m\u001b[0m_engine\u001b[0m \u001b[0;34m=\u001b[0m \u001b[0mself\u001b[0m\u001b[0;34m.\u001b[0m\u001b[0m_make_engine\u001b[0m\u001b[0;34m(\u001b[0m\u001b[0mself\u001b[0m\u001b[0;34m.\u001b[0m\u001b[0mengine\u001b[0m\u001b[0;34m)\u001b[0m\u001b[0;34m\u001b[0m\u001b[0;34m\u001b[0m\u001b[0m\n\u001b[0m\u001b[1;32m    820\u001b[0m \u001b[0;34m\u001b[0m\u001b[0m\n\u001b[1;32m    821\u001b[0m     \u001b[0;32mdef\u001b[0m \u001b[0mclose\u001b[0m\u001b[0;34m(\u001b[0m\u001b[0mself\u001b[0m\u001b[0;34m)\u001b[0m\u001b[0;34m:\u001b[0m\u001b[0;34m\u001b[0m\u001b[0;34m\u001b[0m\u001b[0m\n",
      "\u001b[0;32m~/opt/anaconda3/envs/learn-env/lib/python3.8/site-packages/pandas/io/parsers.py\u001b[0m in \u001b[0;36m_make_engine\u001b[0;34m(self, engine)\u001b[0m\n\u001b[1;32m   1048\u001b[0m             )\n\u001b[1;32m   1049\u001b[0m         \u001b[0;31m# error: Too many arguments for \"ParserBase\"\u001b[0m\u001b[0;34m\u001b[0m\u001b[0;34m\u001b[0m\u001b[0;34m\u001b[0m\u001b[0m\n\u001b[0;32m-> 1050\u001b[0;31m         \u001b[0;32mreturn\u001b[0m \u001b[0mmapping\u001b[0m\u001b[0;34m[\u001b[0m\u001b[0mengine\u001b[0m\u001b[0;34m]\u001b[0m\u001b[0;34m(\u001b[0m\u001b[0mself\u001b[0m\u001b[0;34m.\u001b[0m\u001b[0mf\u001b[0m\u001b[0;34m,\u001b[0m \u001b[0;34m**\u001b[0m\u001b[0mself\u001b[0m\u001b[0;34m.\u001b[0m\u001b[0moptions\u001b[0m\u001b[0;34m)\u001b[0m  \u001b[0;31m# type: ignore[call-arg]\u001b[0m\u001b[0;34m\u001b[0m\u001b[0;34m\u001b[0m\u001b[0m\n\u001b[0m\u001b[1;32m   1051\u001b[0m \u001b[0;34m\u001b[0m\u001b[0m\n\u001b[1;32m   1052\u001b[0m     \u001b[0;32mdef\u001b[0m \u001b[0m_failover_to_python\u001b[0m\u001b[0;34m(\u001b[0m\u001b[0mself\u001b[0m\u001b[0;34m)\u001b[0m\u001b[0;34m:\u001b[0m\u001b[0;34m\u001b[0m\u001b[0;34m\u001b[0m\u001b[0m\n",
      "\u001b[0;32m~/opt/anaconda3/envs/learn-env/lib/python3.8/site-packages/pandas/io/parsers.py\u001b[0m in \u001b[0;36m__init__\u001b[0;34m(self, src, **kwds)\u001b[0m\n\u001b[1;32m   1865\u001b[0m \u001b[0;34m\u001b[0m\u001b[0m\n\u001b[1;32m   1866\u001b[0m         \u001b[0;31m# open handles\u001b[0m\u001b[0;34m\u001b[0m\u001b[0;34m\u001b[0m\u001b[0;34m\u001b[0m\u001b[0m\n\u001b[0;32m-> 1867\u001b[0;31m         \u001b[0mself\u001b[0m\u001b[0;34m.\u001b[0m\u001b[0m_open_handles\u001b[0m\u001b[0;34m(\u001b[0m\u001b[0msrc\u001b[0m\u001b[0;34m,\u001b[0m \u001b[0mkwds\u001b[0m\u001b[0;34m)\u001b[0m\u001b[0;34m\u001b[0m\u001b[0;34m\u001b[0m\u001b[0m\n\u001b[0m\u001b[1;32m   1868\u001b[0m         \u001b[0;32massert\u001b[0m \u001b[0mself\u001b[0m\u001b[0;34m.\u001b[0m\u001b[0mhandles\u001b[0m \u001b[0;32mis\u001b[0m \u001b[0;32mnot\u001b[0m \u001b[0;32mNone\u001b[0m\u001b[0;34m\u001b[0m\u001b[0;34m\u001b[0m\u001b[0m\n\u001b[1;32m   1869\u001b[0m         \u001b[0;32mfor\u001b[0m \u001b[0mkey\u001b[0m \u001b[0;32min\u001b[0m \u001b[0;34m(\u001b[0m\u001b[0;34m\"storage_options\"\u001b[0m\u001b[0;34m,\u001b[0m \u001b[0;34m\"encoding\"\u001b[0m\u001b[0;34m,\u001b[0m \u001b[0;34m\"memory_map\"\u001b[0m\u001b[0;34m,\u001b[0m \u001b[0;34m\"compression\"\u001b[0m\u001b[0;34m)\u001b[0m\u001b[0;34m:\u001b[0m\u001b[0;34m\u001b[0m\u001b[0;34m\u001b[0m\u001b[0m\n",
      "\u001b[0;32m~/opt/anaconda3/envs/learn-env/lib/python3.8/site-packages/pandas/io/parsers.py\u001b[0m in \u001b[0;36m_open_handles\u001b[0;34m(self, src, kwds)\u001b[0m\n\u001b[1;32m   1360\u001b[0m         \u001b[0mLet\u001b[0m \u001b[0mthe\u001b[0m \u001b[0mreaders\u001b[0m \u001b[0mopen\u001b[0m \u001b[0mIOHanldes\u001b[0m \u001b[0mafter\u001b[0m \u001b[0mthey\u001b[0m \u001b[0mare\u001b[0m \u001b[0mdone\u001b[0m \u001b[0;32mwith\u001b[0m \u001b[0mtheir\u001b[0m \u001b[0mpotential\u001b[0m \u001b[0mraises\u001b[0m\u001b[0;34m.\u001b[0m\u001b[0;34m\u001b[0m\u001b[0;34m\u001b[0m\u001b[0m\n\u001b[1;32m   1361\u001b[0m         \"\"\"\n\u001b[0;32m-> 1362\u001b[0;31m         self.handles = get_handle(\n\u001b[0m\u001b[1;32m   1363\u001b[0m             \u001b[0msrc\u001b[0m\u001b[0;34m,\u001b[0m\u001b[0;34m\u001b[0m\u001b[0;34m\u001b[0m\u001b[0m\n\u001b[1;32m   1364\u001b[0m             \u001b[0;34m\"r\"\u001b[0m\u001b[0;34m,\u001b[0m\u001b[0;34m\u001b[0m\u001b[0;34m\u001b[0m\u001b[0m\n",
      "\u001b[0;32m~/opt/anaconda3/envs/learn-env/lib/python3.8/site-packages/pandas/io/common.py\u001b[0m in \u001b[0;36mget_handle\u001b[0;34m(path_or_buf, mode, encoding, compression, memory_map, is_text, errors, storage_options)\u001b[0m\n\u001b[1;32m    640\u001b[0m                 \u001b[0merrors\u001b[0m \u001b[0;34m=\u001b[0m \u001b[0;34m\"replace\"\u001b[0m\u001b[0;34m\u001b[0m\u001b[0;34m\u001b[0m\u001b[0m\n\u001b[1;32m    641\u001b[0m             \u001b[0;31m# Encoding\u001b[0m\u001b[0;34m\u001b[0m\u001b[0;34m\u001b[0m\u001b[0;34m\u001b[0m\u001b[0m\n\u001b[0;32m--> 642\u001b[0;31m             handle = open(\n\u001b[0m\u001b[1;32m    643\u001b[0m                 \u001b[0mhandle\u001b[0m\u001b[0;34m,\u001b[0m\u001b[0;34m\u001b[0m\u001b[0;34m\u001b[0m\u001b[0m\n\u001b[1;32m    644\u001b[0m                 \u001b[0mioargs\u001b[0m\u001b[0;34m.\u001b[0m\u001b[0mmode\u001b[0m\u001b[0;34m,\u001b[0m\u001b[0;34m\u001b[0m\u001b[0;34m\u001b[0m\u001b[0m\n",
      "\u001b[0;31mFileNotFoundError\u001b[0m: [Errno 2] No such file or directory: 'data/zippedData/tn.movie_budgets.csv'"
     ]
    }
   ],
   "source": [
    "budget = pd.read_csv('data/zippedData/tn.movie_budgets.csv')\n",
    "budget"
   ]
  },
  {
   "cell_type": "code",
   "execution_count": null,
   "metadata": {},
   "outputs": [],
   "source": [
    "def getSeason(release_date):\n",
    "    if (release_date[0:3] == \"Dec\" or  release_date[0:3] == \"Jan\" or release_date[0:3] == \"Feb\"):\n",
    "        return \"Winter\"\n",
    "    elif(release_date[0:3] == \"Mar\" or release_date[0:3] == \"Apr\" or release_date[0:3] == \"May\"):\n",
    "        return \"Spring\"\n",
    "    elif(release_date[0:3] == \"Jun\" or release_date[0:3] == \"Jul\" or release_date[0:3] == \"Aug\"):\n",
    "        return \"Summer\"\n",
    "    else:\n",
    "        return \"Fall\"\n",
    "    \n",
    "season = budget.release_date.apply(getSeason)\n",
    "budget['Season'] = season\n",
    "budget"
   ]
  },
  {
   "cell_type": "code",
   "execution_count": null,
   "metadata": {},
   "outputs": [],
   "source": [
    "budget[\"Season\"].value_counts()"
   ]
  },
  {
   "cell_type": "code",
   "execution_count": null,
   "metadata": {},
   "outputs": [],
   "source": [
    "budget['production_budget'] = budget['production_budget'].str.replace('$', '')\n",
    "budget['domestic_gross'] = budget['domestic_gross'].str.replace('$', '')\n",
    "budget['production_budget'] = budget['production_budget'].str.replace(',', '')\n",
    "budget['domestic_gross'] = budget['domestic_gross'].str.replace(',', '')\n",
    "\n",
    "budget"
   ]
  },
  {
   "cell_type": "code",
   "execution_count": null,
   "metadata": {},
   "outputs": [],
   "source": [
    "budget[['domestic_gross', 'production_budget']] = budget[['domestic_gross', 'production_budget']].apply(pd.to_numeric)\n",
    "budget = budget.drop(columns=\"worldwide_gross\") #profit column\n",
    "\n",
    "budget"
   ]
  },
  {
   "cell_type": "code",
   "execution_count": null,
   "metadata": {},
   "outputs": [],
   "source": [
    "budget[\"profit\"] = budget[\"domestic_gross\"] - budget[\"production_budget\"]\n",
    "budget"
   ]
  },
  {
   "cell_type": "code",
   "execution_count": null,
   "metadata": {},
   "outputs": [],
   "source": [
    "# Your code here\n",
    "plot_five_fig, plot_five_ax = plt.subplots(figsize=(15,15))\n",
    "\n",
    "sns.boxplot(x='Season', y='profit', data=budget, ax=plot_five_ax, showfliers=False)\n",
    "\n",
    "plot_five_ax.set_xlabel('Season', fontsize = 15)\n",
    "\n",
    "plot_five_ax.set_ylabel('Profit in millions', fontsize = 15)\n",
    "\n",
    "plot_five_ax.set_title('Seasonal profit', fontsize = 15)"
   ]
  },
  {
   "cell_type": "code",
   "execution_count": null,
   "metadata": {},
   "outputs": [],
   "source": [
    "fig, ax = plt.subplots(figsize=(15,8))\n",
    "N = 5\n",
    "ind = np.arange(N) \n",
    "width = 0.25\n",
    "\n",
    "xvals = budget_groups2['domestic_gross']\n",
    "bar1 = plt.bar(ind, xvals, width, color = 'orange')\n",
    "\n",
    "yvals2 = budget_groups2['profit']\n",
    "bar2 = plt.bar(ind+width, yvals2, width, color = 'mediumseagreen')\n",
    "\n",
    "zvals3 = budget_groups2['production_budget']\n",
    "bar3 = plt.bar(ind-width, zvals3, width, color = 'slateblue')\n",
    "\n",
    "\n",
    "plt.xlabel(\"Year of Release\", fontsize=15)\n",
    "plt.ylabel('U.S. Dollars in Hundreds of Millions ($)', fontsize=15)\n",
    "plt.title(\"Yearly Comparison of Production Budget, Gross, & Profit\", fontsize=20)\n",
    "\n",
    "plt.axhline(y=0.5, color='black', linestyle='--')\n",
    "\n",
    "\n",
    "plt.xticks(ind+width, ['2015','2016','2017','2018','2019'])\n",
    "plt.legend( (bar1, bar2, bar3), ('Domestic Gross', 'Profit', 'Production Budget') )\n",
    "\n",
    "plt.show()"
   ]
  },
  {
   "cell_type": "code",
   "execution_count": null,
   "metadata": {},
   "outputs": [],
   "source": [
    "plot_one_fig, plot_one_ax = plt.subplots(figsize=(15,8))\n",
    "\n",
    "sns.boxplot(x='month', y='profit', data=budget, ax=plot_one_ax, showfliers=False)\n",
    "plot_one_ax.set_xlabel('Month', fontsize=15)\n",
    "plot_one_ax.set_ylabel('Profit in Hundreds of Millions', fontsize=15)\n",
    "plot_one_ax.set_title('Monthly Profits', fontsize=15);\n",
    "plt.savefig('MonthlyProfitsReal.png')"
   ]
  },
  {
   "cell_type": "code",
   "execution_count": null,
   "metadata": {},
   "outputs": [],
   "source": []
  },
  {
   "cell_type": "code",
   "execution_count": null,
   "id": "bdb6ce07",
   "metadata": {},
   "outputs": [],
   "source": [
    "import pandas as pd\n",
    "import matplotlib.pyplot as plt\n",
    "import seaborn as sns\n",
    "import numpy as np\n",
    "import warnings"
   ]
  },
  {
   "cell_type": "markdown",
   "id": "0c180afb",
   "metadata": {},
   "source": [
    "**Reads in the Rotten Tomatoes csv data and prints the first few rows**"
   ]
  },
  {
   "cell_type": "code",
   "execution_count": null,
   "id": "694feeaa",
   "metadata": {
    "scrolled": true
   },
   "outputs": [],
   "source": [
    "df = pd.read_csv('data/zippedData/rotten_tomatoes_movies.csv.gz')\n",
    "df.head(2)"
   ]
  },
  {
   "cell_type": "markdown",
   "id": "835b1503",
   "metadata": {},
   "source": [
    "**Reads in the movie gross csv data and prints the first few rows**"
   ]
  },
  {
   "cell_type": "code",
   "execution_count": null,
   "id": "889110a3",
   "metadata": {},
   "outputs": [],
   "source": [
    "df_gross = pd.read_csv('data/zippedData/bom.movie_gross.csv.gz')\n",
    "df_gross"
   ]
  },
  {
   "cell_type": "markdown",
   "id": "b7db2364",
   "metadata": {},
   "source": [
    "**Merges the two DataFrames together on the movie title and creates a DataFrame with only the data we want to work with**"
   ]
  },
  {
   "cell_type": "code",
   "execution_count": null,
   "id": "213140fd",
   "metadata": {},
   "outputs": [],
   "source": [
    "merged = pd.merge(df, df_gross, left_on='movie_title', right_on='title')\n",
    "df_rating_genres = merged[['movie_title','genres', 'tomatometer_rating', 'domestic_gross']].copy()"
   ]
  },
  {
   "cell_type": "code",
   "execution_count": null,
   "id": "0c454d03",
   "metadata": {},
   "outputs": [],
   "source": [
    "df_rating_genres"
   ]
  },
  {
   "cell_type": "markdown",
   "id": "030124b3",
   "metadata": {},
   "source": [
    "**Checks info() to see how many null values are in the DataFrame rows**"
   ]
  },
  {
   "cell_type": "code",
   "execution_count": null,
   "id": "5039b368",
   "metadata": {
    "scrolled": true
   },
   "outputs": [],
   "source": [
    "df_rating_genres.info()"
   ]
  },
  {
   "cell_type": "markdown",
   "id": "73e2be3b",
   "metadata": {},
   "source": [
    "**Removes any rows with null values**"
   ]
  },
  {
   "cell_type": "code",
   "execution_count": null,
   "id": "ceccd412",
   "metadata": {},
   "outputs": [],
   "source": [
    "df_rating_genres.dropna(inplace=True)\n",
    "df_rating_genres.head(12)"
   ]
  },
  {
   "cell_type": "markdown",
   "id": "936e4d62",
   "metadata": {},
   "source": [
    "**Drops the duplicate values !!**"
   ]
  },
  {
   "cell_type": "code",
   "execution_count": null,
   "id": "5b30c0a7",
   "metadata": {},
   "outputs": [],
   "source": [
    "df_rating_genres.drop_duplicates(subset='movie_title', keep='last' , inplace=True)\n",
    "df_rating_genres"
   ]
  },
  {
   "cell_type": "markdown",
   "id": "81b2c9a3",
   "metadata": {},
   "source": [
    "**Checks for any more missing values and how many rows were removed**"
   ]
  },
  {
   "cell_type": "code",
   "execution_count": null,
   "id": "c147d2cf",
   "metadata": {},
   "outputs": [],
   "source": [
    "df_rating_genres.info()"
   ]
  },
  {
   "cell_type": "markdown",
   "id": "109c0b7c",
   "metadata": {},
   "source": [
    "**Looks at the highest and lowest gross to get a feel for which genres do best**"
   ]
  },
  {
   "cell_type": "code",
   "execution_count": null,
   "id": "d99a08a6",
   "metadata": {},
   "outputs": [],
   "source": [
    "df_sorted = df_rating_genres.sort_values('domestic_gross', ascending=False)\n",
    "df_sorted"
   ]
  },
  {
   "cell_type": "markdown",
   "id": "2cfe1f34",
   "metadata": {},
   "source": [
    "**Splits the genres in the genres row into a list containing the genres**"
   ]
  },
  {
   "cell_type": "code",
   "execution_count": null,
   "id": "715546c7",
   "metadata": {},
   "outputs": [],
   "source": [
    "df_rating_genres['genres'] = df_rating_genres['genres'].str.split(',', expand = False)\n",
    "\n",
    "df_rating_genres"
   ]
  },
  {
   "cell_type": "markdown",
   "id": "65b60207",
   "metadata": {},
   "source": [
    "**Explodes the genres column which separates all the genres for each movie into its own column**"
   ]
  },
  {
   "cell_type": "code",
   "execution_count": null,
   "id": "eace2356",
   "metadata": {},
   "outputs": [],
   "source": [
    "df_rating_genres = df_rating_genres.explode('genres')\n",
    "df_rating_genres"
   ]
  },
  {
   "cell_type": "markdown",
   "id": "e09b3ff8",
   "metadata": {},
   "source": [
    "**Checks the data types of the columns**"
   ]
  },
  {
   "cell_type": "code",
   "execution_count": null,
   "id": "bbb96f70",
   "metadata": {},
   "outputs": [],
   "source": [
    "df_rating_genres.dtypes"
   ]
  },
  {
   "cell_type": "markdown",
   "id": "92e88ec5",
   "metadata": {},
   "source": [
    "**Strips any whitespace from the genres in the genres column**"
   ]
  },
  {
   "cell_type": "code",
   "execution_count": null,
   "id": "f2460055",
   "metadata": {},
   "outputs": [],
   "source": [
    "df_rating_genres['genres'] = df_rating_genres['genres'].str.strip()"
   ]
  },
  {
   "cell_type": "markdown",
   "id": "b919fcd0",
   "metadata": {},
   "source": [
    "**I only want to focus on genres with enough data points to generate sufficient means so I will only look at genres above 150 data values**"
   ]
  },
  {
   "cell_type": "code",
   "execution_count": null,
   "id": "580fcc96",
   "metadata": {},
   "outputs": [],
   "source": [
    "df_rating_genres['genres'].value_counts() "
   ]
  },
  {
   "cell_type": "markdown",
   "id": "c035761e",
   "metadata": {},
   "source": [
    "**Creates a new DataFrame of all the movies classified as the specified genre**"
   ]
  },
  {
   "cell_type": "code",
   "execution_count": null,
   "id": "06850fed",
   "metadata": {},
   "outputs": [],
   "source": [
    "df_comedy = df_rating_genres.loc[df_rating_genres['genres'] == 'Comedy']\n",
    "df_romance = df_rating_genres.loc[df_rating_genres['genres'] == 'Romance']\n",
    "df_horror = df_rating_genres.loc[df_rating_genres['genres'] == 'Horror']\n",
    "df_mystery_suspence = df_rating_genres.loc[df_rating_genres['genres'] == 'Mystery & Suspense']\n",
    "df_action_adventure = df_rating_genres.loc[df_rating_genres['genres'] == 'Action & Adventure']\n",
    "df_animation = df_rating_genres.loc[df_rating_genres['genres'] == 'Animation']\n",
    "df_art = df_rating_genres.loc[df_rating_genres['genres'] == 'Art House & International']\n",
    "df_drama = df_rating_genres.loc[df_rating_genres['genres'] == 'Drama']"
   ]
  },
  {
   "cell_type": "markdown",
   "id": "acde6b36",
   "metadata": {},
   "source": [
    "**Finds the mean of the domestic gross profit for all the relevent DataFrames**"
   ]
  },
  {
   "cell_type": "code",
   "execution_count": null,
   "id": "0ae9e34c",
   "metadata": {},
   "outputs": [],
   "source": [
    "#mean of the comedy gross profit \n",
    "y_comedy = round(df_comedy['domestic_gross'].mean())\n",
    "y_drama = round(df_drama['domestic_gross'].mean())\n",
    "y_romance = round(df_romance['domestic_gross'].mean())\n",
    "y_horror = round(df_horror['domestic_gross'].mean())\n",
    "y_mystery = round(df_mystery_suspence['domestic_gross'].mean())\n",
    "y_action_adventure = round(df_action_adventure['domestic_gross'].mean())\n",
    "y_animation = round(df_animation['domestic_gross'].mean())\n",
    "y_art = round(df_art['domestic_gross'].mean())\n"
   ]
  },
  {
   "cell_type": "markdown",
   "id": "2ee2b321",
   "metadata": {},
   "source": [
    "**Finds the mean of the tomatometer rating for all the relevent genre DataFrames**"
   ]
  },
  {
   "cell_type": "code",
   "execution_count": null,
   "id": "f6b4d42b",
   "metadata": {},
   "outputs": [],
   "source": [
    "#mean of the comedy genre tomato ratings\n",
    "x_comedy = round(df_comedy['tomatometer_rating'].mean())\n",
    "x_romance = round(df_romance['tomatometer_rating'].mean())\n",
    "x_horror = round(df_horror['tomatometer_rating'].mean())\n",
    "x_mystery = round(df_mystery_suspence['tomatometer_rating'].mean())\n",
    "x_action_adventure = round(df_action_adventure['tomatometer_rating'].mean())\n",
    "x_animation = round(df_animation['tomatometer_rating'].mean())\n",
    "x_art = round(df_art['tomatometer_rating'].mean())\n",
    "x_drama = round(df_drama['tomatometer_rating'].mean())"
   ]
  },
  {
   "cell_type": "markdown",
   "id": "6b485e93",
   "metadata": {},
   "source": [
    "**Graphs all the genre DataFrames to get an idea of which genre has the highest ratings and brought the most profit**"
   ]
  },
  {
   "cell_type": "code",
   "execution_count": null,
   "id": "fadc07c0",
   "metadata": {},
   "outputs": [],
   "source": [
    "fig, axes =plt.subplots(nrows=2,ncols=4, figsize =(21,13))\n",
    "sns.lineplot(data=df_comedy, x=\"tomatometer_rating\", y=\"domestic_gross\", ax=axes[0][0]).set(title='Comedy')\n",
    "sns.lineplot(data=df_romance, x=\"tomatometer_rating\", y=\"domestic_gross\", ax=axes[0][1]).set(title='Romance')\n",
    "sns.lineplot(data=df_horror, x=\"tomatometer_rating\", y=\"domestic_gross\", ax=axes[0][2]).set(title='Horror')\n",
    "sns.lineplot(data=df_mystery_suspence, x=\"tomatometer_rating\", y=\"domestic_gross\", ax=axes[0][3]).set(title='Mystery & Suspence')\n",
    "sns.lineplot(data=df_action_adventure, x=\"tomatometer_rating\", y=\"domestic_gross\", ax=axes[1][0]).set(title='Action & Adventure')\n",
    "sns.lineplot(data=df_animation, x=\"tomatometer_rating\", y=\"domestic_gross\", ax=axes[1][1]).set(title='Animation')\n",
    "sns.lineplot(data=df_art, x=\"tomatometer_rating\", y=\"domestic_gross\", ax=axes[1][2]).set(title='Art House & International')\n",
    "sns.lineplot(data=df_drama, x=\"tomatometer_rating\", y=\"domestic_gross\", ax=axes[1][3]).set(title='Drama');"
   ]
  },
  {
   "cell_type": "markdown",
   "id": "ed882639",
   "metadata": {},
   "source": [
    "**Comedy, Horror, and Action & Adventure appears to be the highest so this is a graph of them together**"
   ]
  },
  {
   "cell_type": "code",
   "execution_count": null,
   "id": "e3440aa0",
   "metadata": {},
   "outputs": [],
   "source": [
    "fig, ax = plt.subplots(1, 1)\n",
    "\n",
    "ax.scatter(df_action_adventure['tomatometer_rating'], df_action_adventure[\"domestic_gross\"], color=\"springgreen\", label=\"Action & Adventure\", alpha=0.85)\n",
    "ax.scatter(df_comedy['tomatometer_rating'], df_comedy[\"domestic_gross\"], color=\"indianred\", label=\"Comedy\", alpha=0.85)\n",
    "ax.scatter(df_horror['tomatometer_rating'], df_horror[\"domestic_gross\"], color=\"slateblue\", label=\"Horror\", alpha=0.85)\n",
    "\n",
    "ax.set_title('Average Ratings and Gross Profit per Genre')\n",
    "\n",
    "ax.set_ylabel('Domestic Gross Profit')\n",
    "ax.set_xlabel('Tomato Meter Rating')\n",
    "ax.legend();"
   ]
  },
  {
   "cell_type": "code",
   "execution_count": null,
   "id": "913d2d0f",
   "metadata": {},
   "outputs": [],
   "source": [
    "sns.jointplot(x=df_action_adventure['tomatometer_rating'], y=df_action_adventure[\"domestic_gross\"], kind=\"hex\", color=\"#4CB391\");"
   ]
  },
  {
   "cell_type": "code",
   "execution_count": null,
   "id": "1e7c3c9f",
   "metadata": {},
   "outputs": [],
   "source": [
    "sns.set_style('darkgrid')\n",
    "fig, ax = plt.subplots(figsize=(10,10))\n",
    "sns.lineplot(data=df_comedy, x=\"tomatometer_rating\", y=\"domestic_gross\", ax=ax, ci=None, color='lightpink', markers=True).set(title='Average Ratings and Gross Profit per Genre')\n",
    "sns.lineplot(data=df_horror, x=\"tomatometer_rating\", y=\"domestic_gross\", ax=ax, ci=None, color='burlywood')\n",
    "sns.lineplot(data=df_action_adventure, x=\"tomatometer_rating\", y=\"domestic_gross\", ax=ax, ci=None, color='cornflowerblue')\n",
    "ax.legend(['Comedy', 'Horror', 'Action & Adventure']);"
   ]
  },
  {
   "cell_type": "markdown",
   "id": "5bee37a1",
   "metadata": {},
   "source": [
    "**These are a little busy lets split them up and show them in a linear regression plot**"
   ]
  },
  {
   "cell_type": "code",
   "execution_count": null,
   "id": "33ef8d26",
   "metadata": {},
   "outputs": [],
   "source": [
    "fig, ax = plt.subplots(figsize=(20,10), ncols=3)\n",
    "\n",
    "sns.regplot(data=df_comedy, x=\"tomatometer_rating\", y=\"domestic_gross\",ax=ax[0]).set(title='Comedy')\n",
    "sns.regplot(data=df_action_adventure, x=\"tomatometer_rating\", y=\"domestic_gross\", ax=ax[1]).set(title='Action & Adventure')\n",
    "sns.regplot(data=df_horror, x=\"tomatometer_rating\", y=\"domestic_gross\", ax=ax[2]).set(title='Horror');"
   ]
  },
  {
   "cell_type": "markdown",
   "id": "eef5493e",
   "metadata": {},
   "source": [
    "**Lets simplify this to just show the linear regression lines for these top three genres and put them back together**"
   ]
  },
  {
   "cell_type": "code",
   "execution_count": null,
   "id": "5f702a10",
   "metadata": {},
   "outputs": [],
   "source": [
    "plt.style.use('ggplot')\n",
    "\n",
    "fig, ax = plt.subplots(figsize=(9,7))\n",
    "\n",
    "ax.set_facecolor('gainsboro')\n",
    "\n",
    "x = np.array(df_comedy['tomatometer_rating'])\n",
    "y = np.array(df_comedy['domestic_gross'])\n",
    "\n",
    "m, b = np.polyfit(x, y, 1)\n",
    "ax.plot(x, m*x + b, color='cornflowerblue', linewidth=3.5)\n",
    "\n",
    "x = np.array(df_action_adventure['tomatometer_rating'])\n",
    "y = np.array(df_action_adventure['domestic_gross'])\n",
    "\n",
    "m, b = np.polyfit(x, y, 1)\n",
    "ax.plot(x, m*x + b, color='lightcoral', linewidth=3.5)\n",
    "\n",
    "x = np.array(df_horror['tomatometer_rating'])\n",
    "y = np.array(df_horror['domestic_gross'])\n",
    "\n",
    "m, b = np.polyfit(x, y, 1)\n",
    "ax.plot(x, m*x + b, color='mediumseagreen', linewidth=3.5)\n",
    "\n",
    "ax.set_title('Linear Regression of Ratings and Gross Profit per Genre', fontsize=16)\n",
    "\n",
    "ax.set_ylabel('Domestic Gross Profit', fontsize=15)\n",
    "ax.set_xlabel('Rotten Tomato Meter Rating',fontsize=15)\n",
    "\n",
    "plt.legend(['Comedy','Action & Adventure', 'Horror'], fancybox=True, framealpha=1, shadow=True, \n",
    "           borderpad=1.5, prop={\"size\":15}, facecolor='whitesmoke');\n"
   ]
  },
  {
   "cell_type": "markdown",
   "id": "7d2d44ea",
   "metadata": {},
   "source": [
    "**This is a scatter plot of the means of the ratings and gross profit columns for all the genres graphed together on a scatter plot**"
   ]
  },
  {
   "cell_type": "code",
   "execution_count": null,
   "id": "b88e6fa2",
   "metadata": {},
   "outputs": [],
   "source": [
    "fig, ax = plt.subplots(figsize=(15,6))\n",
    "ax.scatter(x_comedy,y_comedy, marker='s', linewidth=7)\n",
    "ax.scatter(x_romance,y_romance, marker='s', linewidth=7)\n",
    "ax.scatter(x_horror,y_horror, marker='s', linewidth=7)\n",
    "ax.scatter(x_mystery,y_mystery, marker='s', linewidth=7)\n",
    "ax.scatter(x_action_adventure,y_action_adventure, marker='s', linewidth=7)\n",
    "ax.scatter(x_animation,y_animation, marker='s', linewidth=7)\n",
    "ax.scatter(x_art,y_art, marker='s', linewidth=7, color='violet')\n",
    "ax.scatter(x_drama,y_drama, marker='s', linewidth=7, color='black')\n",
    "\n",
    "\n",
    "ax.legend(['Comedy', 'Romance', 'Horror', 'Mystery', 'Action & Adventure', 'Animation',\n",
    "          'Art', 'Drama'], prop={\"size\":13}, fancybox=True, framealpha=1, shadow=True)\n",
    "\n",
    "ax.set_xlabel('Mean Tomato Ratings')\n",
    "ax.set_ylabel('Mean Gross Profit')\n",
    "ax.set_title('Average Ratings and Gross Profit per Genre')\n",
    "ax.set_facecolor('lightgrey')"
   ]
  },
  {
   "cell_type": "markdown",
   "id": "c835a862",
   "metadata": {},
   "source": [
    "**It appears that the Action & Adventure genre will bring the most domestic profit and have the highest rating**"
   ]
  },
  {
   "cell_type": "code",
   "execution_count": null,
   "id": "ad3cdc12",
   "metadata": {},
   "outputs": [],
   "source": []
  },
  {
   "cell_type": "code",
   "execution_count": null,
   "id": "bdbc71ba",
   "metadata": {},
   "outputs": [],
   "source": [
    "seasons_merged = pd.merge(df, df_gross, left_on='movie_title', right_on='title')\n",
    "df_rating_seasons = merged[['movie_title','genres', 'domestic_gross', 'original_release_date']].copy()"
   ]
  },
  {
   "cell_type": "code",
   "execution_count": null,
   "id": "4eea46b5",
   "metadata": {},
   "outputs": [],
   "source": [
    "df_rating_seasons"
   ]
  },
  {
   "cell_type": "code",
   "execution_count": null,
   "id": "5dd0866b",
   "metadata": {},
   "outputs": [],
   "source": [
    "df_rating_seasons.info()"
   ]
  },
  {
   "cell_type": "code",
   "execution_count": null,
   "id": "5d5f0a68",
   "metadata": {},
   "outputs": [],
   "source": [
    "df_rating_seasons.dropna(inplace=True)"
   ]
  },
  {
   "cell_type": "code",
   "execution_count": null,
   "id": "bfcb0450",
   "metadata": {},
   "outputs": [],
   "source": [
    "df_rating_seasons.drop_duplicates(subset='movie_title', keep='last' , inplace=True)\n",
    "df_rating_seasons"
   ]
  },
  {
   "cell_type": "code",
   "execution_count": null,
   "id": "19a8de26",
   "metadata": {},
   "outputs": [],
   "source": [
    "df_rating_seasons['genres'] = df_rating_seasons['genres'].str.split(',', expand = False)"
   ]
  },
  {
   "cell_type": "code",
   "execution_count": null,
   "id": "5443c63e",
   "metadata": {},
   "outputs": [],
   "source": [
    "df_rating_seasons = df_rating_seasons.explode('genres')"
   ]
  },
  {
   "cell_type": "code",
   "execution_count": null,
   "id": "7fa5fc63",
   "metadata": {},
   "outputs": [],
   "source": [
    "df_rating_seasons['genres'] = df_rating_seasons['genres'].str.strip()"
   ]
  },
  {
   "cell_type": "code",
   "execution_count": null,
   "id": "b41f002a",
   "metadata": {},
   "outputs": [],
   "source": [
    "df_rating_seasons['month'] = df_rating_seasons['original_release_date'].apply(lambda x: x[5:7])\n",
    "df_rating_seasons"
   ]
  },
  {
   "cell_type": "code",
   "execution_count": null,
   "id": "6a1be03f",
   "metadata": {},
   "outputs": [],
   "source": [
    "df_rating_seasons"
   ]
  },
  {
   "cell_type": "code",
   "execution_count": null,
   "id": "0b65f9ff",
   "metadata": {},
   "outputs": [],
   "source": [
    "df_rating_seasons['month_name'] = df_rating_seasons['month'].map({'01':'Janauary',\n",
    "'02':'February',\n",
    "'03':'March',\n",
    "'04':'April',\n",
    "'05':'May',\n",
    "'06':'June',\n",
    "'07':'July',\n",
    "'08':'August',\n",
    "'09':'September',\n",
    "'10':'October',\n",
    "'11':'November',\n",
    "'12':'December'})\n",
    "df_rating_seasons"
   ]
  },
  {
   "cell_type": "code",
   "execution_count": null,
   "id": "b18df816",
   "metadata": {},
   "outputs": [],
   "source": [
    "df_rating_seasons.dtypes"
   ]
  },
  {
   "cell_type": "code",
   "execution_count": null,
   "id": "918f7f03",
   "metadata": {},
   "outputs": [],
   "source": [
    "df_rating_seasons.dtypes"
   ]
  },
  {
   "cell_type": "code",
   "execution_count": null,
   "id": "acfeef61",
   "metadata": {},
   "outputs": [],
   "source": [
    "real_df = df_rating_seasons.groupby(['genres', 'month_name']).mean().reset_index()\n",
    "real_df"
   ]
  },
  {
   "cell_type": "code",
   "execution_count": null,
   "id": "459aefb1",
   "metadata": {},
   "outputs": [],
   "source": [
    "warnings.filterwarnings('ignore')\n",
    "fig, ax = plt.subplots(figsize=(15, 8))\n",
    "\n",
    "filtered = real_df.loc[(real_df['genres'] == 'Comedy')|(real_df['genres'] == 'Horror')|(real_df['genres']=='Action & Adventure')]\n",
    "x = sns.scatterplot(data = filtered, x = \"month_name\", y = \"domestic_gross\", hue ='genres', palette=['red','green','blue'], alpha=.75, s=100);\n",
    "\n",
    "ax.legend(prop={\"size\":15}, loc=1, fancybox=True, framealpha=1, shadow=True, \n",
    "           borderpad=1.5, facecolor='whitesmoke')\n",
    "x.set_xticklabels(['Jan', 'Feb','Mar','Apr','May','Jun','Jul','Aug','Sep','Oct','Nov','Dec'])\n",
    "ax.set_xlabel('Month', fontsize=20)\n",
    "ax.set_ylabel('Domestic Gross in U.S. Dollar', fontsize=20)\n",
    "ax.set_title('Average Gross per Month by Genre', fontsize=25);"
   ]
  },
  {
   "cell_type": "code",
   "execution_count": null,
   "id": "c8cb06f5",
   "metadata": {},
   "outputs": [],
   "source": []
  },
  {
   "cell_type": "code",
   "execution_count": null,
   "id": "e85d333d",
   "metadata": {},
   "outputs": [],
   "source": []
  },
  {
   "cell_type": "code",
   "execution_count": null,
   "id": "5601d0bf",
   "metadata": {},
   "outputs": [],
   "source": []
  },
  {
   "cell_type": "code",
   "execution_count": null,
   "id": "d9d108bb",
   "metadata": {},
   "outputs": [],
   "source": []
  },
  {
   "cell_type": "markdown",
   "id": "ca1501d5",
   "metadata": {},
   "source": [
    "Importing the different programs used"
   ]
  },
  {
   "cell_type": "code",
   "execution_count": null,
   "id": "228627a8",
   "metadata": {},
   "outputs": [],
   "source": [
    "import numpy as np"
   ]
  },
  {
   "cell_type": "code",
   "execution_count": null,
   "id": "9b42dd7e",
   "metadata": {},
   "outputs": [],
   "source": [
    "import pandas as pd"
   ]
  },
  {
   "cell_type": "code",
   "execution_count": null,
   "id": "83825624",
   "metadata": {},
   "outputs": [],
   "source": [
    "import seaborn as sns"
   ]
  },
  {
   "cell_type": "code",
   "execution_count": null,
   "id": "2ae0a66d",
   "metadata": {},
   "outputs": [],
   "source": [
    "import matplotlib.pyplot as plt\n",
    "%matplotlib inline"
   ]
  },
  {
   "cell_type": "markdown",
   "id": "695697df",
   "metadata": {},
   "source": [
    "Importing the Rotten Tomatoes data set"
   ]
  },
  {
   "cell_type": "code",
   "execution_count": null,
   "id": "ae039585",
   "metadata": {
    "scrolled": true
   },
   "outputs": [],
   "source": [
    "df = pd.read_csv('data/zippedData/rotten_tomatoes_movies.csv.gz')\n",
    "df"
   ]
  },
  {
   "cell_type": "markdown",
   "id": "30c83d97",
   "metadata": {},
   "source": [
    "Importing the Bom movie gross data set"
   ]
  },
  {
   "cell_type": "code",
   "execution_count": null,
   "id": "319b8faa",
   "metadata": {
    "scrolled": true
   },
   "outputs": [],
   "source": [
    "df_gross = pd.read_csv('data/zippedData/bom.movie_gross.csv.gz')\n",
    "df_gross"
   ]
  },
  {
   "cell_type": "markdown",
   "id": "f1bef436",
   "metadata": {},
   "source": [
    "Importing the movie budgets data set"
   ]
  },
  {
   "cell_type": "code",
   "execution_count": null,
   "id": "1de09385",
   "metadata": {
    "scrolled": true
   },
   "outputs": [],
   "source": [
    "df_budgets = pd.read_csv('data/zippedData/tn.movie_budgets.csv.gz')\n",
    "df_budgets"
   ]
  },
  {
   "cell_type": "markdown",
   "id": "5cce26ad",
   "metadata": {},
   "source": [
    "Replacing the '$' and ',' in the movie budgets dat set"
   ]
  },
  {
   "cell_type": "code",
   "execution_count": null,
   "id": "1cf1e9ea",
   "metadata": {
    "scrolled": true
   },
   "outputs": [],
   "source": [
    "df_budgets['production_budget'] = df_budgets['production_budget'].str.replace('$', '')\n",
    "df_budgets['domestic_gross'] = df_budgets['domestic_gross'].str.replace('$', '')\n",
    "df_budgets['production_budget'] = df_budgets['production_budget'].str.replace(',', '')\n",
    "df_budgets['domestic_gross'] = df_budgets['domestic_gross'].str.replace(',', '')\n",
    "df_budgets"
   ]
  },
  {
   "cell_type": "markdown",
   "id": "6b98240d",
   "metadata": {},
   "source": [
    "Converting domestic_gross and production_budget columns to numbers, and dropping the worldwide_gross column"
   ]
  },
  {
   "cell_type": "code",
   "execution_count": null,
   "id": "065f10f3",
   "metadata": {},
   "outputs": [],
   "source": [
    "df_budgets[['domestic_gross', 'production_budget']] = df_budgets[['domestic_gross', 'production_budget']].apply(pd.to_numeric)\n",
    "df_budgets = df_budgets.drop(columns=\"worldwide_gross\")\n",
    "df_budgets"
   ]
  },
  {
   "cell_type": "markdown",
   "id": "d8819ab0",
   "metadata": {},
   "source": [
    "Creating a 'profit' column by subtracting production_budget from domestic_gross"
   ]
  },
  {
   "cell_type": "code",
   "execution_count": null,
   "id": "42e69410",
   "metadata": {
    "scrolled": true
   },
   "outputs": [],
   "source": [
    "df_budgets[\"profit\"] = df_budgets[\"domestic_gross\"] - df_budgets[\"production_budget\"]\n",
    "df_budgets"
   ]
  },
  {
   "cell_type": "markdown",
   "id": "2b23ce58",
   "metadata": {},
   "source": [
    "Merged the Rotten Tomatoes data set with the Bom movie data set to create the rating_genres dataframe"
   ]
  },
  {
   "cell_type": "code",
   "execution_count": null,
   "id": "d62335f6",
   "metadata": {},
   "outputs": [],
   "source": [
    "merged = pd.merge(df, df_gross, left_on='movie_title', right_on='title')\n",
    "df_rating_genres = merged[['movie_title','genres', 'tomatometer_rating', 'domestic_gross']].copy()\n",
    "df_rating_genres"
   ]
  },
  {
   "cell_type": "markdown",
   "id": "f5add2c3",
   "metadata": {},
   "source": [
    "Dropping any null values from all columns in the rating_genres dataframe that we just merged"
   ]
  },
  {
   "cell_type": "code",
   "execution_count": null,
   "id": "3d04da02",
   "metadata": {},
   "outputs": [],
   "source": [
    "df_rating_genres.dropna(inplace=True)\n",
    "df_rating_genres"
   ]
  },
  {
   "cell_type": "markdown",
   "id": "eb497ebf",
   "metadata": {},
   "source": [
    "Dropping duplicates in the movie_title column"
   ]
  },
  {
   "cell_type": "code",
   "execution_count": null,
   "id": "9bf87a22",
   "metadata": {},
   "outputs": [],
   "source": [
    "df_rating_genres.drop_duplicates(subset='movie_title', keep='last' , inplace=True)\n",
    "df_rating_genres"
   ]
  },
  {
   "cell_type": "markdown",
   "id": "5507945a",
   "metadata": {},
   "source": [
    "Making the genres column values into a list"
   ]
  },
  {
   "cell_type": "code",
   "execution_count": null,
   "id": "7e852b5b",
   "metadata": {},
   "outputs": [],
   "source": [
    "df_rating_genres['genres'] = df_rating_genres['genres'].str.split(',', expand = False)\n",
    "df_rating_genres"
   ]
  },
  {
   "cell_type": "markdown",
   "id": "b7a2e893",
   "metadata": {},
   "source": [
    "Getting rid of the [ ] in each value of the column genres"
   ]
  },
  {
   "cell_type": "code",
   "execution_count": null,
   "id": "dca28088",
   "metadata": {
    "scrolled": true
   },
   "outputs": [],
   "source": [
    "df_rating_genres = df_rating_genres.explode('genres')\n",
    "df_rating_genres"
   ]
  },
  {
   "cell_type": "markdown",
   "id": "bd2ece0f",
   "metadata": {},
   "source": [
    "Getting rid of the commas in the genres column values"
   ]
  },
  {
   "cell_type": "code",
   "execution_count": null,
   "id": "a61a121c",
   "metadata": {
    "scrolled": true
   },
   "outputs": [],
   "source": [
    "df_rating_genres['genres'] = df_rating_genres['genres'].str.strip()\n",
    "df_rating_genres"
   ]
  },
  {
   "cell_type": "markdown",
   "id": "0f898c3b",
   "metadata": {},
   "source": [
    "Merging the df_rating_genres dataframe with the df_budgets dataframe, in order to get production_budget into the dataframe"
   ]
  },
  {
   "cell_type": "code",
   "execution_count": null,
   "id": "287b7e56",
   "metadata": {
    "scrolled": true
   },
   "outputs": [],
   "source": [
    "merged = pd.merge(df_rating_genres, df_budgets, left_on='movie_title', right_on='movie')\n",
    "df_production = merged[['movie', 'genres', 'production_budget']].copy()\n",
    "df_production"
   ]
  },
  {
   "cell_type": "markdown",
   "id": "dc7047ee",
   "metadata": {},
   "source": [
    "Sorting the production_budget column from greatest to least"
   ]
  },
  {
   "cell_type": "code",
   "execution_count": null,
   "id": "6404c20f",
   "metadata": {
    "scrolled": true
   },
   "outputs": [],
   "source": [
    "df_sorted = df_production.sort_values('production_budget', ascending=False)\n",
    "df_sorted"
   ]
  },
  {
   "cell_type": "markdown",
   "id": "dda049e2",
   "metadata": {},
   "source": [
    "Seaborn boxplot for Average spent on production"
   ]
  },
  {
   "cell_type": "code",
   "execution_count": null,
   "id": "dc3fc5a1",
   "metadata": {},
   "outputs": [],
   "source": [
    "df_sorted['new_x'] = df_sorted['production_budget'] / 100000\n",
    "new_x"
   ]
  },
  {
   "cell_type": "code",
   "execution_count": null,
   "id": "21ab20b2",
   "metadata": {},
   "outputs": [],
   "source": [
    "\n",
    "plot_fig_two, plot_two_ax = plt.subplots(figsize=(25, 20))\n",
    "\n",
    "sns.barplot(x='new_x', y='genres', data=df_sorted)\n",
    "\n",
    "plot_two_ax.set_xlabel('Average Spent on Production in Thousands', fontsize=45)\n",
    "plot_two_ax.set_ylabel('Genres', fontsize=45)\n",
    "plot_two_ax.set_title('Average Spent on Production by Genre', fontsize=60)\n",
    "\n",
    "locs, labels = plt.xticks(fontsize=30)\n",
    "locs, labels = plt.yticks(fontsize=30)\n",
    "#plt.setp(labels, rotation=90, fontsize=30)\n",
    "plt.savefig('average_production.png');"
   ]
  },
  {
   "cell_type": "code",
   "execution_count": null,
   "id": "62cd6c7a",
   "metadata": {},
   "outputs": [],
   "source": []
  },
  {
   "cell_type": "code",
   "execution_count": null,
   "id": "a081cdeb",
   "metadata": {},
   "outputs": [],
   "source": []
  },
  {
   "cell_type": "code",
   "execution_count": null,
   "id": "7f658e55",
   "metadata": {},
   "outputs": [],
   "source": []
  },
  {
   "cell_type": "markdown",
   "id": "51d4a19a",
   "metadata": {},
   "source": [
    "Importing the different programs used"
   ]
  },
  {
   "cell_type": "code",
   "execution_count": null,
   "id": "06b21fa4",
   "metadata": {},
   "outputs": [],
   "source": [
    "import numpy as np"
   ]
  },
  {
   "cell_type": "code",
   "execution_count": null,
   "id": "f6dbc1aa",
   "metadata": {},
   "outputs": [],
   "source": [
    "import pandas as pd"
   ]
  },
  {
   "cell_type": "code",
   "execution_count": null,
   "id": "01f897b4",
   "metadata": {},
   "outputs": [],
   "source": [
    "import seaborn as sns"
   ]
  },
  {
   "cell_type": "code",
   "execution_count": null,
   "id": "bbd7296c",
   "metadata": {},
   "outputs": [],
   "source": [
    "import matplotlib.pyplot as plt\n",
    "%matplotlib inline"
   ]
  },
  {
   "cell_type": "markdown",
   "id": "2a9cb764",
   "metadata": {},
   "source": [
    "Imorting the Rotten Tomatoes data set"
   ]
  },
  {
   "cell_type": "code",
   "execution_count": null,
   "id": "6ce093ea",
   "metadata": {
    "scrolled": true
   },
   "outputs": [],
   "source": [
    "df = pd.read_csv('data/zippedData/rotten_tomatoes_movies.csv.gz')\n",
    "df.head()"
   ]
  },
  {
   "cell_type": "markdown",
   "id": "36ee2753",
   "metadata": {},
   "source": [
    "Filtering the relevent columns from the Rotten Tomates data set"
   ]
  },
  {
   "cell_type": "code",
   "execution_count": null,
   "id": "324c04ac",
   "metadata": {},
   "outputs": [],
   "source": [
    "df = df[['movie_title', 'content_rating', 'audience_count']]\n",
    "df"
   ]
  },
  {
   "cell_type": "markdown",
   "id": "0df996d5",
   "metadata": {},
   "source": [
    "Sorting the movies by audience_count by greatest to least from the Rotten Tomatoes data set"
   ]
  },
  {
   "cell_type": "code",
   "execution_count": null,
   "id": "d73d8ef6",
   "metadata": {
    "scrolled": true
   },
   "outputs": [],
   "source": [
    "df = df.sort_values('audience_count', ascending=False)\n",
    "df"
   ]
  },
  {
   "cell_type": "markdown",
   "id": "b9b61057",
   "metadata": {},
   "source": [
    "Deleting null values from audience_count values"
   ]
  },
  {
   "cell_type": "code",
   "execution_count": null,
   "id": "560b8a7a",
   "metadata": {},
   "outputs": [],
   "source": [
    "df = df[df['audience_count'].notna()]\n",
    "df\n",
    "#audience_count column ordered from greatest to least, and NaN values dropped"
   ]
  },
  {
   "cell_type": "markdown",
   "id": "f989c020",
   "metadata": {},
   "source": [
    "Finding the mean for audience_count "
   ]
  },
  {
   "cell_type": "code",
   "execution_count": null,
   "id": "4ff6697d",
   "metadata": {},
   "outputs": [],
   "source": [
    "df['audience_count'].mean()\n"
   ]
  },
  {
   "cell_type": "markdown",
   "id": "b5c21d6a",
   "metadata": {},
   "source": [
    "Amount of movies in each content_rating"
   ]
  },
  {
   "cell_type": "code",
   "execution_count": null,
   "id": "fe9f9063",
   "metadata": {
    "scrolled": true
   },
   "outputs": [],
   "source": [
    "df.content_rating.value_counts()"
   ]
  },
  {
   "cell_type": "markdown",
   "id": "38ccee02",
   "metadata": {},
   "source": [
    "DataFrame with movies that have a value of R in content_rating"
   ]
  },
  {
   "cell_type": "code",
   "execution_count": null,
   "id": "74dac4a2",
   "metadata": {
    "scrolled": true
   },
   "outputs": [],
   "source": [
    "df_R = df.loc[df['content_rating'] == 'R']\n",
    "df_R"
   ]
  },
  {
   "cell_type": "markdown",
   "id": "aa2ed099",
   "metadata": {},
   "source": [
    "Mean audience_count for movies with a content_rating of R"
   ]
  },
  {
   "cell_type": "code",
   "execution_count": null,
   "id": "0d398fab",
   "metadata": {
    "scrolled": true
   },
   "outputs": [],
   "source": [
    "df_R.mean()"
   ]
  },
  {
   "cell_type": "markdown",
   "id": "e2870504",
   "metadata": {},
   "source": [
    "DataFrame with movies that have a value of PG-13 in content_rating"
   ]
  },
  {
   "cell_type": "code",
   "execution_count": null,
   "id": "698ae099",
   "metadata": {},
   "outputs": [],
   "source": [
    "df_PG13 = df.loc[df['content_rating'] == 'PG-13']\n",
    "df_PG13"
   ]
  },
  {
   "cell_type": "markdown",
   "id": "b3bc4733",
   "metadata": {},
   "source": [
    "Mean audience_count for movies with a content_rating of Pg-13"
   ]
  },
  {
   "cell_type": "code",
   "execution_count": null,
   "id": "4f159936",
   "metadata": {
    "scrolled": true
   },
   "outputs": [],
   "source": [
    "df_PG13.mean()"
   ]
  },
  {
   "cell_type": "markdown",
   "id": "c9f71d78",
   "metadata": {},
   "source": [
    "Seaborn barplot for Average Audience per Movie by Content rating"
   ]
  },
  {
   "cell_type": "code",
   "execution_count": null,
   "id": "dba05a12",
   "metadata": {},
   "outputs": [],
   "source": [
    "plot_fig, plot_ax = plt.subplots(figsize=(15, 12))\n",
    "\n",
    "sns.barplot(x=\"content_rating\", y=\"audience_count\", data=df)\n",
    "plot_ax.set_xlabel('Content Rating', fontsize=15)\n",
    "plot_ax.set_ylabel('Mean Audience Count', fontsize=15);\n",
    "plot_ax.set_title('Average Audience per Movie by Content Rating', fontsize=23);"
   ]
  },
  {
   "cell_type": "code",
   "execution_count": null,
   "id": "67e86e8a",
   "metadata": {},
   "outputs": [],
   "source": []
  }
 ],
 "metadata": {
  "kernelspec": {
   "display_name": "learn-env",
   "language": "python",
   "name": "learn-env"
  },
  "language_info": {
   "codemirror_mode": {
    "name": "ipython",
    "version": 3
   },
   "file_extension": ".py",
   "mimetype": "text/x-python",
   "name": "python",
   "nbconvert_exporter": "python",
   "pygments_lexer": "ipython3",
   "version": "3.8.5"
  }
 },
 "nbformat": 4,
 "nbformat_minor": 4
}
